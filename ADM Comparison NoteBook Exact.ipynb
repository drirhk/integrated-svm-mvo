{
 "cells": [
  {
   "cell_type": "markdown",
   "metadata": {
    "id": "MqN_y29M6YR8"
   },
   "source": [
    "# Integration of SVM and MVO \n",
    "\n",
    "This notebook performs a comparison of the integrated MVO-SVM min variance portfolios obtained via the exact MIP solve vs the ADM method\n"
   ]
  },
  {
   "cell_type": "markdown",
   "metadata": {
    "id": "w4mC7QWYiTHZ"
   },
   "source": []
  },
  {
   "cell_type": "code",
   "execution_count": 1,
   "metadata": {
    "colab": {
     "base_uri": "https://localhost:8080/"
    },
    "executionInfo": {
     "elapsed": 4714,
     "status": "ok",
     "timestamp": 1641365985336,
     "user": {
      "displayName": "Ryan Islip",
      "photoUrl": "https://lh3.googleusercontent.com/a-/AOh14GilWm_VaaGzVK5IBoUx-rWGsFz3XH3h1cea39928g=s64",
      "userId": "09447671168486293026"
     },
     "user_tz": 300
    },
    "id": "l3fEvFDq6PgZ",
    "outputId": "3410f9a9-9e8f-42c6-b06a-4616bdca3cd7"
   },
   "outputs": [
    {
     "name": "stdout",
     "output_type": "stream",
     "text": [
      "Set parameter Username\n",
      "Academic license - for non-commercial use only - expires 2023-08-09\n"
     ]
    },
    {
     "ename": "FileNotFoundError",
     "evalue": "[Errno 2] No such file or directory: 'DATA/Forecasts.pkl'",
     "output_type": "error",
     "traceback": [
      "\u001B[1;31m---------------------------------------------------------------------------\u001B[0m",
      "\u001B[1;31mFileNotFoundError\u001B[0m                         Traceback (most recent call last)",
      "Cell \u001B[1;32mIn [1], line 13\u001B[0m\n\u001B[0;32m     10\u001B[0m get_ipython()\u001B[38;5;241m.\u001B[39mrun_line_magic(\u001B[38;5;124m'\u001B[39m\u001B[38;5;124mmatplotlib\u001B[39m\u001B[38;5;124m'\u001B[39m, \u001B[38;5;124m'\u001B[39m\u001B[38;5;124minline\u001B[39m\u001B[38;5;124m'\u001B[39m)\n\u001B[0;32m     12\u001B[0m \u001B[38;5;66;03m## Import Forecasts\u001B[39;00m\n\u001B[1;32m---> 13\u001B[0m forecasts \u001B[38;5;241m=\u001B[39m \u001B[43mpd\u001B[49m\u001B[38;5;241;43m.\u001B[39;49m\u001B[43mread_pickle\u001B[49m\u001B[43m(\u001B[49m\u001B[43mpth\u001B[49m\u001B[43m \u001B[49m\u001B[38;5;241;43m+\u001B[39;49m\u001B[38;5;124;43m'\u001B[39;49m\u001B[38;5;124;43mDATA/Forecasts.pkl\u001B[39;49m\u001B[38;5;124;43m'\u001B[39;49m\u001B[43m)\u001B[49m\n\u001B[0;32m     14\u001B[0m \u001B[38;5;66;03m## Import Returns\u001B[39;00m\n\u001B[0;32m     15\u001B[0m rets \u001B[38;5;241m=\u001B[39m pd\u001B[38;5;241m.\u001B[39mread_pickle(pth \u001B[38;5;241m+\u001B[39m \u001B[38;5;124m'\u001B[39m\u001B[38;5;124mDATA/RETS.pkl\u001B[39m\u001B[38;5;124m'\u001B[39m)\n",
      "File \u001B[1;32m~\\anaconda3\\envs\\svmmvo\\lib\\site-packages\\pandas\\io\\pickle.py:187\u001B[0m, in \u001B[0;36mread_pickle\u001B[1;34m(filepath_or_buffer, compression, storage_options)\u001B[0m\n\u001B[0;32m    124\u001B[0m \u001B[38;5;124;03m\"\"\"\u001B[39;00m\n\u001B[0;32m    125\u001B[0m \u001B[38;5;124;03mLoad pickled pandas object (or any object) from file.\u001B[39;00m\n\u001B[0;32m    126\u001B[0m \n\u001B[1;32m   (...)\u001B[0m\n\u001B[0;32m    184\u001B[0m \u001B[38;5;124;03m4    4    9\u001B[39;00m\n\u001B[0;32m    185\u001B[0m \u001B[38;5;124;03m\"\"\"\u001B[39;00m  \u001B[38;5;66;03m# noqa: E501\u001B[39;00m\n\u001B[0;32m    186\u001B[0m excs_to_catch \u001B[38;5;241m=\u001B[39m (\u001B[38;5;167;01mAttributeError\u001B[39;00m, \u001B[38;5;167;01mImportError\u001B[39;00m, \u001B[38;5;167;01mModuleNotFoundError\u001B[39;00m, \u001B[38;5;167;01mTypeError\u001B[39;00m)\n\u001B[1;32m--> 187\u001B[0m \u001B[38;5;28;01mwith\u001B[39;00m \u001B[43mget_handle\u001B[49m\u001B[43m(\u001B[49m\n\u001B[0;32m    188\u001B[0m \u001B[43m    \u001B[49m\u001B[43mfilepath_or_buffer\u001B[49m\u001B[43m,\u001B[49m\n\u001B[0;32m    189\u001B[0m \u001B[43m    \u001B[49m\u001B[38;5;124;43m\"\u001B[39;49m\u001B[38;5;124;43mrb\u001B[39;49m\u001B[38;5;124;43m\"\u001B[39;49m\u001B[43m,\u001B[49m\n\u001B[0;32m    190\u001B[0m \u001B[43m    \u001B[49m\u001B[43mcompression\u001B[49m\u001B[38;5;241;43m=\u001B[39;49m\u001B[43mcompression\u001B[49m\u001B[43m,\u001B[49m\n\u001B[0;32m    191\u001B[0m \u001B[43m    \u001B[49m\u001B[43mis_text\u001B[49m\u001B[38;5;241;43m=\u001B[39;49m\u001B[38;5;28;43;01mFalse\u001B[39;49;00m\u001B[43m,\u001B[49m\n\u001B[0;32m    192\u001B[0m \u001B[43m    \u001B[49m\u001B[43mstorage_options\u001B[49m\u001B[38;5;241;43m=\u001B[39;49m\u001B[43mstorage_options\u001B[49m\u001B[43m,\u001B[49m\n\u001B[0;32m    193\u001B[0m \u001B[43m\u001B[49m\u001B[43m)\u001B[49m \u001B[38;5;28;01mas\u001B[39;00m handles:\n\u001B[0;32m    194\u001B[0m \n\u001B[0;32m    195\u001B[0m     \u001B[38;5;66;03m# 1) try standard library Pickle\u001B[39;00m\n\u001B[0;32m    196\u001B[0m     \u001B[38;5;66;03m# 2) try pickle_compat (older pandas version) to handle subclass changes\u001B[39;00m\n\u001B[0;32m    197\u001B[0m     \u001B[38;5;66;03m# 3) try pickle_compat with latin-1 encoding upon a UnicodeDecodeError\u001B[39;00m\n\u001B[0;32m    199\u001B[0m     \u001B[38;5;28;01mtry\u001B[39;00m:\n\u001B[0;32m    200\u001B[0m         \u001B[38;5;66;03m# TypeError for Cython complaints about object.__new__ vs Tick.__new__\u001B[39;00m\n\u001B[0;32m    201\u001B[0m         \u001B[38;5;28;01mtry\u001B[39;00m:\n",
      "File \u001B[1;32m~\\anaconda3\\envs\\svmmvo\\lib\\site-packages\\pandas\\io\\common.py:795\u001B[0m, in \u001B[0;36mget_handle\u001B[1;34m(path_or_buf, mode, encoding, compression, memory_map, is_text, errors, storage_options)\u001B[0m\n\u001B[0;32m    786\u001B[0m         handle \u001B[38;5;241m=\u001B[39m \u001B[38;5;28mopen\u001B[39m(\n\u001B[0;32m    787\u001B[0m             handle,\n\u001B[0;32m    788\u001B[0m             ioargs\u001B[38;5;241m.\u001B[39mmode,\n\u001B[1;32m   (...)\u001B[0m\n\u001B[0;32m    791\u001B[0m             newline\u001B[38;5;241m=\u001B[39m\u001B[38;5;124m\"\u001B[39m\u001B[38;5;124m\"\u001B[39m,\n\u001B[0;32m    792\u001B[0m         )\n\u001B[0;32m    793\u001B[0m     \u001B[38;5;28;01melse\u001B[39;00m:\n\u001B[0;32m    794\u001B[0m         \u001B[38;5;66;03m# Binary mode\u001B[39;00m\n\u001B[1;32m--> 795\u001B[0m         handle \u001B[38;5;241m=\u001B[39m \u001B[38;5;28;43mopen\u001B[39;49m\u001B[43m(\u001B[49m\u001B[43mhandle\u001B[49m\u001B[43m,\u001B[49m\u001B[43m \u001B[49m\u001B[43mioargs\u001B[49m\u001B[38;5;241;43m.\u001B[39;49m\u001B[43mmode\u001B[49m\u001B[43m)\u001B[49m\n\u001B[0;32m    796\u001B[0m     handles\u001B[38;5;241m.\u001B[39mappend(handle)\n\u001B[0;32m    798\u001B[0m \u001B[38;5;66;03m# Convert BytesIO or file objects passed with an encoding\u001B[39;00m\n",
      "\u001B[1;31mFileNotFoundError\u001B[0m: [Errno 2] No such file or directory: 'DATA/Forecasts.pkl'"
     ]
    }
   ],
   "source": [
    "import gurobipy as gp\n",
    "from gurobipy import GRB\n",
    "pth = ''\n",
    "import sys\n",
    "import math\n",
    "import time\n",
    "sys.path.append(pth + 'SVM MVO/PYFILES/')\n",
    "from python.packages import *\n",
    "from python.svm_mvo import *\n",
    "%matplotlib inline\n",
    "\n",
    "## Import Forecasts\n",
    "forecasts = pd.read_pickle(pth +'DATA/Forecasts.pkl')\n",
    "## Import Returns\n",
    "rets = pd.read_pickle(pth + 'DATA/RETS.pkl')\n",
    "## Import feature vectors\n",
    "wrds_svm = pd.read_pickle(pth + 'DATA/WRDS_ASOF.pkl')\n",
    "## Import monthly prices\n",
    "prices = pd.read_pickle(pth + 'DATA/PRICES.pkl')"
   ]
  },
  {
   "cell_type": "code",
   "execution_count": 3,
   "metadata": {
    "colab": {
     "base_uri": "https://localhost:8080/"
    },
    "executionInfo": {
     "elapsed": 7,
     "status": "ok",
     "timestamp": 1641366050678,
     "user": {
      "displayName": "Ryan Islip",
      "photoUrl": "https://lh3.googleusercontent.com/a-/AOh14GilWm_VaaGzVK5IBoUx-rWGsFz3XH3h1cea39928g=s64",
      "userId": "09447671168486293026"
     },
     "user_tz": 300
    },
    "id": "5NswPR4F6Wvy",
    "outputId": "0f67bb5f-8d66-4628-d6e7-b3eb1452c668"
   },
   "outputs": [
    {
     "data": {
      "text/plain": "Timestamp('2001-03-01 00:00:00')"
     },
     "execution_count": 3,
     "metadata": {},
     "output_type": "execute_result"
    }
   ],
   "source": [
    "mth = rets.index[8]\n",
    "mth"
   ]
  },
  {
   "cell_type": "code",
   "execution_count": 4,
   "metadata": {
    "colab": {
     "base_uri": "https://localhost:8080/"
    },
    "executionInfo": {
     "elapsed": 130,
     "status": "ok",
     "timestamp": 1641367405233,
     "user": {
      "displayName": "Ryan Islip",
      "photoUrl": "https://lh3.googleusercontent.com/a-/AOh14GilWm_VaaGzVK5IBoUx-rWGsFz3XH3h1cea39928g=s64",
      "userId": "09447671168486293026"
     },
     "user_tz": 300
    },
    "id": "nYBpVMDbM5Pi",
    "outputId": "e15e7afe-421a-4fdb-d2c2-5374c696da75"
   },
   "outputs": [
    {
     "name": "stdout",
     "output_type": "stream",
     "text": [
      "valid tickers: ['AAPL', 'ABC', 'ABMD', 'ABT', 'ADBE', 'ADI', 'ADM', 'ADP', 'ADSK', 'AEE', 'AEP', 'AES', 'AJG', 'AKAM', 'ALB', 'ALK', 'AMAT', 'AMD', 'AME', 'AMGN', 'AMT', 'AMZN', 'ANSS', 'AON', 'AOS', 'APA', 'APD', 'APH', 'ATO', 'AVY', 'AZO', 'BA', 'BAX', 'BBY', 'BDX', 'BKNG', 'BLL', 'BMY', 'BSX', 'BWA', 'CAG', 'CAH', 'CAT', 'CCI', 'CCL', 'CDNS', 'CERN', 'CHD', 'CHRW', 'CI', 'CL', 'CLX', 'CMCSA', 'CMI', 'CMS', 'CNP', 'COO', 'COP', 'COST', 'CPB', 'CPRT', 'CSCO', 'CSX', 'CTAS', 'CTSH', 'CTXS', 'CVS', 'CVX', 'D', 'DD', 'DGX', 'DHR', 'DIS', 'DISH', 'DLTR', 'DOV', 'DRI', 'DTE', 'DUK', 'DVA', 'DVN', 'DXC', 'EA', 'EBAY', 'ECL', 'ED', 'EFX', 'EIX', 'EL', 'EMN', 'EMR', 'EOG', 'ES', 'ETN', 'ETR', 'EVRG', 'EXC', 'EXPD', 'F', 'FAST', 'FCX', 'FDX', 'FE', 'FFIV', 'FISV', 'FLS', 'FMC', 'GD', 'GIS', 'GLW', 'GPC', 'GPS', 'GWW', 'HAL', 'HAS', 'HD', 'HES', 'HFC', 'HOG', 'HOLX', 'HON', 'HP', 'HPQ', 'HRB', 'HRL', 'HSIC', 'HSY', 'HUM', 'IBM', 'IDXX', 'IEX', 'IFF', 'INCY', 'INTC', 'INTU', 'IP', 'IPG', 'IRM', 'IT', 'ITW', 'IVZ', 'J', 'JBHT', 'JCI', 'JKHY', 'JNJ', 'JNPR', 'JWN', 'K', 'KLAC', 'KMB', 'KMX', 'KO', 'KR', 'KSS', 'KSU', 'LEG', 'LH', 'LHX', 'LIN', 'LLY', 'LMT', 'LNT', 'LOW', 'LRCX', 'LUV', 'M', 'MAR', 'MAS', 'MCD', 'MCHP', 'MCK', 'MCO', 'MDT', 'MGM', 'MHK', 'MKC', 'MLM', 'MMC', 'MMM', 'MO', 'MRK', 'MRO', 'MSFT', 'MSI', 'MTD', 'MU', 'MXIM', 'NEE', 'NEM', 'NI', 'NKE', 'NLOK', 'NOC', 'NOV', 'NSC', 'NTAP', 'NUE', 'NVDA', 'NWL', 'OMC', 'ORCL', 'ORLY', 'OXY', 'PAYX', 'PEG', 'PEP', 'PFE', 'PG', 'PH', 'PKI', 'PNR', 'PNW', 'PPG', 'PPL', 'PRGO', 'PVH', 'PWR', 'PXD', 'QCOM', 'RCL', 'REGN', 'RHI', 'RL', 'RMD', 'ROK', 'ROL', 'ROP', 'ROST', 'RSG', 'RTX', 'SBAC', 'SBUX', 'SEE', 'SHW', 'SJM', 'SLB', 'SNA', 'SNPS', 'SO', 'SPGI', 'SRE', 'STE', 'STZ', 'SWK', 'SWKS', 'SYK', 'SYY', 'T', 'TAP', 'TFX', 'TGT', 'TJX', 'TMO', 'TSCO', 'TSN', 'TT', 'TXN', 'TXT', 'UHS', 'UNH', 'UNP', 'URI', 'VFC', 'VLO', 'VMC', 'VRSN', 'VRTX', 'VZ', 'WAB', 'WAT', 'WBA', 'WDC', 'WEC', 'WHR', 'WM', 'WMB', 'WMT', 'WY', 'XEL', 'XLNX', 'XOM', 'XRAY', 'XRX', 'YUM', 'ZBRA']\n"
     ]
    }
   ],
   "source": [
    "#convenient function\n",
    "sign = lambda a: int((a>0)) - int((a<0))\n",
    "\n",
    "#preprocessing \n",
    "cov_, mean_ = forecasts[mth]\n",
    "N = len(mean_)\n",
    "cov = cov_[:N,:N]\n",
    "mean = mean_[:N,:]\n",
    "tics = list(rets.columns[:N])\n",
    "print(\"valid tickers:\", tics)\n",
    "#get the wharton research data for the valid tickers for the month\n",
    "wrds_tics = wrds_svm[wrds_svm.index.get_level_values('tic').isin(tics)].xs(mth, level=\"MonthStart\")\n",
    "#restrict the wharton research data to the columns of interest\n",
    "Y = wrds_tics.loc[:,\"ROC1\":\"Momentum\"] # Y matrix in formulation \n",
    "Y_ =  (Y - Y.mean(axis=0))/(Y.std(axis=0))\n",
    "Y_ = Y_.iloc[:,:]\n",
    "#Y_ = Y_[['ROC1', 'INV1', 'PRO1'\t, 'GRW1', 'LEV1', 'LIQ1']]\n",
    "cols = ['LEV1', 'GRW1', 'ROC1', 'PRO1', 'Momentum']\n",
    "Y_ = Y_[cols]\n",
    "#Y_['momentum'] = mean\n",
    "AssetLim = math.floor(N*0.8)\n",
    "\n",
    "ret_constr = -1\n",
    "soft_margin = 2000"
   ]
  },
  {
   "cell_type": "markdown",
   "metadata": {
    "id": "K7you9bPfMGK"
   },
   "source": [
    "### Mean Variance and SVM Joint Using Alternating Directions Method Class Definition"
   ]
  },
  {
   "cell_type": "code",
   "execution_count": 5,
   "metadata": {
    "colab": {
     "base_uri": "https://localhost:8080/"
    },
    "executionInfo": {
     "elapsed": 76521,
     "status": "ok",
     "timestamp": 1641367483752,
     "user": {
      "displayName": "Ryan Islip",
      "photoUrl": "https://lh3.googleusercontent.com/a-/AOh14GilWm_VaaGzVK5IBoUx-rWGsFz3XH3h1cea39928g=s64",
      "userId": "09447671168486293026"
     },
     "user_tz": 300
    },
    "id": "0lHbqvBLqfkO",
    "outputId": "01c97cd4-40dc-4c26-f0da-b64a565fa529"
   },
   "outputs": [
    {
     "name": "stdout",
     "output_type": "stream",
     "text": [
      "Set parameter MIPGap to value 0.05\n",
      "Set parameter TimeLimit to value 60\n",
      "Solution time 30.37742805480957\n"
     ]
    }
   ],
   "source": [
    "MVO_ = MVO(tics, mean, cov, ret_constr, Y_, AssetLim)\n",
    "SVM_ = SVM(tics, Y_ , soft_margin)\n",
    "SVM_MVO_Fast = SVM_MVO_ADM(MVO_, SVM_, IterLim = 10, ParamLim = 15)\n",
    "SVM_MVO_Fast.MVO_.model.params.MIPGap = 0.05 \n",
    "SVM_MVO_Fast.SVM_.model.params.timelimit = 60\n",
    "SVM_MVO_Fast.MVO_.model.params.OutputFlag = 0\n",
    "SVM_MVO_Fast.SVM_.model.params.OutputFlag = 0\n",
    "start = time.time()\n",
    "SVM_MVO_Fast.initialize_soln()\n",
    "ws , xs, zs , xi_mvo, xi_svm, dt, objs_svm, objs_mvo = SVM_MVO_Fast.solve_ADM()\n",
    "end = time.time()\n",
    "print(\"Solution time\", end - start)"
   ]
  },
  {
   "cell_type": "markdown",
   "metadata": {
    "id": "KkuQOko4eqM0"
   },
   "source": [
    "### ADM method with individual updates on the penalty parameters"
   ]
  },
  {
   "cell_type": "code",
   "execution_count": 6,
   "metadata": {
    "colab": {
     "base_uri": "https://localhost:8080/"
    },
    "collapsed": true,
    "executionInfo": {
     "elapsed": 31480,
     "status": "ok",
     "timestamp": 1641367518551,
     "user": {
      "displayName": "Ryan Islip",
      "photoUrl": "https://lh3.googleusercontent.com/a-/AOh14GilWm_VaaGzVK5IBoUx-rWGsFz3XH3h1cea39928g=s64",
      "userId": "09447671168486293026"
     },
     "user_tz": 300
    },
    "id": "YMdmVDm9pkyo",
    "outputId": "ddfd647c-8dbe-435a-a3b0-f81f979404a6"
   },
   "outputs": [
    {
     "name": "stdout",
     "output_type": "stream",
     "text": [
      "Set parameter MIPGap to value 0.05\n",
      "Set parameter TimeLimit to value 60\n",
      "Stalling at Infeasible Point\n",
      "SVM  0.07263871109545679\n",
      "MVO  0.07262819945961772\n",
      "Stalling at Infeasible Point\n",
      "SVM  0.0008328282564668694\n",
      "MVO  0.0008328168377565092\n",
      "ADM terminated with average value of C =  247.69005408653845\n",
      "Solution time 20.584164142608643\n"
     ]
    }
   ],
   "source": [
    "MVO_2 = MVO(tics, mean, cov, ret_constr, Y_, AssetLim)\n",
    "SVM_2 = SVM(tics, Y_ , soft_margin*np.ones_like(mean))\n",
    "\n",
    "SVM_MVO_Fast_v2 = SVM_MVO_ADM_v2(MVO_2, SVM_2, IterLim = 10, ParamLim = 15)\n",
    "SVM_MVO_Fast_v2.MVO_.model.params.MIPGap = 0.05 \n",
    "SVM_MVO_Fast_v2.SVM_.model.params.timelimit = 60\n",
    "SVM_MVO_Fast_v2.MVO_.model.params.OutputFlag = 0\n",
    "SVM_MVO_Fast_v2.SVM_.model.params.OutputFlag = 0\n",
    "start = time.time()\n",
    "SVM_MVO_Fast_v2.initialize_soln()\n",
    "ws_2, xs_2, zs_2 , xi_mvo_2, xi_svm_2, dt_2, objs_svm_2, objs_mvo_2 = SVM_MVO_Fast_v2.solve_ADM()\n",
    "end = time.time()\n",
    "print(\"Solution time\", end - start)"
   ]
  },
  {
   "cell_type": "code",
   "execution_count": 7,
   "metadata": {
    "colab": {
     "base_uri": "https://localhost:8080/",
     "height": 924
    },
    "executionInfo": {
     "elapsed": 351,
     "status": "ok",
     "timestamp": 1641367612411,
     "user": {
      "displayName": "Ryan Islip",
      "photoUrl": "https://lh3.googleusercontent.com/a-/AOh14GilWm_VaaGzVK5IBoUx-rWGsFz3XH3h1cea39928g=s64",
      "userId": "09447671168486293026"
     },
     "user_tz": 300
    },
    "id": "EurpLSBI_33t",
    "outputId": "1843a957-5c38-46a7-a125-7c7241cdafa3"
   },
   "outputs": [
    {
     "data": {
      "text/plain": "array([[2.03181848e-04, 8.62742653e-13, 3.59424981e-05, 1.32698337e-04,\n        5.93762031e-15],\n       [3.05163416e-03, 1.54556339e-04, 1.57190448e-05, 2.87224437e-03,\n        1.32410330e-09],\n       [2.81135824e-03, 2.08427251e-04, 6.51695063e-05, 2.89068410e-03,\n        2.32843731e-09],\n       [2.31933016e-03, 2.83051061e-04, 4.36461840e-04, 2.18449921e-03,\n        2.36000621e-09],\n       [1.59374289e-03, 3.25093374e-04, 6.73757859e-04, 1.64189972e-03,\n        2.02707304e-08],\n       [1.59374289e-03, 3.25093374e-04, 6.73757859e-04, 1.64189972e-03,\n        2.02707304e-08],\n       [1.59374289e-03, 3.25093374e-04, 6.73757859e-04, 1.64189972e-03,\n        2.02707304e-08],\n       [1.59374289e-03, 3.25093374e-04, 6.73757859e-04, 1.64189972e-03,\n        2.02707304e-08],\n       [1.59374289e-03, 3.25093374e-04, 6.73757859e-04, 1.64189972e-03,\n        2.02707304e-08],\n       [1.59374289e-03, 3.25093374e-04, 6.73757859e-04, 1.64189972e-03,\n        2.02707304e-08],\n       [1.59374289e-03, 3.25093374e-04, 6.73757859e-04, 1.64189972e-03,\n        2.02707304e-08],\n       [1.63872722e-03, 3.24940259e-04, 8.41704309e-04, 1.61276054e-03,\n        9.15867519e-05],\n       [6.65495850e-03, 1.25372594e-03, 3.71961040e-03, 5.03160393e-03,\n        3.00693422e-04],\n       [6.60729158e-03, 1.17482947e-03, 3.80806058e-03, 4.87851997e-03,\n        2.39096321e-04],\n       [6.58137693e-03, 1.19771665e-03, 3.91819667e-03, 4.54834290e-03,\n        2.07390260e-04],\n       [6.58137693e-03, 1.19771665e-03, 3.91819667e-03, 4.54834290e-03,\n        2.07390260e-04],\n       [6.58137693e-03, 1.19771665e-03, 3.91819667e-03, 4.54834290e-03,\n        2.07390260e-04],\n       [1.53383012e-02, 2.77308538e-03, 8.74283503e-03, 9.59957839e-03,\n        6.71449141e-04],\n       [1.53383012e-02, 2.77308538e-03, 8.74283503e-03, 9.59957839e-03,\n        6.71449141e-04],\n       [1.53383012e-02, 2.77308538e-03, 8.74283503e-03, 9.59957839e-03,\n        6.71449141e-04],\n       [3.68569433e-02, 7.95175460e-03, 2.35062343e-02, 2.49594749e-02,\n        5.54326670e-04],\n       [3.68569433e-02, 7.95175460e-03, 2.35062343e-02, 2.49594749e-02,\n        5.54326670e-04],\n       [3.68569433e-02, 7.95175460e-03, 2.35062343e-02, 2.49594749e-02,\n        5.54326670e-04],\n       [4.52891120e-02, 9.70563155e-03, 3.03894001e-02, 2.77711616e-02,\n        2.17535451e-04],\n       [4.52891120e-02, 9.70563155e-03, 3.03894001e-02, 2.77711616e-02,\n        2.17535451e-04],\n       [4.52891120e-02, 9.70563155e-03, 3.03894001e-02, 2.77711616e-02,\n        2.17535451e-04],\n       [4.52891120e-02, 9.70563155e-03, 3.03894001e-02, 2.77711616e-02,\n        2.17535451e-04]])"
     },
     "execution_count": 7,
     "metadata": {},
     "output_type": "execute_result"
    },
    {
     "data": {
      "text/plain": "<Figure size 640x480 with 1 Axes>",
      "image/png": "[encoded data removed]"
     },
     "metadata": {},
     "output_type": "display_data"
    }
   ],
   "source": [
    "#plt.plot(ws[:,1])\n",
    "np.abs(SVM_MVO_Fast_v2.SVM_.w.x).sum()*10**(-3)\n",
    "plt.plot(ws_2)\n",
    "plt.plot(ws)\n",
    "ws_2"
   ]
  },
  {
   "cell_type": "markdown",
   "metadata": {
    "id": "XxGCqUt7E3x1"
   },
   "source": [
    "##Exact MIP Solution "
   ]
  },
  {
   "cell_type": "code",
   "execution_count": 8,
   "metadata": {
    "id": "pYWso3OSHxIy"
   },
   "outputs": [
    {
     "ename": "TypeError",
     "evalue": "'float' object is not iterable",
     "output_type": "error",
     "traceback": [
      "\u001B[1;31m---------------------------------------------------------------------------\u001B[0m",
      "\u001B[1;31mTypeError\u001B[0m                                 Traceback (most recent call last)",
      "Cell \u001B[1;32mIn [8], line 2\u001B[0m\n\u001B[0;32m      1\u001B[0m \u001B[38;5;66;03m#SVM with slack \u001B[39;00m\n\u001B[1;32m----> 2\u001B[0m SVM_MVO_Slck \u001B[38;5;241m=\u001B[39m \u001B[43mSVMMVO\u001B[49m\u001B[43m(\u001B[49m\u001B[43mtics\u001B[49m\u001B[43m,\u001B[49m\u001B[43m \u001B[49m\u001B[43mmean\u001B[49m\u001B[43m,\u001B[49m\u001B[43m \u001B[49m\u001B[43mcov\u001B[49m\u001B[43m,\u001B[49m\u001B[43m \u001B[49m\u001B[43mret_constr\u001B[49m\u001B[43m,\u001B[49m\u001B[43m \u001B[49m\u001B[43msoft_margin\u001B[49m\u001B[43m,\u001B[49m\u001B[43m \u001B[49m\u001B[43mY_\u001B[49m\u001B[43m,\u001B[49m\u001B[43m \u001B[49m\u001B[43mAssetLim\u001B[49m\u001B[43m,\u001B[49m\u001B[43m \u001B[49m\u001B[43m\\\u001B[49m\n\u001B[0;32m      3\u001B[0m \u001B[43m                      \u001B[49m\u001B[43msvm_choice\u001B[49m\u001B[43m \u001B[49m\u001B[38;5;241;43m=\u001B[39;49m\u001B[43m \u001B[49m\u001B[43m(\u001B[49m\u001B[38;5;28;43;01mTrue\u001B[39;49;00m\u001B[43m,\u001B[49m\u001B[43m \u001B[49m\u001B[38;5;28;43;01mTrue\u001B[39;49;00m\u001B[43m)\u001B[49m\u001B[43m,\u001B[49m\u001B[43m \u001B[49m\u001B[43mprint_var_frntr\u001B[49m\u001B[43m \u001B[49m\u001B[38;5;241;43m=\u001B[39;49m\u001B[43m \u001B[49m\u001B[38;5;28;43;01mFalse\u001B[39;49;00m\u001B[43m,\u001B[49m\u001B[43m \u001B[49m\u001B[43mindicator\u001B[49m\u001B[43m \u001B[49m\u001B[38;5;241;43m=\u001B[39;49m\u001B[43m \u001B[49m\u001B[38;5;28;43;01mFalse\u001B[39;49;00m\u001B[43m)\u001B[49m\n",
      "File \u001B[1;32m~\\Documents\\SVM MVO\\Project\\PYFILES\\svm_mvo.py:62\u001B[0m, in \u001B[0;36mSVMMVO.__init__\u001B[1;34m(self, tics, mean_ret, cov, ret_constr, soft_margin, exogenous, asset_lim, svm_choice, print_var_frntr, indicator, cardinality, non_neg, lower_asset_lim)\u001B[0m\n\u001B[0;32m     60\u001B[0m \u001B[38;5;28;01mif\u001B[39;00m non_neg:\n\u001B[0;32m     61\u001B[0m     \u001B[38;5;28mself\u001B[39m\u001B[38;5;241m.\u001B[39mw \u001B[38;5;241m=\u001B[39m \u001B[38;5;28mself\u001B[39m\u001B[38;5;241m.\u001B[39mmodel\u001B[38;5;241m.\u001B[39maddMVar(m)\n\u001B[1;32m---> 62\u001B[0m     \u001B[38;5;28mself\u001B[39m\u001B[38;5;241m.\u001B[39mb \u001B[38;5;241m=\u001B[39m \u001B[38;5;28;43mself\u001B[39;49m\u001B[38;5;241;43m.\u001B[39;49m\u001B[43mmodel\u001B[49m\u001B[38;5;241;43m.\u001B[39;49m\u001B[43maddMVar\u001B[49m\u001B[43m(\u001B[49m\u001B[38;5;241;43m1.0\u001B[39;49m\u001B[43m)\u001B[49m\n\u001B[0;32m     63\u001B[0m \u001B[38;5;28;01melse\u001B[39;00m:\n\u001B[0;32m     64\u001B[0m     \u001B[38;5;28mself\u001B[39m\u001B[38;5;241m.\u001B[39mw \u001B[38;5;241m=\u001B[39m \u001B[38;5;28mself\u001B[39m\u001B[38;5;241m.\u001B[39mmodel\u001B[38;5;241m.\u001B[39maddMVar(m, lb\u001B[38;5;241m=\u001B[39m\u001B[38;5;241m-\u001B[39m\u001B[38;5;241m1\u001B[39m \u001B[38;5;241m*\u001B[39m np\u001B[38;5;241m.\u001B[39minf)\n",
      "File \u001B[1;32msrc\\gurobipy\\model.pxi:2995\u001B[0m, in \u001B[0;36mgurobipy.Model.addMVar\u001B[1;34m()\u001B[0m\n",
      "File \u001B[1;32msrc\\gurobipy\\model.pxi:2799\u001B[0m, in \u001B[0;36mgurobipy.Model.addVars\u001B[1;34m()\u001B[0m\n",
      "File \u001B[1;32msrc\\gurobipy\\model.pxi:257\u001B[0m, in \u001B[0;36mgurobipy.__listify.__init__\u001B[1;34m()\u001B[0m\n",
      "\u001B[1;31mTypeError\u001B[0m: 'float' object is not iterable"
     ]
    }
   ],
   "source": [
    "#SVM with slack \n",
    "SVM_MVO_Slck = SVMMVO(tics, mean, cov, ret_constr, soft_margin, Y_, AssetLim, \\\n",
    "                      svm_choice = (True, True), print_var_frntr = False, indicator = False)\n",
    "# starts = [SVM_MVO_Fast.x.x, SVM_MVO_Fast.z.x, SVM_MVO_Fast.w.x, SVM_MVO_Fast.b.x]\n",
    "# SVM_MVO_Slck.set_model(start = starts)\n",
    "# # SVM_MVO_Slck.model.params.Presolve = 2\n",
    "# # SVM_MVO_Slck.model.Params.ImpliedCuts = 2\n",
    "# SVM_MVO_Slck.optimize()"
   ]
  },
  {
   "cell_type": "code",
   "execution_count": null,
   "metadata": {
    "colab": {
     "base_uri": "https://localhost:8080/"
    },
    "executionInfo": {
     "elapsed": 16182,
     "status": "ok",
     "timestamp": 1641367635679,
     "user": {
      "displayName": "Ryan Islip",
      "photoUrl": "https://lh3.googleusercontent.com/a-/AOh14GilWm_VaaGzVK5IBoUx-rWGsFz3XH3h1cea39928g=s64",
      "userId": "09447671168486293026"
     },
     "user_tz": 300
    },
    "id": "TS8ZFw_SYBkx",
    "outputId": "008e424e-f8d1-4cb7-8247-5c0d5affa0b8"
   },
   "outputs": [
    {
     "name": "stdout",
     "output_type": "stream",
     "text": [
      "Discarded solution information including additional information\n",
      "Gurobi Optimizer version 9.1.2 build v9.1.2rc0 (linux64)\n",
      "Thread count: 1 physical cores, 2 logical processors, using up to 2 threads\n",
      "Optimize a model with 861 rows, 1150 columns and 6006 nonzeros\n",
      "Model fingerprint: 0x62fa3da6\n",
      "Model has 41046 quadratic objective terms\n",
      "Variable types: 864 continuous, 286 integer (286 binary)\n",
      "Coefficient statistics:\n",
      "  Matrix range     [5e-05, 1e+02]\n",
      "  Objective range  [7e+00, 7e+00]\n",
      "  QObjective range [7e-08, 1e+00]\n",
      "  Bounds range     [1e+00, 1e+00]\n",
      "  RHS range        [1e-03, 2e+02]\n",
      "Found heuristic solution: objective 4.000000e+12\n",
      "Presolve removed 1 rows and 286 columns\n",
      "Presolve time: 0.02s\n",
      "Presolved: 860 rows, 864 columns, 5720 nonzeros\n",
      "Presolved model has 41046 quadratic objective terms\n",
      "Variable types: 578 continuous, 286 integer (286 binary)\n",
      "\n",
      "Root relaxation: objective 5.424763e-04, 673 iterations, 0.02 seconds\n",
      "\n",
      "    Nodes    |    Current Node    |     Objective Bounds      |     Work\n",
      " Expl Unexpl |  Obj  Depth IntInf | Incumbent    BestBd   Gap | It/Node Time\n",
      "\n",
      "     0     0    0.00054    0  286 4.0000e+12    0.00054   100%     -    0s\n",
      "H    0     0                       1.7419659    0.00054   100%     -    0s\n",
      "     0     0    0.00054    0  286    1.74197    0.00054   100%     -    0s\n",
      "     0     2    0.00054    0  286    1.74197    0.00054   100%     -    0s\n",
      "H   26    26                       1.7079036    0.00054   100%  26.2    0s\n",
      "H   78    78                       1.6890096    0.00054   100%  18.0    0s\n",
      "H   81    81                       1.5235145    0.00054   100%  18.1    0s\n",
      "H  104   104                       1.4721166    0.00054   100%  18.6    0s\n",
      "H  161   161                       1.0603956    0.00054   100%  20.9    0s\n",
      "H  260   260                       0.8681965    0.00054   100%  20.9    1s\n",
      "H  262   262                       0.8285316    0.00054   100%  20.9    1s\n",
      "H  286   286                       0.8260502    0.00054   100%  21.5    1s\n",
      "H  312   312                       0.6293655    0.00054   100%  21.0    1s\n",
      "H  312   312                       0.5785207    0.00054   100%  21.0    1s\n",
      "H  338   338                       0.5468140    0.00054   100%  19.6    1s\n",
      "*  347   347             239       0.2902827    0.00054   100%  19.8    1s\n",
      "H  364   346                       0.2689091    0.00054   100%  22.3    1s\n",
      "H  388   105                       0.0026666    0.00054  79.7%  22.9    1s\n",
      "   548   144    0.00094   28  117    0.00267    0.00055  79.5%  26.0    5s\n",
      "*  809    97             103       0.0016401    0.00055  66.7%  23.6    7s\n",
      "  1426   244    0.00058   16  103    0.00164    0.00055  66.7%  17.3   10s\n",
      "* 1490   193              74       0.0015401    0.00055  64.5%  16.9   10s\n",
      "H 1969   444                       0.0014738    0.00055  62.9%  17.1   13s\n",
      "\n",
      "Cutting planes:\n",
      "  Implied bound: 11\n",
      "  Clique: 1\n",
      "  Flow cover: 9\n",
      "  Relax-and-lift: 26\n",
      "\n",
      "Explored 2004 nodes (35131 simplex iterations) in 13.77 seconds\n",
      "Thread count was 2 (of 2 available processors)\n",
      "\n",
      "Solution count 10: 0.00147378 0.00154013 0.00164005 ... 0.82605\n",
      "\n",
      "Solve interrupted\n",
      "Best objective 1.473778549244e-03, best bound 5.462989177120e-04, gap 62.9321%\n"
     ]
    },
    {
     "data": {
      "text/plain": [
       "13.797144889831543"
      ]
     },
     "execution_count": 26,
     "metadata": {},
     "output_type": "execute_result"
    }
   ],
   "source": [
    "SVM_MVO_Slck.model.reset(clearall = 1)\n",
    "SVM_MVO_Slck.set_model()\n",
    "SVM_MVO_Slck.optimize()"
   ]
  },
  {
   "cell_type": "code",
   "execution_count": null,
   "metadata": {
    "colab": {
     "base_uri": "https://localhost:8080/"
    },
    "executionInfo": {
     "elapsed": 62577,
     "status": "ok",
     "timestamp": 1641367701044,
     "user": {
      "displayName": "Ryan Islip",
      "photoUrl": "https://lh3.googleusercontent.com/a-/AOh14GilWm_VaaGzVK5IBoUx-rWGsFz3XH3h1cea39928g=s64",
      "userId": "09447671168486293026"
     },
     "user_tz": 300
    },
    "id": "ly9gC20ww-UC",
    "outputId": "7dcb4c20-e2c5-44ce-ded3-08db0983c327"
   },
   "outputs": [
    {
     "name": "stdout",
     "output_type": "stream",
     "text": [
      "Discarded solution information including additional information\n",
      "Gurobi Optimizer version 9.1.2 build v9.1.2rc0 (linux64)\n",
      "Thread count: 1 physical cores, 2 logical processors, using up to 2 threads\n",
      "Optimize a model with 1721 rows, 1150 columns and 11726 nonzeros\n",
      "Model fingerprint: 0x7f4ce0fa\n",
      "Model has 41046 quadratic objective terms\n",
      "Variable types: 864 continuous, 286 integer (286 binary)\n",
      "Coefficient statistics:\n",
      "  Matrix range     [5e-05, 1e+02]\n",
      "  Objective range  [7e+00, 7e+00]\n",
      "  QObjective range [7e-08, 1e+00]\n",
      "  Bounds range     [1e+00, 1e+00]\n",
      "  RHS range        [1e-03, 2e+02]\n",
      "\n",
      "User MIP start produced solution with objective 0.00295231 (0.05s)\n",
      "Loaded user MIP start with objective 0.00295231\n",
      "\n",
      "Presolve removed 861 rows and 286 columns\n",
      "Presolve time: 0.02s\n",
      "Presolved: 860 rows, 864 columns, 5720 nonzeros\n",
      "Presolved model has 41046 quadratic objective terms\n",
      "Variable types: 578 continuous, 286 integer (286 binary)\n",
      "\n",
      "Root relaxation: objective 5.424763e-04, 673 iterations, 0.02 seconds\n",
      "\n",
      "    Nodes    |    Current Node    |     Objective Bounds      |     Work\n",
      " Expl Unexpl |  Obj  Depth IntInf | Incumbent    BestBd   Gap | It/Node Time\n",
      "\n",
      "     0     0    0.00054    0  268    0.00295    0.00054  81.6%     -    0s\n",
      "     0     0    0.00054    0  264    0.00295    0.00054  81.6%     -    0s\n",
      "     0     0    0.00054    0  260    0.00295    0.00054  81.5%     -    1s\n",
      "     0     0    0.00054    0  258    0.00295    0.00054  81.5%     -    1s\n",
      "     0     2    0.00054    0  258    0.00295    0.00054  81.5%     -    1s\n",
      "*  125    61             103       0.0014976    0.00054  63.6%  25.5    2s\n",
      "H  231   124                       0.0014889    0.00054  63.4%  23.3    2s\n",
      "   818   335    0.00075   91   38    0.00149    0.00054  63.4%  16.2    5s\n",
      "  1032   426    0.00055   11  250    0.00149    0.00055  63.2%  17.1   10s\n",
      "  1792   405    0.00055   99  148    0.00149    0.00055  63.2%  16.2   15s\n",
      "H 2407   482                       0.0013311    0.00055  58.8%  21.1   18s\n",
      "  2590   530    0.00055   45  165    0.00133    0.00055  58.8%  19.9   20s\n",
      "  3277   886    0.00057   36  161    0.00133    0.00055  58.8%  17.2   25s\n",
      "H 3352   909                       0.0012066    0.00055  54.5%  16.9   26s\n",
      "  3981  1051    0.00103   31  124    0.00121    0.00055  54.5%  16.6   30s\n",
      "  4949  1399    0.00104  177   34    0.00121    0.00055  54.5%  16.6   35s\n",
      "  5568  1591    0.00093   65  133    0.00121    0.00055  54.5%  17.3   40s\n",
      "H 6111  1721                       0.0012061    0.00055  54.3%  16.8   42s\n",
      "  6542  1754    0.00069  165   47    0.00121    0.00055  54.3%  16.7   45s\n",
      "H 6890  1041                       0.0008441    0.00055  34.7%  17.2   48s\n",
      "  7423  1180 infeasible  127         0.00084    0.00055  34.7%  16.6   50s\n",
      "  9952  1812    0.00055  169   44    0.00084    0.00055  34.6%  14.4   55s\n",
      "\n",
      "Cutting planes:\n",
      "  Implied bound: 24\n",
      "  Flow cover: 15\n",
      "  Relax-and-lift: 38\n",
      "\n",
      "Explored 10202 nodes (146196 simplex iterations) in 57.84 seconds\n",
      "Thread count was 2 (of 2 available processors)\n",
      "\n",
      "Solution count 7: 0.000844135 0.00120606 0.00120658 ... 0.00295231\n",
      "\n",
      "Solve interrupted\n",
      "Best objective 8.441347208105e-04, best bound 5.520975026339e-04, gap 34.5960%\n"
     ]
    },
    {
     "data": {
      "text/plain": [
       "57.879053354263306"
      ]
     },
     "execution_count": 27,
     "metadata": {},
     "output_type": "execute_result"
    }
   ],
   "source": [
    "#warm starts \n",
    "SVM_MVO_Slck.model.reset(clearall = 1)\n",
    "starts = [SVM_MVO_Fast.x.x, SVM_MVO_Fast.z.x, SVM_MVO_Fast.w.x, SVM_MVO_Fast.b.x]\n",
    "SVM_MVO_Slck.set_model(start = starts)\n",
    "SVM_MVO_Slck.set_model()\n",
    "SVM_MVO_Slck.optimize()"
   ]
  },
  {
   "cell_type": "markdown",
   "metadata": {
    "id": "-Vrd8OkRhfNN"
   },
   "source": [
    "## Comparison between exact and ADM method"
   ]
  },
  {
   "cell_type": "code",
   "execution_count": null,
   "metadata": {
    "id": "FuWtrdxriCGQ"
   },
   "outputs": [],
   "source": [
    "return_premium = -1 #(Min variance portfolio)\n",
    "T = 20#int(len(rets.index)/10)"
   ]
  },
  {
   "cell_type": "code",
   "execution_count": null,
   "metadata": {
    "id": "gk0UKZc2eZqE"
   },
   "outputs": [],
   "source": [
    "import time\n",
    "def cb(model, where):\n",
    "    if where == GRB.Callback.MIPNODE:\n",
    "        # Get model objective\n",
    "        obj = model.cbGet(GRB.Callback.MIPNODE_OBJBST)\n",
    "\n",
    "        # Has objective changed?\n",
    "        if abs(obj - model._cur_obj) > 1e-8:\n",
    "            # If so, update incumbent and time\n",
    "            model._cur_obj = obj\n",
    "            model._time = time.time()\n",
    "\n",
    "    # Terminate if objective has not improved in 60s\n",
    "    if time.time() - model._time > 60:\n",
    "        model.terminate()\n",
    "\n",
    "def evaluate_model(rets, forecasts, wrds_svm, return_premium, model_instance, T, N, cols):\n",
    "  # lr = 0.1 #learning rate for the SVM support vector\n",
    "  portfolio_weights = np.zeros([T,N])\n",
    "  xi = np.zeros([T,N])\n",
    "  z = np.zeros([T,N])\n",
    "\n",
    "  oot_returns = np.zeros(T)\n",
    "  risks = np.zeros(T)\n",
    "  svm_margins = np.zeros(T)\n",
    "  svm_penalties = np.zeros(T)\n",
    "\n",
    "  market = np.zeros(T)\n",
    "  M = len(cols)\n",
    "  wis = np.zeros([T,M])\n",
    "  bias = np.zeros(T)\n",
    "  \n",
    "  times = np.zeros(T)\n",
    "  i = 0 #index for dates\n",
    "  w_mabs = 0 #initialize\n",
    "  # soln_mods = {}\n",
    "\n",
    "  for prd in rets.index.to_list()[:T]:\n",
    "    ret_ = rets.loc[prd][:N]\n",
    "    cov_, mean_ = forecasts[prd]\n",
    "    cov = cov_[:N,:N]\n",
    "    mean = mean_[:N,:]\n",
    "    tics = list(rets.columns[:N])\n",
    "    return_premium_temp = return_premium \n",
    "    #get the wharton research data for the valid tickers for the month\n",
    "    wrds_tics = wrds_svm[wrds_svm.index.get_level_values('tic').isin(tics)].xs(prd, level=\"MonthStart\")\n",
    "    #restrict the wharton research data to the columns of interest\n",
    "    #modifying WRDS dataset here if required\n",
    "    Y = wrds_tics.loc[:,cols] # Y matrix in formulation \n",
    "    Y_ =  (Y - Y.mean(axis=0))/(Y.std(axis=0))\n",
    "    if return_premium == -1:\n",
    "      ret_constr = -1\n",
    "    else:\n",
    "      ret_constr = mean.mean()*(1 + sign(mean.mean())*return_premium)\n",
    "    model_instance.tics = tics\n",
    "    model_instance.ret_constr = ret_constr\n",
    "    model_instance.mean_ret = mean\n",
    "    model_instance.cov = cov\n",
    "    model_instance.exogenous = Y_\n",
    "\n",
    "    # if i > 0: #not the first trade gets a constraint on turnover\n",
    "    #   x_prev = model_instance.x.X\n",
    "\n",
    "    # if model_instance.svm_constr:\n",
    "    #   w_mabs = (i/(i+1))*w_mabs + (1/(i+1))*np.abs(model_instance.w.x).mean()\n",
    "    #   w_prev = model_instance.w.x\n",
    "    model_instance.model.reset(clearall = 1)\n",
    "    model_instance.set_model()\n",
    "\n",
    "    # if i > 0: #not the first trade gets a constraint on turnover\n",
    "    #   model_instance.define_turnover(x_prev, np.ones_like(x_prev), Limit, 1)\n",
    "\n",
    "    # if model_instance.svm_constr:\n",
    "    #   u = model_instance.model.addMVar(M, lb = np.zeros(M), ub = np.ones(M))\n",
    "    #   wcon1 = model_instance.model.addConstr(model_instance.w <= w_prev + lr*w_mabs*u + model_instance.epsilon, 'iter constraint 1')\n",
    "    #   wcon2 = model_instance.model.addConstr(model_instance.w >= w_prev - lr*w_mabs*u - model_instance.epsilon, 'iter constraint 2')\n",
    "\n",
    "    model_instance.model.Params.LogToConsole = 0\n",
    "    model_instance.model.setParam('TimeLimit', 1000)\n",
    "    start = time.time()\n",
    "    model_instance.optimize()\n",
    "    end = time.time()\n",
    "    dt = end - start \n",
    "    print(dt)\n",
    "    # k = 1\n",
    "    # while model_instance.model.status == 4:\n",
    "    #   #if the model is infeasible the decrease the return constraint\n",
    "    #   #we do not have enough turnover the modify the portfolio to achive the \n",
    "    #   #return target... not a great place to be\n",
    "    #   return_premium_temp = return_premium - 0.05*k\n",
    "    #   ret_constr = mean.mean()*(1 + sign(mean.mean())*return_premium_temp)\n",
    "    #   model_instance.ret_constr = ret_constr\n",
    "    #   model_instance.ret_target[0].rhs = ret_constr\n",
    "    #   model_instance.optimize(cbb = cb)\n",
    "    #   k = k+1\n",
    "      #relax the return target bc the turnover constraint isnt allowing it to solve\n",
    "\n",
    "\n",
    "    # if model_instance.model.IsMIP:\n",
    "    #   soln_mods[prd] = [model_instance.model.MIPGap, return_premium_temp]\n",
    "    # else:\n",
    "    #   soln_mods[prd] = return_premium_temp\n",
    "    \n",
    "    oot_returns[i] = model_instance.evaluate(ret_)\n",
    "    market[i] = ret_.mean()\n",
    "    risks[i] = model_instance.portfolio_risk.getValue()[0]\n",
    "    svm_margins[i] = model_instance.svm_margin.getValue()[0]\n",
    "    svm_penalties[i] = model_instance.soft_penalty.getValue()[0]\n",
    "    portfolio_weights[i, :] = model_instance.x.x\n",
    "    xi[i,:] = model_instance.xi.x\n",
    "    z[i,:] = model_instance.z.x\n",
    "    times[i] = dt\n",
    "    \n",
    "  \n",
    "    if model_instance.svm_constr:\n",
    "      wis[i,:] = model_instance.w.x\n",
    "      bias[i] = model_instance.b.x\n",
    "    if i + 1 >= T:\n",
    "      break\n",
    "    if i%12 == 0:\n",
    "      print(\"_\"*25)\n",
    "      print(\"Iteration \", i)\n",
    "      print(\"Percent Complete \", i/T)\n",
    "      objective_information = pd.DataFrame([oot_returns, market, risks, svm_margins, svm_penalties,times]\n",
    "                                        , columns = rets.index[:T],\n",
    "                                        index = [\"Return\", \"Market\", \"Risk\", \n",
    "                                                    \"Margin\", \"Infeasibility\", \"Run-Time\"])\n",
    "      #eligible_weights = pd.DataFrame()\n",
    "      portfolio_weights_pd = pd.DataFrame(portfolio_weights, index = rets.index[:T], columns = model_instance.tics)\n",
    "      xi_pd = pd.DataFrame(xi, index = rets.index[:T], columns = model_instance.tics)\n",
    "      z_pd = pd.DataFrame(z, index = rets.index[:T], columns = model_instance.tics)\n",
    "\n",
    "      svm_weights = pd.DataFrame(wis, index = rets.index[:T], columns = cols)\n",
    "      svm_weights['bias'] = bias\n",
    "      \n",
    "      svm_results = (portfolio_weights_pd, objective_information.T, svm_weights, z_pd, xi_pd)\n",
    "      with open(\"gdrive/My Drive/Colab Notebooks/SVM MVO/DATA/svm_exact_mvp_lrg_v4.pkl\", 'wb') as fp:\n",
    "        pkl.dump(svm_results, fp);\n",
    "    i = i+1\n",
    "  objective_information = pd.DataFrame([oot_returns, market, risks, svm_margins, svm_penalties,times]\n",
    "                                    , columns = rets.index[:T],\n",
    "                                    index = [\"Return\", \"Market\", \"Risk\", \n",
    "                                                \"Margin\", \"Infeasibility\", \"Run-Time\"])\n",
    "  #eligible_weights = pd.DataFrame()\n",
    "  portfolio_weights_pd = pd.DataFrame(portfolio_weights, index = rets.index[:T], columns = model_instance.tics)\n",
    "  xi_pd = pd.DataFrame(xi, index = rets.index[:T], columns = model_instance.tics)\n",
    "  z_pd = pd.DataFrame(z, index = rets.index[:T], columns = model_instance.tics)\n",
    "\n",
    "  svm_weights = pd.DataFrame(wis, index = rets.index[:T], columns = cols)\n",
    "  svm_weights['bias'] = bias\n",
    "  \n",
    "  svm_results = (portfolio_weights_pd, objective_information.T, svm_weights, z_pd, xi_pd)\n",
    "  with open(\"gdrive/My Drive/Colab Notebooks/SVM MVO/DATA/svm_exact_mvp_lrg_v4.pkl\", 'wb') as fp:\n",
    "    pkl.dump(svm_results, fp);\n",
    "  return (portfolio_weights_pd, objective_information.T, svm_weights, z_pd, xi_pd)\n"
   ]
  },
  {
   "cell_type": "code",
   "execution_count": null,
   "metadata": {
    "colab": {
     "background_save": true,
     "base_uri": "https://localhost:8080/"
    },
    "id": "uot-zH0Pjg5L",
    "outputId": "0a23c9b0-08b2-49f8-c3e8-b9c764840304"
   },
   "outputs": [
    {
     "name": "stdout",
     "output_type": "stream",
     "text": [
      "Discarded solution information including additional information\n",
      "1000.104719877243\n",
      "_________________________\n",
      "Iteration  0\n",
      "Percent Complete  0.0\n",
      "205.03198218345642\n",
      "1000.1003212928772\n",
      "1000.1182105541229\n",
      "1000.0968430042267\n",
      "447.86290097236633\n",
      "362.0027115345001\n",
      "1000.1002111434937\n",
      "668.1712746620178\n",
      "811.5645759105682\n",
      "209.39254593849182\n",
      "757.0424346923828\n",
      "1000.0985534191132\n",
      "_________________________\n",
      "Iteration  12\n",
      "Percent Complete  0.6\n",
      "409.7211842536926\n",
      "1000.1037745475769\n",
      "420.2129502296448\n",
      "900.5610933303833\n",
      "437.2213776111603\n",
      "653.8060443401337\n",
      "373.18468022346497\n"
     ]
    },
    {
     "data": {
      "text/plain": [
       "(                AAPL  ABC      ABMD  ...       XRX       YUM      ZBRA\n",
       " StartMonth                           ...                              \n",
       " 2000-07-01  0.000000  0.0  0.000000  ...  0.000000  0.000000  0.027266\n",
       " 2000-08-01  0.000000  0.0  0.000000  ...  0.000000  0.000000  0.015239\n",
       " 2000-09-01  0.000000  0.0  0.000000  ...  0.000000  0.000000  0.007967\n",
       " 2000-10-01  0.000000  0.0  0.013493  ...  0.000000  0.000000  0.003240\n",
       " 2000-11-01  0.004244  0.0  0.000000  ...  0.000000  0.000000  0.000000\n",
       " 2000-12-01  0.000000  0.0  0.000000  ...  0.000000  0.000000  0.000196\n",
       " 2001-01-01  0.000000  0.0  0.000000  ...  0.000000  0.000000  0.000000\n",
       " 2001-02-01  0.003171  0.0  0.000000  ...  0.002136  0.000000  0.000529\n",
       " 2001-03-01  0.005697  0.0  0.000000  ...  0.000000  0.000000  0.005615\n",
       " 2001-04-01  0.004988  0.0  0.000000  ...  0.007151  0.000000  0.026164\n",
       " 2001-05-01  0.002625  0.0  0.000000  ...  0.000000  0.000000  0.004816\n",
       " 2001-06-01  0.000000  0.0  0.000000  ...  0.000000  0.000000  0.005115\n",
       " 2001-07-01  0.001874  0.0  0.000000  ...  0.000000  0.000000  0.004040\n",
       " 2001-08-01  0.001728  0.0  0.000000  ...  0.000000  0.000000  0.009069\n",
       " 2001-09-01  0.000000  0.0  0.000000  ...  0.000000  0.000000  0.005405\n",
       " 2001-10-01  0.001035  0.0  0.000000  ...  0.000000  0.000000  0.003011\n",
       " 2001-11-01  0.011225  0.0  0.000000  ...  0.000000  0.000000  0.000000\n",
       " 2001-12-01  0.000008  0.0  0.000000  ...  0.000000  0.000000  0.000000\n",
       " 2002-01-01  0.000000  0.0  0.000000  ...  0.000000  0.047122  0.000000\n",
       " 2002-02-01  0.000000  0.0  0.000000  ...  0.000000  0.022074  0.000000\n",
       " \n",
       " [20 rows x 286 columns],\n",
       "               Return    Market      Risk    Margin  Infeasibility     Run-Time\n",
       " StartMonth                                                                    \n",
       " 2000-07-01 -0.021925  0.001791  0.000721  0.000404            0.0  1000.104720\n",
       " 2000-08-01  0.010980 -0.003863  0.000665  0.000173            0.0   205.031982\n",
       " 2000-09-01  0.026953  0.073701  0.000551  0.000166            0.0  1000.100321\n",
       " 2000-10-01  0.016092 -0.020088  0.000620  0.000163            0.0  1000.118211\n",
       " 2000-11-01  0.024782  0.029477  0.000618  0.000113            0.0  1000.096843\n",
       " 2000-12-01  0.024796 -0.018403  0.000485  0.000049            0.0   447.862901\n",
       " 2001-01-01  0.039487  0.020155  0.000655  0.000053            0.0   362.002712\n",
       " 2001-02-01  0.025006  0.081648  0.000600  0.000157            0.0  1000.100211\n",
       " 2001-03-01  0.011521 -0.038050  0.000576  0.000081            0.0   668.171275\n",
       " 2001-04-01 -0.013086 -0.062494  0.000750  0.000154            0.0   811.564576\n",
       " 2001-05-01  0.056649  0.142658  0.000936  0.000127            0.0   209.392546\n",
       " 2001-06-01  0.021238  0.026226  0.000844  0.000133            0.0   757.042435\n",
       " 2001-07-01  0.021508 -0.018924  0.000678  0.000207            0.0  1000.098553\n",
       " 2001-08-01  0.011952  0.002261  0.000740  0.000149            0.0   409.721184\n",
       " 2001-09-01  0.027191 -0.028194  0.000529  0.000193            0.0  1000.103775\n",
       " 2001-10-01 -0.011112 -0.128075  0.000717  0.000129            0.0   420.212950\n",
       " 2001-11-01  0.026555  0.110437  0.000595  0.000153            0.0   900.561093\n",
       " 2001-12-01  0.024835  0.062734  0.000574  0.000185            0.0   437.221378\n",
       " 2002-01-01  0.021921  0.046014  0.000549  0.000156            0.0   653.806044\n",
       " 2002-02-01  0.013121 -0.003135  0.000404  0.000189            0.0   373.184680,\n",
       "                 LEV1      GRW1      ROC1      PRO1  Momentum      bias\n",
       " StartMonth                                                            \n",
       " 2000-07-01  0.016360  0.018255  0.004093  0.013397  0.003271  0.004775\n",
       " 2000-08-01  0.009030  0.014710  0.000882  0.000000  0.006828  0.004104\n",
       " 2000-09-01  0.003549  0.005176  0.000000  0.011868  0.012289  0.008656\n",
       " 2000-10-01  0.000000  0.008902  0.008542  0.002577  0.012938  0.009156\n",
       " 2000-11-01  0.002782  0.014377  0.002652  0.001576  0.001673  0.004910\n",
       " 2000-12-01  0.000303  0.006068  0.000994  0.003864  0.006757  0.005583\n",
       " 2001-01-01  0.001114  0.002033  0.001725  0.001086  0.009786  0.005545\n",
       " 2001-02-01  0.001601  0.007930  0.014467  0.003201  0.005403  0.006932\n",
       " 2001-03-01  0.003016  0.007018  0.001150  0.004505  0.009060  0.005398\n",
       " 2001-04-01  0.002347  0.011667  0.004312  0.006953  0.009938  0.005264\n",
       " 2001-05-01  0.006860  0.000591  0.010871  0.003763  0.008649  0.003354\n",
       " 2001-06-01  0.000639  0.011340  0.010050  0.005246  0.002833  0.004667\n",
       " 2001-07-01  0.006078  0.005133  0.002487  0.001171  0.018520  0.010938\n",
       " 2001-08-01  0.003844  0.010634  0.011720  0.001996  0.005283  0.004275\n",
       " 2001-09-01  0.004840  0.011256  0.008460  0.003860  0.012230  0.007949\n",
       " 2001-10-01  0.002979  0.005858  0.005691  0.005456  0.012377  0.006244\n",
       " 2001-11-01  0.004114  0.007861  0.000862  0.000182  0.015046  0.009573\n",
       " 2001-12-01  0.001169  0.009974  0.005909  0.011218  0.010457  0.006338\n",
       " 2002-01-01  0.002910  0.004904  0.000177  0.002655  0.016487  0.009443\n",
       " 2002-02-01  0.003978  0.013834  0.004338  0.012219  0.001900  0.002494,\n",
       "             AAPL  ABC  ABMD  ABT  ADBE  ...  XOM  XRAY  XRX  YUM  ZBRA\n",
       " StartMonth                              ...                           \n",
       " 2000-07-01   1.0 -0.0  -0.0  1.0   1.0  ...  1.0   1.0  1.0 -0.0   1.0\n",
       " 2000-08-01   1.0  1.0   1.0  1.0   1.0  ...  1.0   1.0  1.0 -0.0   1.0\n",
       " 2000-09-01   1.0  1.0  -0.0  1.0   1.0  ...  1.0   1.0 -0.0 -0.0   1.0\n",
       " 2000-10-01  -0.0  1.0   1.0  1.0   1.0  ...  1.0   1.0 -0.0 -0.0   1.0\n",
       " 2000-11-01   1.0  1.0  -0.0  1.0   1.0  ...  1.0   1.0  1.0  1.0   1.0\n",
       " 2000-12-01  -0.0  1.0  -0.0  1.0   1.0  ...  1.0   1.0 -0.0  1.0   1.0\n",
       " 2001-01-01  -0.0  1.0  -0.0  1.0   1.0  ...  1.0   1.0 -0.0 -0.0   1.0\n",
       " 2001-02-01   1.0 -0.0  -0.0  1.0   1.0  ...  1.0   1.0  1.0 -0.0   1.0\n",
       " 2001-03-01   1.0  1.0  -0.0  1.0  -0.0  ...  1.0   1.0 -0.0 -0.0   1.0\n",
       " 2001-04-01   1.0  1.0  -0.0 -0.0   1.0  ...  1.0   0.0  1.0 -0.0   1.0\n",
       " 2001-05-01   1.0  1.0  -0.0 -0.0   1.0  ...  1.0   1.0  1.0  0.0   1.0\n",
       " 2001-06-01   1.0  1.0  -0.0 -0.0   1.0  ...  1.0  -0.0  1.0 -0.0   1.0\n",
       " 2001-07-01   1.0  1.0   1.0  1.0   1.0  ...  1.0   1.0  1.0 -0.0   1.0\n",
       " 2001-08-01   1.0  1.0   0.0  1.0   1.0  ...  1.0   1.0  1.0 -0.0   1.0\n",
       " 2001-09-01   1.0  1.0  -0.0  1.0   1.0  ...  1.0   1.0  1.0 -0.0   1.0\n",
       " 2001-10-01   1.0 -0.0  -0.0  1.0   1.0  ...  1.0   1.0  1.0 -0.0   1.0\n",
       " 2001-11-01   1.0 -0.0   1.0  1.0  -0.0  ...  1.0   1.0  1.0 -0.0   1.0\n",
       " 2001-12-01   1.0 -0.0  -0.0  1.0   1.0  ...  1.0   1.0  1.0 -0.0   1.0\n",
       " 2002-01-01   1.0  1.0  -0.0  1.0  -0.0  ... -0.0   1.0  1.0  1.0   1.0\n",
       " 2002-02-01   1.0 -0.0   0.0  1.0   1.0  ...  1.0  -0.0  1.0  1.0   1.0\n",
       " \n",
       " [20 rows x 286 columns],\n",
       "             AAPL  ABC  ABMD  ABT  ADBE  ADI  ...  XLNX  XOM  XRAY  XRX  YUM  ZBRA\n",
       " StartMonth                                   ...                                 \n",
       " 2000-07-01   0.0  0.0   0.0  0.0   0.0  0.0  ...   0.0  0.0   0.0  0.0  0.0   0.0\n",
       " 2000-08-01   0.0  0.0   0.0  0.0   0.0  0.0  ...   0.0  0.0   0.0  0.0  0.0   0.0\n",
       " 2000-09-01   0.0  0.0   0.0  0.0   0.0  0.0  ...   0.0  0.0   0.0  0.0  0.0   0.0\n",
       " 2000-10-01   0.0  0.0   0.0  0.0   0.0  0.0  ...   0.0  0.0   0.0  0.0  0.0   0.0\n",
       " 2000-11-01   0.0  0.0   0.0  0.0   0.0  0.0  ...   0.0  0.0   0.0  0.0  0.0   0.0\n",
       " 2000-12-01   0.0  0.0   0.0  0.0   0.0  0.0  ...   0.0  0.0   0.0  0.0  0.0   0.0\n",
       " 2001-01-01   0.0  0.0   0.0  0.0   0.0  0.0  ...   0.0  0.0   0.0  0.0  0.0   0.0\n",
       " 2001-02-01   0.0  0.0   0.0  0.0   0.0  0.0  ...   0.0  0.0   0.0  0.0  0.0   0.0\n",
       " 2001-03-01   0.0  0.0   0.0  0.0   0.0  0.0  ...   0.0  0.0   0.0  0.0  0.0   0.0\n",
       " 2001-04-01   0.0  0.0   0.0  0.0   0.0  0.0  ...   0.0  0.0   0.0  0.0  0.0   0.0\n",
       " 2001-05-01   0.0  0.0   0.0  0.0   0.0  0.0  ...   0.0  0.0   0.0  0.0  0.0   0.0\n",
       " 2001-06-01   0.0  0.0   0.0  0.0   0.0  0.0  ...   0.0  0.0   0.0  0.0  0.0   0.0\n",
       " 2001-07-01   0.0  0.0   0.0  0.0   0.0  0.0  ...   0.0  0.0   0.0  0.0  0.0   0.0\n",
       " 2001-08-01   0.0  0.0   0.0  0.0   0.0  0.0  ...   0.0  0.0   0.0  0.0  0.0   0.0\n",
       " 2001-09-01   0.0  0.0   0.0  0.0   0.0  0.0  ...   0.0  0.0   0.0  0.0  0.0   0.0\n",
       " 2001-10-01   0.0  0.0   0.0  0.0   0.0  0.0  ...   0.0  0.0   0.0  0.0  0.0   0.0\n",
       " 2001-11-01   0.0  0.0   0.0  0.0   0.0  0.0  ...   0.0  0.0   0.0  0.0  0.0   0.0\n",
       " 2001-12-01   0.0  0.0   0.0  0.0   0.0  0.0  ...   0.0  0.0   0.0  0.0  0.0   0.0\n",
       " 2002-01-01   0.0  0.0   0.0  0.0   0.0  0.0  ...   0.0  0.0   0.0  0.0  0.0   0.0\n",
       " 2002-02-01   0.0  0.0   0.0  0.0   0.0  0.0  ...   0.0  0.0   0.0  0.0  0.0   0.0\n",
       " \n",
       " [20 rows x 286 columns])"
      ]
     },
     "execution_count": null,
     "metadata": {},
     "output_type": "execute_result"
    }
   ],
   "source": [
    "evaluate_model(rets, forecasts, wrds_svm, return_premium, SVM_MVO_Slck, T, N, cols)"
   ]
  },
  {
   "cell_type": "code",
   "execution_count": null,
   "metadata": {
    "colab": {
     "background_save": true
    },
    "id": "QPNBUbvjF3L2"
   },
   "outputs": [],
   "source": [
    "def evaluate_adm_warm(rets, forecasts, wrds_svm, return_premium, models, T, \n",
    "                 N, cols, link):\n",
    "  '''this function tests the ADM penalty method as a warm start and then feeds \n",
    "  it to the exact solver. This should result in faster exact solves\n",
    "  models: tuple of model objects of length two where the first onject represents the \n",
    "  ADM object and the second object represents the exact MIP solver'''\n",
    "  #models is tuple of the MIP model and the ADM object \n",
    "  model_adm, model_exact = models\n",
    "  # lr = 0.1 #learning rate for the SVM support vector\n",
    "  portfolio_weights = np.zeros([T,N])\n",
    "  xi = np.zeros([T,N])\n",
    "  z = np.zeros([T,N])\n",
    "  oot_returns = np.zeros(T)\n",
    "  risks = np.zeros(T)\n",
    "  svm_margins = np.zeros(T)\n",
    "  svm_penalties = np.zeros(T)\n",
    "  \n",
    "  market = np.zeros(T)\n",
    "  M = len(cols)\n",
    "  wis = np.zeros([T,M])\n",
    "  bias = np.zeros(T)\n",
    "  \n",
    "  times = np.zeros(T)\n",
    "  i = 0 #index for dates\n",
    "  w_mabs = 0 #initialize\n",
    "  # soln_mods = {}\n",
    "\n",
    "  for prd in rets.index.to_list()[:T]:\n",
    "    ret_ = rets.loc[prd][:N]\n",
    "    cov_, mean_ = forecasts[prd]\n",
    "    cov = cov_[:N,:N]\n",
    "    mean = mean_[:N,:]\n",
    "    tics = list(rets.columns[:N])\n",
    "    return_premium_temp = return_premium \n",
    "    #get the wharton research data for the valid tickers for the month\n",
    "    wrds_tics = wrds_svm[wrds_svm.index.get_level_values('tic').isin(tics)].xs(prd, level=\"MonthStart\")\n",
    "    #restrict the wharton research data to the columns of interest\n",
    "    #modifying WRDS dataset here if required\n",
    "    Y = wrds_tics.loc[:,cols] # Y matrix in formulation \n",
    "    Y_ =  (Y - Y.mean(axis=0))/(Y.std(axis=0))\n",
    "    if return_premium == -1:\n",
    "      ret_constr = -1\n",
    "    else:\n",
    "      ret_constr = mean.mean()*(1 + sign(mean.mean())*return_premium)\n",
    "   \n",
    "    model_adm.MVO_.tics = tics\n",
    "    model_adm.SVM_.tics = tics\n",
    "    model_adm.MVO_.ret_constr = ret_constr\n",
    "    model_adm.MVO_.mean_ret = mean\n",
    "    model_adm.MVO_.cov = cov\n",
    "    model_adm.MVO_.exogenous = Y_\n",
    "    model_adm.SVM_.exogenous = Y_\n",
    "    model_adm.SVM_.model.reset(clearall = 1)\n",
    "    model_adm.MVO_.model.reset(clearall = 1)\n",
    "\n",
    "  \n",
    "    model_exact.tics = tics\n",
    "    model_exact.ret_constr = ret_constr\n",
    "    model_exact.mean_ret = mean\n",
    "    model_exact.cov = cov\n",
    "    model_exact.exogenous = Y_\n",
    "\n",
    "    model_exact.model.reset(clearall = 1)\n",
    "    model_exact.set_model()\n",
    "\n",
    "    # if i > 0: #not the first trade gets a constraint on turnover\n",
    "    #   model_instance.define_turnover(x_prev, np.ones_like(x_prev), Limit, 1)\n",
    "\n",
    "    # if model_instance.svm_constr:\n",
    "    #   u = model_instance.model.addMVar(M, lb = np.zeros(M), ub = np.ones(M))\n",
    "    #   wcon1 = model_instance.model.addConstr(model_instance.w <= w_prev + lr*w_mabs*u + model_instance.epsilon, 'iter constraint 1')\n",
    "    #   wcon2 = model_instance.model.addConstr(model_instance.w >= w_prev - lr*w_mabs*u - model_instance.epsilon, 'iter constraint 2')\n",
    "\n",
    "    model_exact.model.Params.LogToConsole = 0\n",
    "    model_exact.model.setParam('TimeLimit', 1000)\n",
    "\n",
    "    model_adm.SVM_.model.reset(clearall = 1)\n",
    "    model_adm.MVO_.model.reset(clearall = 1)\n",
    "\n",
    "    start = time.time()\n",
    "    model_adm.initialize_soln()\n",
    "    # else:\n",
    "    #   start = time.time()\n",
    "\n",
    "    # if i > 0: #not the first trade gets a constraint on turnover\n",
    "    #   model_instance.define_turnover(x_prev, np.ones_like(x_prev), Limit, 1)\n",
    "\n",
    "    # if model_instance.svm_constr:\n",
    "    #   u = model_instance.model.addMVar(M, lb = np.zeros(M), ub = np.ones(M))\n",
    "    #   wcon1 = model_instance.model.addConstr(model_instance.w <= w_prev + lr*w_mabs*u + model_instance.epsilon, 'iter constraint 1')\n",
    "    #   wcon2 = model_instance.model.addConstr(model_instance.w >= w_prev - lr*w_mabs*u - model_instance.epsilon, 'iter constraint 2')\n",
    "\n",
    "    model_adm.silence_output()\n",
    "    model_adm.solve_ADM(store_data=False)\n",
    "    starts = [model_adm.x.x, model_adm.z.x, model_adm.w.x, model_adm.b.x]\n",
    "    model_exact.set_model(start = starts)\n",
    "    model_exact.optimize()\n",
    "    end = time.time()\n",
    "    dt = end-start\n",
    "    print(dt)\n",
    "    # k = 1\n",
    "    # while model_instance.model.status == 4:\n",
    "    #   #if the model is infeasible the decrease the return constraint\n",
    "    #   #we do not have enough turnover the modify the portfolio to achive the \n",
    "    #   #return target... not a great place to be\n",
    "    #   return_premium_temp = return_premium - 0.05*k\n",
    "    #   ret_constr = mean.mean()*(1 + sign(mean.mean())*return_premium_temp)\n",
    "    #   model_instance.ret_constr = ret_constr\n",
    "    #   model_instance.ret_target[0].rhs = ret_constr\n",
    "    #   model_instance.optimize(cbb = cb)\n",
    "    #   k = k+1\n",
    "      #relax the return target bc the turnover constraint isnt allowing it to solve\n",
    "\n",
    "    # if model_instance.model.IsMIP:\n",
    "    #   soln_mods[prd] = [model_instance.model.MIPGap, return_premium_temp]\n",
    "    # else:\n",
    "    #   soln_mods[prd] = return_premium_temp\n",
    "    \n",
    "    oot_returns[i] = model_exact.evaluate(ret_)\n",
    "    market[i] = ret_.mean()\n",
    "    portfolio_weights[i, :] = model_exact.x.x\n",
    "    xi[i,:] = model_exact.xi.x\n",
    "    z[i,:] = model_exact.z.x\n",
    "    risks[i] = model_exact.portfolio_risk.getValue()[0]\n",
    "    svm_margins[i] = model_exact.svm_margin.getValue()[0]\n",
    "    svm_penalties[i] = model_exact.soft_penalty.getValue()[0]\n",
    "    times[i] = dt\n",
    "    wis[i,:] = model_exact.w.x\n",
    "    bias[i] = model_exact.b.x\n",
    "    \n",
    "    if i + 1 >= T:\n",
    "      break\n",
    "      \n",
    "    if i%12 == 0:\n",
    "      print(\"_\"*25)\n",
    "      print(\"Iteration \", i)\n",
    "      print(\"Percent Complete \", i/T)  \n",
    "      objective_information = pd.DataFrame([oot_returns, market, risks, svm_margins, svm_penalties,times]\n",
    "                                       , columns = rets.index[:T],\n",
    "                                       index = [\"Return\", \"Market\", \"Risk\", \n",
    "                                                  \"Margin\", \"Infeasibility\", \"Run-Time\"])\n",
    "      #eligible_weights = pd.DataFrame()\n",
    "      portfolio_weights_pd = pd.DataFrame(portfolio_weights, index = rets.index[:T], columns = model_exact.tics)\n",
    "      xi_pd = pd.DataFrame(xi, index = rets.index[:T], columns = model_exact.tics)\n",
    "      z_pd = pd.DataFrame(z, index = rets.index[:T], columns = model_exact.tics)\n",
    "\n",
    "      svm_weights = pd.DataFrame(wis, index = rets.index[:T], columns = cols)\n",
    "      svm_weights['bias'] = bias\n",
    "      adm_results = (portfolio_weights, objective_information.T, svm_weights, z_pd, xi_pd)\n",
    "      with open(link, 'wb') as fp:\n",
    "        pkl.dump(adm_results, fp);\n",
    "    i = i+1 \n",
    "  objective_information = pd.DataFrame([oot_returns, market, risks, svm_margins, svm_penalties,times]\n",
    "                                  , columns = rets.index[:T],\n",
    "                                  index = [\"Return\", \"Market\", \"Risk\", \n",
    "                                              \"Margin\", \"Infeasibility\", \"Run-Time\"])\n",
    "  #eligible_weights = pd.DataFrame()\n",
    "  portfolio_weights_pd = pd.DataFrame(portfolio_weights, index = rets.index[:T], columns = model_exact.tics)\n",
    "  xi_pd = pd.DataFrame(xi, index = rets.index[:T], columns = model_exact.tics)\n",
    "  z_pd = pd.DataFrame(z, index = rets.index[:T], columns = model_exact.tics)\n",
    "\n",
    "  svm_weights = pd.DataFrame(wis, index = rets.index[:T], columns = cols)\n",
    "  svm_weights['bias'] = bias\n",
    "  adm_results = (portfolio_weights, objective_information.T, svm_weights, z_pd, xi_pd)\n",
    "  with open(link, 'wb') as fp:\n",
    "    pkl.dump(adm_results, fp);\n",
    "  return (portfolio_weights_pd, objective_information.T, svm_weights, z_pd, xi_pd)"
   ]
  },
  {
   "cell_type": "code",
   "execution_count": null,
   "metadata": {
    "colab": {
     "background_save": true
    },
    "id": "AbQ7G_e67pSh",
    "outputId": "c96d22a2-c955-4bd3-91bd-80dbedfead3c"
   },
   "outputs": [
    {
     "name": "stdout",
     "output_type": "stream",
     "text": [
      "ADM terminated with average value of C =  207.92330228365384\n",
      "1039.676097393036\n",
      "_________________________\n",
      "Iteration  0\n",
      "Percent Complete  0.0\n",
      "ADM terminated with average value of C =  19659.5458984375\n",
      "1044.3411164283752\n",
      "ADM terminated with average value of C =  1974.7032752403845\n",
      "1046.9435770511627\n",
      "ADM terminated with average value of C =  19659.5458984375\n",
      "1034.286384344101\n",
      "ADM terminated with average value of C =  1787.2314453125\n",
      "1028.4971520900726\n",
      "ADM terminated with average value of C =  19659.5458984375\n",
      "471.93223428726196\n",
      "ADM terminated with average value of C =  215567.60817307694\n",
      "1024.720052242279\n",
      "ADM terminated with average value of C =  162.4755859375\n",
      "1025.2500939369202\n",
      "ADM terminated with average value of C =  1787.2314453125\n",
      "1033.4922494888306\n",
      "ADM terminated with average value of C =  1787.2314453125\n",
      "1015.4438586235046\n",
      "ADM terminated with average value of C =  1849.7220552884614\n",
      "269.80638670921326\n",
      "ADM terminated with average value of C =  1787.2314453125\n"
     ]
    }
   ],
   "source": [
    "link = \"gdrive/My Drive/Colab Notebooks/SVM MVO/DATA/svm_adm_exact_huge_v5.pkl\"\n",
    "models2 = ( SVM_MVO_Fast_v2, SVM_MVO_Slck)\n",
    "evaluate_adm_warm(rets, forecasts, wrds_svm, return_premium, models2, T, \n",
    "                 N, cols, link)\n",
    "\n",
    "link = \"gdrive/My Drive/Colab Notebooks/SVM MVO/DATA/svm_adm_exact_huge_v4.pkl\"\n",
    "models = ( SVM_MVO_Fast, SVM_MVO_Slck)\n",
    "evaluate_adm_warm(rets, forecasts, wrds_svm, return_premium, models, T, \n",
    "                 N, cols, link)\n"
   ]
  },
  {
   "cell_type": "code",
   "execution_count": null,
   "metadata": {
    "id": "SdC0wln1_hI4"
   },
   "outputs": [],
   "source": []
  }
 ],
 "metadata": {
  "colab": {
   "background_execution": "on",
   "collapsed_sections": [],
   "name": "ADM Comparison NoteBook Exact.ipynb",
   "provenance": [
    {
     "file_id": "1XT6wjEY_dc8GZeaIs3S2nVt4hwwBMyWW",
     "timestamp": 1640655477422
    }
   ],
   "mount_file_id": "1hDdRLz3mUB0Ldphf50Bl9ZWw8qHh1iP5",
   "authorship_tag": "ABX9TyNCmeCLH1gpyq2OsR8PeTv9"
  },
  "kernelspec": {
   "display_name": "Python 3",
   "name": "python3"
  },
  "language_info": {
   "name": "python"
  }
 },
 "nbformat": 4,
 "nbformat_minor": 0
}
