{
 "cells": [
  {
   "cell_type": "markdown",
   "metadata": {
    "id": "MqN_y29M6YR8"
   },
   "source": [
    "# Integration of SVM and MVO \n",
    "\n",
    "This notebook performs a comparison of the integrated MVO-SVM min variance portfolios obtained via the exact MIP solve vs the ADM method\n"
   ]
  },
  {
   "cell_type": "code",
   "execution_count": 1,
   "metadata": {
    "colab": {
     "base_uri": "https://localhost:8080/"
    },
    "executionInfo": {
     "elapsed": 55585,
     "status": "ok",
     "timestamp": 1654040827518,
     "user": {
      "displayName": "Ryan Islip",
      "userId": "09447671168486293026"
     },
     "user_tz": 240
    },
    "id": "l3fEvFDq6PgZ",
    "outputId": "3a91a2d2-d700-49ed-976f-9b373452646c"
   },
   "outputs": [
    {
     "name": "stdout",
     "output_type": "stream",
     "text": [
      "Looking in indexes: https://pypi.org/simple, https://us-python.pkg.dev/colab-wheels/public/simple/\n",
      "Collecting gurobipy==9.1.2\n",
      "  Downloading gurobipy-9.1.2-cp37-cp37m-manylinux1_x86_64.whl (11.1 MB)\n",
      "\u001B[K     |████████████████████████████████| 11.1 MB 4.3 MB/s \n",
      "\u001B[?25hInstalling collected packages: gurobipy\n",
      "Successfully installed gurobipy-9.1.2\n",
      "Mounted at /content/gdrive\n"
     ]
    }
   ],
   "source": [
    "!sudo python -m pip install gurobipy==9.1.2\n",
    "import gurobipy as gp\n",
    "from gurobipy import GRB\n",
    "from google.colab import drive \n",
    "import math\n",
    "import time\n",
    "drive.mount('/content/gdrive')\n",
    "pth = 'gdrive/My Drive/Colab Notebooks/'\n",
    "import sys\n",
    "sys.path.append(pth + 'SVM MVO/PYFILES/')\n",
    "from packages import *\n",
    "#from svm_mvo import *\n",
    "%matplotlib inline\n",
    "\n",
    "## Import Forecasts\n",
    "forecasts = pd.read_pickle(pth +'SVM MVO/DATA/Forecasts.pkl')\n",
    "## Import Returns\n",
    "rets = pd.read_pickle(pth + 'SVM MVO/DATA/RETS.pkl')\n",
    "## Import feature vectors\n",
    "wrds_svm = pd.read_pickle(pth + 'SVM MVO/DATA/WRDS_ASOF.pkl')\n",
    "wrds_svm_pca = pd.read_pickle(pth + 'SVM MVO/DATA/WRDS_PCA.pkl')\n",
    "#wrds_svm_pca['Momentum'] = wrds_svm.Momentum\n",
    "## Import Monthly Prices\n",
    "prices = pd.read_pickle(pth + 'SVM MVO/DATA/PRICES.pkl')"
   ]
  },
  {
   "cell_type": "code",
   "execution_count": 2,
   "metadata": {
    "colab": {
     "base_uri": "https://localhost:8080/"
    },
    "executionInfo": {
     "elapsed": 42437,
     "status": "ok",
     "timestamp": 1654040869942,
     "user": {
      "displayName": "Ryan Islip",
      "userId": "09447671168486293026"
     },
     "user_tz": 240
    },
    "id": "knc5ipCyNDrK",
    "outputId": "a2d6d121-1e81-4786-c00d-9b24bfb8834c"
   },
   "outputs": [
    {
     "name": "stdout",
     "output_type": "stream",
     "text": [
      "Required info for Gurobi: Index(['WLSACCESSID', 'LICENSEID', 'WLSSECRET', 'LOCAL'], dtype='object')\n",
      "Changed value of parameter WLSACCESSID\n",
      "Changed value of parameter LICENSEID\n",
      "Changed value of parameter WLSSECRET\n",
      "info  : grbgetkey version 9.1.2, build v9.1.1rc0-30-g8af970cb\n",
      "info  : Contacting Gurobi license server...\n",
      "info  : License file for license ID 814416 was successfully retrieved\n",
      "info  : License expires at the end of the day on 2022-07-24\n",
      "info  : Saving license file...\n",
      "\n",
      "In which directory would you like to store the Gurobi license file?\n",
      "[hit Enter to store it in /opt/gurobi]: \n",
      "\n",
      "info  : License 814416 written to file /opt/gurobi/gurobi.lic\n",
      "Academic license - for non-commercial use only - expires 2022-07-24\n",
      "Using license file /opt/gurobi/gurobi.lic\n"
     ]
    }
   ],
   "source": [
    "#read in licence info\n",
    "gurobi_licence = pd.read_csv(pth +'SVM MVO/DATA/gurobi.csv')\n",
    "print(\"Required info for Gurobi:\", gurobi_licence.columns)\n",
    "try:\n",
    "  #web license try to access it via uoft\n",
    "  e = gp.Env(empty=True)\n",
    "  #e.setParam('OutputFlag', 0)\n",
    "  e.setParam('WLSACCESSID', gurobi_licence.WLSACCESSID[0])\n",
    "  e.setParam('LICENSEID', gurobi_licence.LICENSEID[0])\n",
    "  e.setParam('WLSSECRET', gurobi_licence.WLSSECRET[0])\n",
    "  e.start()\n",
    "except: \n",
    "  !chmod 755 /content/gdrive/My\\ Drive/Colab\\ Notebooks/SVM\\ MVO/gurobi/grbgetkey\n",
    "  !/content/gdrive/My\\ Drive/Colab\\ Notebooks/SVM\\ MVO/gurobi/grbgetkey {gurobi_licence.LOCAL[0]}\n",
    "  e = gp.Env(empty=True)\n",
    "  #chmod 755 grbgetkey\n",
    "  e.start()\n"
   ]
  },
  {
   "cell_type": "code",
   "execution_count": 3,
   "metadata": {
    "colab": {
     "base_uri": "https://localhost:8080/"
    },
    "executionInfo": {
     "elapsed": 359,
     "status": "ok",
     "timestamp": 1654040870295,
     "user": {
      "displayName": "Ryan Islip",
      "userId": "09447671168486293026"
     },
     "user_tz": 240
    },
    "id": "u55WrJvFHZxg",
    "outputId": "11b9db15-d6bc-4239-f1dd-85db8461a757"
   },
   "outputs": [
    {
     "name": "stdout",
     "output_type": "stream",
     "text": [
      "Changed value of parameter WLSACCESSID\n",
      "Changed value of parameter LICENSEID\n",
      "Changed value of parameter WLSSECRET\n",
      "Academic license - for non-commercial use only - expires 2022-07-24\n",
      "Using license file /opt/gurobi/gurobi.lic\n"
     ]
    }
   ],
   "source": [
    "%run /content/gdrive/My\\ Drive/Colab\\ Notebooks/SVM\\ MVO/PYFILES/svm_mvo.py"
   ]
  },
  {
   "cell_type": "markdown",
   "metadata": {
    "id": "K7you9bPfMGK"
   },
   "source": [
    "## Part 1"
   ]
  },
  {
   "cell_type": "code",
   "execution_count": 4,
   "metadata": {
    "colab": {
     "base_uri": "https://localhost:8080/"
    },
    "executionInfo": {
     "elapsed": 6,
     "status": "ok",
     "timestamp": 1654040873904,
     "user": {
      "displayName": "Ryan Islip",
      "userId": "09447671168486293026"
     },
     "user_tz": 240
    },
    "id": "j5hpjYf7-7KO",
    "outputId": "c4c80a3d-51d9-4ffe-d27c-87f7f8475eef"
   },
   "outputs": [
    {
     "data": {
      "text/plain": [
       "Index(['niy', 'oancfy', 'txty', 'dvpspq', 'mkvaltq', 'prccq', 'date',\n",
       "       'DIFFYear', 'DIFFMonth', 'DIFFActualDays', 'DIFFExpectedDays',\n",
       "       'DIFFExpectedDaysCorr', 'DIFFdatadate', 'DIFFsrcq', 'DIFFactq',\n",
       "       'DIFFancq', 'DIFFatq', 'DIFFceqq', 'DIFFcheq', 'DIFFcogsq', 'DIFFcshiq',\n",
       "       'DIFFcshopq', 'DIFFcshoq', 'DIFFcstkq', 'DIFFdlcq', 'DIFFdlttq',\n",
       "       'DIFFdpq', 'DIFFepspi12', 'DIFFepspiq', 'DIFFepspxq', 'DIFFintanq',\n",
       "       'DIFFinvtq', 'DIFFlctq', 'DIFFlltq', 'DIFFltq', 'DIFFniq', 'DIFFoibdpq',\n",
       "       'DIFFopepsq', 'DIFFrectq', 'DIFFreq', 'DIFFsaleq', 'DIFFteqq',\n",
       "       'DIFFcapxy', 'DIFFdltisy', 'DIFFdltry', 'DIFFniy', 'DIFFoancfy',\n",
       "       'DIFFtxty', 'DIFFdvpspq', 'DIFFmkvaltq', 'DIFFprccq', 'ROC1', 'ROC2',\n",
       "       'ROC3', 'ROC4', 'ROC5', 'INV1', 'INV2', 'INV3', 'PRO1', 'PRO2', 'PRO3',\n",
       "       'PRO4', 'PRO5', 'PRO6', 'PRO7', 'LEV1', 'LEV2', 'LEV3', 'LEV4', 'LEV5',\n",
       "       'RET1', 'LIQ1', 'LIQ2', 'LIQ3', 'LIQ4', 'LIQ5', 'RISK1', 'RISK2',\n",
       "       'RISK3', 'GRW1', 'GRW2', 'GRW3', 'GRW4', 'GRW5', 'GRW6', 'GRW7', 'GRW8',\n",
       "       'Momentum', 'Vol'],\n",
       "      dtype='object')"
      ]
     },
     "execution_count": 4,
     "metadata": {},
     "output_type": "execute_result"
    }
   ],
   "source": [
    "wrds_svm.columns[40:]"
   ]
  },
  {
   "cell_type": "code",
   "execution_count": 5,
   "metadata": {
    "colab": {
     "base_uri": "https://localhost:8080/"
    },
    "executionInfo": {
     "elapsed": 3,
     "status": "ok",
     "timestamp": 1654040874764,
     "user": {
      "displayName": "Ryan Islip",
      "userId": "09447671168486293026"
     },
     "user_tz": 240
    },
    "id": "5NswPR4F6Wvy",
    "outputId": "1e385cb1-659c-4f6c-d2fd-ef23273bd899"
   },
   "outputs": [
    {
     "data": {
      "text/plain": [
       "Timestamp('2000-07-01 00:00:00')"
      ]
     },
     "execution_count": 5,
     "metadata": {},
     "output_type": "execute_result"
    }
   ],
   "source": [
    "mth = rets.index[0]\n",
    "mth"
   ]
  },
  {
   "cell_type": "code",
   "execution_count": 6,
   "metadata": {
    "colab": {
     "base_uri": "https://localhost:8080/",
     "height": 275
    },
    "executionInfo": {
     "elapsed": 8,
     "status": "ok",
     "timestamp": 1654040875136,
     "user": {
      "displayName": "Ryan Islip",
      "userId": "09447671168486293026"
     },
     "user_tz": 240
    },
    "id": "nYBpVMDbM5Pi",
    "outputId": "de609dc4-364f-4195-c650-da0ad7424c61"
   },
   "outputs": [
    {
     "name": "stdout",
     "output_type": "stream",
     "text": [
      "valid tickers: ['AAPL', 'ABC', 'ABMD', 'ABT', 'ADBE', 'ADI', 'ADM', 'ADP', 'ADSK', 'AEE', 'AEP', 'AES', 'AJG', 'AKAM', 'ALB', 'ALK', 'AMAT', 'AMD', 'AME', 'AMGN', 'AMT', 'AMZN', 'ANSS', 'AON', 'AOS', 'APA', 'APD', 'APH', 'ATO', 'AVY', 'AZO', 'BA', 'BAX', 'BBY', 'BDX', 'BKNG', 'BLL', 'BMY', 'BSX', 'BWA', 'CAG', 'CAH', 'CAT', 'CCI', 'CCL', 'CDNS', 'CERN', 'CHD', 'CHRW', 'CI', 'CL', 'CLX', 'CMCSA', 'CMI', 'CMS', 'CNP', 'COO', 'COP', 'COST', 'CPB', 'CPRT', 'CSCO', 'CSX', 'CTAS', 'CTSH', 'CTXS', 'CVS', 'CVX', 'D', 'DD', 'DGX', 'DHR', 'DIS', 'DISH', 'DLTR', 'DOV', 'DRI', 'DTE', 'DUK', 'DVA', 'DVN', 'DXC', 'EA', 'EBAY', 'ECL', 'ED', 'EFX', 'EIX', 'EL', 'EMN', 'EMR', 'EOG', 'ES', 'ETN', 'ETR', 'EVRG', 'EXC', 'EXPD', 'F', 'FAST', 'FCX', 'FDX', 'FE', 'FFIV', 'FISV', 'FLS', 'FMC', 'GD', 'GIS', 'GLW', 'GPC', 'GPS', 'GWW', 'HAL', 'HAS', 'HD', 'HES', 'HFC', 'HOG', 'HOLX', 'HON', 'HP', 'HPQ', 'HRB', 'HRL', 'HSIC', 'HSY', 'HUM', 'IBM', 'IDXX', 'IEX', 'IFF', 'INCY', 'INTC', 'INTU', 'IP', 'IPG', 'IRM', 'IT', 'ITW', 'IVZ', 'J', 'JBHT', 'JCI', 'JKHY', 'JNJ', 'JNPR', 'JWN', 'K', 'KLAC', 'KMB', 'KMX', 'KO', 'KR', 'KSS', 'KSU', 'LEG', 'LH', 'LHX', 'LIN', 'LLY', 'LMT', 'LNT', 'LOW', 'LRCX', 'LUV', 'M', 'MAR', 'MAS', 'MCD', 'MCHP', 'MCK', 'MCO', 'MDT', 'MGM', 'MHK', 'MKC', 'MLM', 'MMC', 'MMM', 'MO', 'MRK', 'MRO', 'MSFT', 'MSI', 'MTD', 'MU', 'MXIM', 'NEE', 'NEM', 'NI', 'NKE', 'NLOK', 'NOC', 'NOV', 'NSC', 'NTAP', 'NUE', 'NVDA', 'NWL', 'OMC', 'ORCL', 'ORLY', 'OXY', 'PAYX', 'PEG', 'PEP', 'PFE', 'PG', 'PH', 'PKI', 'PNR', 'PNW', 'PPG', 'PPL', 'PRGO', 'PVH', 'PWR', 'PXD', 'QCOM', 'RCL', 'REGN', 'RHI', 'RL', 'RMD', 'ROK', 'ROL', 'ROP', 'ROST', 'RSG', 'RTX', 'SBAC', 'SBUX', 'SEE', 'SHW', 'SJM', 'SLB', 'SNA', 'SNPS', 'SO', 'SPGI', 'SRE', 'STE', 'STZ', 'SWK', 'SWKS', 'SYK', 'SYY', 'T', 'TAP', 'TFX', 'TGT', 'TJX', 'TMO', 'TSCO', 'TSN', 'TT', 'TXN', 'TXT', 'UHS', 'UNH', 'UNP', 'URI', 'VFC', 'VLO', 'VMC', 'VRSN', 'VRTX', 'VZ', 'WAB', 'WAT', 'WBA', 'WDC', 'WEC', 'WHR', 'WM', 'WMB', 'WMT', 'WY', 'XEL', 'XLNX', 'XOM', 'XRAY', 'XRX', 'YUM', 'ZBRA']\n"
     ]
    },
    {
     "data": {
      "text/html": [
       "\n",
       "  <div id=\"df-38b83132-a783-4d94-ad84-6bdfa05d2d8c\">\n",
       "    <div class=\"colab-df-container\">\n",
       "      <div>\n",
       "<style scoped>\n",
       "    .dataframe tbody tr th:only-of-type {\n",
       "        vertical-align: middle;\n",
       "    }\n",
       "\n",
       "    .dataframe tbody tr th {\n",
       "        vertical-align: top;\n",
       "    }\n",
       "\n",
       "    .dataframe thead th {\n",
       "        text-align: right;\n",
       "    }\n",
       "</style>\n",
       "<table border=\"1\" class=\"dataframe\">\n",
       "  <thead>\n",
       "    <tr style=\"text-align: right;\">\n",
       "      <th></th>\n",
       "      <th>INV3</th>\n",
       "      <th>PRO6</th>\n",
       "      <th>INV1</th>\n",
       "    </tr>\n",
       "    <tr>\n",
       "      <th>tic</th>\n",
       "      <th></th>\n",
       "      <th></th>\n",
       "      <th></th>\n",
       "    </tr>\n",
       "  </thead>\n",
       "  <tbody>\n",
       "    <tr>\n",
       "      <th>AAPL</th>\n",
       "      <td>-0.419213</td>\n",
       "      <td>-0.150973</td>\n",
       "      <td>0.068229</td>\n",
       "    </tr>\n",
       "    <tr>\n",
       "      <th>ABC</th>\n",
       "      <td>0.663853</td>\n",
       "      <td>-0.570907</td>\n",
       "      <td>0.086787</td>\n",
       "    </tr>\n",
       "    <tr>\n",
       "      <th>ABMD</th>\n",
       "      <td>-0.394706</td>\n",
       "      <td>-0.788425</td>\n",
       "      <td>0.311307</td>\n",
       "    </tr>\n",
       "    <tr>\n",
       "      <th>ABT</th>\n",
       "      <td>-0.706199</td>\n",
       "      <td>-0.354962</td>\n",
       "      <td>0.053606</td>\n",
       "    </tr>\n",
       "    <tr>\n",
       "      <th>ADBE</th>\n",
       "      <td>-0.776732</td>\n",
       "      <td>-0.507762</td>\n",
       "      <td>-0.036750</td>\n",
       "    </tr>\n",
       "  </tbody>\n",
       "</table>\n",
       "</div>\n",
       "      <button class=\"colab-df-convert\" onclick=\"convertToInteractive('df-38b83132-a783-4d94-ad84-6bdfa05d2d8c')\"\n",
       "              title=\"Convert this dataframe to an interactive table.\"\n",
       "              style=\"display:none;\">\n",
       "        \n",
       "  <svg xmlns=\"http://www.w3.org/2000/svg\" height=\"24px\"viewBox=\"0 0 24 24\"\n",
       "       width=\"24px\">\n",
       "    <path d=\"M0 0h24v24H0V0z\" fill=\"none\"/>\n",
       "    <path d=\"M18.56 5.44l.94 2.06.94-2.06 2.06-.94-2.06-.94-.94-2.06-.94 2.06-2.06.94zm-11 1L8.5 8.5l.94-2.06 2.06-.94-2.06-.94L8.5 2.5l-.94 2.06-2.06.94zm10 10l.94 2.06.94-2.06 2.06-.94-2.06-.94-.94-2.06-.94 2.06-2.06.94z\"/><path d=\"M17.41 7.96l-1.37-1.37c-.4-.4-.92-.59-1.43-.59-.52 0-1.04.2-1.43.59L10.3 9.45l-7.72 7.72c-.78.78-.78 2.05 0 2.83L4 21.41c.39.39.9.59 1.41.59.51 0 1.02-.2 1.41-.59l7.78-7.78 2.81-2.81c.8-.78.8-2.07 0-2.86zM5.41 20L4 18.59l7.72-7.72 1.47 1.35L5.41 20z\"/>\n",
       "  </svg>\n",
       "      </button>\n",
       "      \n",
       "  <style>\n",
       "    .colab-df-container {\n",
       "      display:flex;\n",
       "      flex-wrap:wrap;\n",
       "      gap: 12px;\n",
       "    }\n",
       "\n",
       "    .colab-df-convert {\n",
       "      background-color: #E8F0FE;\n",
       "      border: none;\n",
       "      border-radius: 50%;\n",
       "      cursor: pointer;\n",
       "      display: none;\n",
       "      fill: #1967D2;\n",
       "      height: 32px;\n",
       "      padding: 0 0 0 0;\n",
       "      width: 32px;\n",
       "    }\n",
       "\n",
       "    .colab-df-convert:hover {\n",
       "      background-color: #E2EBFA;\n",
       "      box-shadow: 0px 1px 2px rgba(60, 64, 67, 0.3), 0px 1px 3px 1px rgba(60, 64, 67, 0.15);\n",
       "      fill: #174EA6;\n",
       "    }\n",
       "\n",
       "    [theme=dark] .colab-df-convert {\n",
       "      background-color: #3B4455;\n",
       "      fill: #D2E3FC;\n",
       "    }\n",
       "\n",
       "    [theme=dark] .colab-df-convert:hover {\n",
       "      background-color: #434B5C;\n",
       "      box-shadow: 0px 1px 3px 1px rgba(0, 0, 0, 0.15);\n",
       "      filter: drop-shadow(0px 1px 2px rgba(0, 0, 0, 0.3));\n",
       "      fill: #FFFFFF;\n",
       "    }\n",
       "  </style>\n",
       "\n",
       "      <script>\n",
       "        const buttonEl =\n",
       "          document.querySelector('#df-38b83132-a783-4d94-ad84-6bdfa05d2d8c button.colab-df-convert');\n",
       "        buttonEl.style.display =\n",
       "          google.colab.kernel.accessAllowed ? 'block' : 'none';\n",
       "\n",
       "        async function convertToInteractive(key) {\n",
       "          const element = document.querySelector('#df-38b83132-a783-4d94-ad84-6bdfa05d2d8c');\n",
       "          const dataTable =\n",
       "            await google.colab.kernel.invokeFunction('convertToInteractive',\n",
       "                                                     [key], {});\n",
       "          if (!dataTable) return;\n",
       "\n",
       "          const docLinkHtml = 'Like what you see? Visit the ' +\n",
       "            '<a target=\"_blank\" href=https://colab.research.google.com/notebooks/data_table.ipynb>data table notebook</a>'\n",
       "            + ' to learn more about interactive tables.';\n",
       "          element.innerHTML = '';\n",
       "          dataTable['output_type'] = 'display_data';\n",
       "          await google.colab.output.renderOutput(dataTable, element);\n",
       "          const docLink = document.createElement('div');\n",
       "          docLink.innerHTML = docLinkHtml;\n",
       "          element.appendChild(docLink);\n",
       "        }\n",
       "      </script>\n",
       "    </div>\n",
       "  </div>\n",
       "  "
      ],
      "text/plain": [
       "          INV3      PRO6      INV1\n",
       "tic                               \n",
       "AAPL -0.419213 -0.150973  0.068229\n",
       "ABC   0.663853 -0.570907  0.086787\n",
       "ABMD -0.394706 -0.788425  0.311307\n",
       "ABT  -0.706199 -0.354962  0.053606\n",
       "ADBE -0.776732 -0.507762 -0.036750"
      ]
     },
     "execution_count": 6,
     "metadata": {},
     "output_type": "execute_result"
    }
   ],
   "source": [
    "#convenient function\n",
    "sign = lambda a: int((a>0)) - int((a<0))\n",
    "\n",
    "#preprocessing \n",
    "cov_, mean_ = forecasts[mth]\n",
    "N = len(mean_)\n",
    "cov = cov_[:N,:N] \n",
    "mean = mean_[:N,:]\n",
    "tics = list(rets.columns[:N])\n",
    "print(\"valid tickers:\", tics)\n",
    "\n",
    "#get the wharton research data for the valid tickers for the month\n",
    "wrds_tics = wrds_svm[wrds_svm.index.get_level_values('tic').isin(tics)].xs(mth, level=\"MonthStart\")\n",
    "cols = ['INV3', 'PRO6', 'INV1']\n",
    "\n",
    "Y = wrds_tics.loc[:,cols] # Y matrix in formulation \n",
    "Y.INV1 = -1*Y.INV1\n",
    "# Y['Momentum'] = wrds_tics.Momentum\n",
    "#restrict the wharton research data to the columns of interest\n",
    "Y_ =  (Y - Y.mean(axis=0))/(Y.std(axis=0)) #scale the features \n",
    "AssetLim = math.floor(N*0.5)\n",
    "ret_constr = -1\n",
    "soft_margin = 2500\n",
    "dpi_setting = 150\n",
    "Y_.head()\n",
    "#['INV1', 'INV3', 'PRO5', 'LIQ2', 'LIQ4', 'LIQ5'] bad results\n",
    "# ['INV3' ,  'LIQ5' ,  'GRW5'  ,  'LEV5' ,  'GRW7' ,  'Momentum' ] correlation hacking \n",
    "#'Vol', 'GRW7', 'PRO6', 'INV3', 'LEV5'"
   ]
  },
  {
   "cell_type": "code",
   "execution_count": 7,
   "metadata": {
    "colab": {
     "base_uri": "https://localhost:8080/"
    },
    "executionInfo": {
     "elapsed": 47614,
     "status": "ok",
     "timestamp": 1654040928190,
     "user": {
      "displayName": "Ryan Islip",
      "userId": "09447671168486293026"
     },
     "user_tz": 240
    },
    "id": "0lHbqvBLqfkO",
    "outputId": "c04aea7a-33f4-4a6d-c3ba-902c9fdeb4f4"
   },
   "outputs": [
    {
     "name": "stdout",
     "output_type": "stream",
     "text": [
      "Changed value of parameter MIPGap to 0.05\n",
      "   Prev: 0.0001  Min: 0.0  Max: inf  Default: 0.0001\n",
      "Solution time 45.141209840774536\n"
     ]
    }
   ],
   "source": [
    "MVO_ = MVO(tics, mean, cov, ret_constr, Y_, AssetLim)\n",
    "SVM_ = SVM(tics, Y_ ,  50*soft_margin)\n",
    "SVM_MVO_Fast = SVM_MVO_ADM(MVO_, SVM_, IterLim = 10, ParamLim = 15)\n",
    "SVM_MVO_Fast.MVO_.model.params.MIPGap = 0.05 \n",
    "\n",
    "SVM_MVO_Fast.MVO_.model.params.OutputFlag = 0\n",
    "SVM_MVO_Fast.SVM_.model.params.OutputFlag = 0\n",
    "SVM_MVO_Fast.MVO_.model.params.TimeLimit = 120\n",
    "SVM_MVO_Fast.SVM_.model.params.TimeLimit = 60\n",
    "\n",
    "SVM_MVO_Fast.silence_output()\n",
    "\n",
    "SVM_MVO_Fast.initialize_soln()\n",
    "\n",
    "ws , xs, zs , xi_mvo, xi_svm, dt, objectives_svm, objectives_mvo = SVM_MVO_Fast.solve_ADM()\n",
    "print(\"Solution time\", dt)\n"
   ]
  },
  {
   "cell_type": "code",
   "execution_count": 8,
   "metadata": {
    "colab": {
     "base_uri": "https://localhost:8080/",
     "height": 282
    },
    "executionInfo": {
     "elapsed": 20,
     "status": "ok",
     "timestamp": 1654040928191,
     "user": {
      "displayName": "Ryan Islip",
      "userId": "09447671168486293026"
     },
     "user_tz": 240
    },
    "id": "KRSsgMnTrARC",
    "outputId": "40a85b13-be9b-46df-ea9f-d3e6930390b9"
   },
   "outputs": [
    {
     "data": {
      "text/plain": [
       "[<matplotlib.lines.Line2D at 0x7f0273215b90>]"
      ]
     },
     "execution_count": 8,
     "metadata": {},
     "output_type": "execute_result"
    },
    {
     "data": {
      "image/png": "[encoded data removed]",
      "text/plain": [
       "<Figure size 432x288 with 1 Axes>"
      ]
     },
     "metadata": {},
     "output_type": "display_data"
    }
   ],
   "source": [
    "plt.plot(SVM_MVO_Fast.x.x)"
   ]
  },
  {
   "cell_type": "code",
   "execution_count": 9,
   "metadata": {
    "colab": {
     "base_uri": "https://localhost:8080/",
     "height": 317
    },
    "executionInfo": {
     "elapsed": 16,
     "status": "ok",
     "timestamp": 1654040928192,
     "user": {
      "displayName": "Ryan Islip",
      "userId": "09447671168486293026"
     },
     "user_tz": 240
    },
    "id": "vyUNSc_c6gSz",
    "outputId": "763672e7-25f6-4fdf-b42e-7171487406a3"
   },
   "outputs": [
    {
     "data": {
      "text/plain": [
       "[<matplotlib.lines.Line2D at 0x7f0273130550>,\n",
       " <matplotlib.lines.Line2D at 0x7f02731307d0>,\n",
       " <matplotlib.lines.Line2D at 0x7f0273130990>]"
      ]
     },
     "execution_count": 9,
     "metadata": {},
     "output_type": "execute_result"
    },
    {
     "data": {
      "image/png": "[encoded data removed]",
      "text/plain": [
       "<Figure size 432x288 with 1 Axes>"
      ]
     },
     "metadata": {},
     "output_type": "display_data"
    }
   ],
   "source": [
    "plt.plot(ws)"
   ]
  },
  {
   "cell_type": "code",
   "execution_count": 10,
   "metadata": {
    "colab": {
     "base_uri": "https://localhost:8080/",
     "height": 513
    },
    "executionInfo": {
     "elapsed": 14,
     "status": "ok",
     "timestamp": 1654040928192,
     "user": {
      "displayName": "Ryan Islip",
      "userId": "09447671168486293026"
     },
     "user_tz": 240
    },
    "id": "qlIB0bKarSI-",
    "outputId": "e3b84820-e45a-4643-c91c-439b7cfa1946"
   },
   "outputs": [
    {
     "data": {
      "image/png": "[encoded data removed]",
      "text/plain": [
       "<Figure size 432x288 with 1 Axes>"
      ]
     },
     "metadata": {},
     "output_type": "display_data"
    },
    {
     "data": {
      "image/png": "[encoded data removed]",
      "text/plain": [
       "<Figure size 432x288 with 1 Axes>"
      ]
     },
     "metadata": {},
     "output_type": "display_data"
    }
   ],
   "source": [
    "# plt.plot(SVM_MVO_Slck.w.x, label = 'Slack')\n",
    "plt.plot(SVM_MVO_Fast.w.x, label= 'ADM')\n",
    "plt.legend();\n",
    "\n",
    "plt.figure()\n",
    "#plt.plot(SVM_MVO_Slck.xi.x, label = 'Slack')\n",
    "plt.plot(SVM_MVO_Fast.xi_mvo.x, label= 'ADM')\n",
    "plt.legend();"
   ]
  },
  {
   "cell_type": "code",
   "execution_count": null,
   "metadata": {
    "colab": {
     "background_save": true,
     "base_uri": "https://localhost:8080/"
    },
    "id": "-YZtKE4HIRHN",
    "outputId": "651ff599-b207-412b-ed2d-3a8fc1b7eac6"
   },
   "outputs": [
    {
     "name": "stdout",
     "output_type": "stream",
     "text": [
      "ADM terminated with C =  10514.845254940277\n",
      "ADM terminated with C =  10514.845254940277\n",
      "ADM terminated with C =  10514.845254940277\n",
      "ADM terminated with C =  10514.845254940277\n",
      "ADM terminated with C =  10514.845254940277\n"
     ]
    },
    {
     "data": {
      "image/png": "[encoded data removed]",
      "text/plain": [
       "<Figure size 720x576 with 1 Axes>"
      ]
     },
     "metadata": {},
     "output_type": "display_data"
    }
   ],
   "source": [
    "adm_ef = SVM_MVO_Fast.get_frontier();"
   ]
  },
  {
   "cell_type": "code",
   "execution_count": null,
   "metadata": {
    "colab": {
     "background_save": true
    },
    "id": "7h5RWtg2Dxoy",
    "outputId": "42b61374-2744-4880-b1df-6c92388f9491"
   },
   "outputs": [
    {
     "name": "stdout",
     "output_type": "stream",
     "text": [
      "Gurobi Optimizer version 9.1.2 build v9.1.2rc0 (linux64)\n",
      "Thread count: 4 physical cores, 8 logical processors, using up to 8 threads\n",
      "Optimize a model with 2 rows, 572 columns and 572 nonzeros\n",
      "Model fingerprint: 0xdc0310da\n",
      "Model has 41041 quadratic objective terms\n",
      "Coefficient statistics:\n",
      "  Matrix range     [2e-04, 1e+00]\n",
      "  Objective range  [0e+00, 0e+00]\n",
      "  QObjective range [6e-07, 6e-01]\n",
      "  Bounds range     [0e+00, 0e+00]\n",
      "  RHS range        [1e+00, 1e+00]\n",
      "Presolve removed 0 rows and 286 columns\n",
      "Presolve time: 0.05s\n",
      "Presolved: 2 rows, 286 columns, 572 nonzeros\n",
      "Presolved model has 41041 quadratic objective terms\n",
      "Ordering time: 0.00s\n",
      "\n",
      "Barrier statistics:\n",
      " Free vars  : 285\n",
      " AA' NZ     : 4.104e+04\n",
      " Factor NZ  : 4.133e+04 (roughly 1 MByte of memory)\n",
      " Factor Ops : 7.921e+06 (less than 1 second per iteration)\n",
      " Threads    : 4\n",
      "\n",
      "                  Objective                Residual\n",
      "Iter       Primal          Dual         Primal    Dual     Compl     Time\n",
      "   0   2.21402282e+05 -2.21402282e+05  1.16e+05 7.01e-05  1.00e+06     0s\n",
      "   1   1.17256041e+06 -1.17251688e+06  2.44e+04 7.09e+01  2.28e+05     0s\n",
      "   2   2.16743866e+05 -2.16960641e+05  1.92e+03 1.16e-06  2.05e+04     0s\n",
      "   3   7.40196427e+03 -7.66287707e+03  4.70e+01 2.85e-08  5.62e+02     0s\n",
      "   4   2.01235717e-01 -2.79653475e+02  9.94e-02 6.02e-11  2.17e+00     0s\n",
      "   5   3.31899760e-02 -8.23017642e+01  9.94e-08 6.02e-17  2.87e-01     0s\n",
      "   6   3.30788687e-02 -1.25288483e-01  9.19e-11 1.39e-17  5.52e-04     0s\n",
      "   7   1.11764019e-02 -1.70705203e-02  7.35e-12 2.08e-17  9.84e-05     0s\n",
      "   8   3.63533550e-03 -8.96561570e-03  1.25e-16 6.36e-17  4.39e-05     0s\n",
      "   9   1.67760458e-03 -7.29300420e-04  4.16e-17 8.33e-17  8.39e-06     0s\n",
      "  10   1.17238251e-03 -2.64229402e-04  6.42e-17 2.08e-17  5.01e-06     0s\n",
      "  11   8.29736917e-04  6.20214559e-04  4.86e-17 1.91e-17  7.30e-07     0s\n",
      "  12   7.28414844e-04  6.62695702e-04  9.93e-17 1.21e-17  2.29e-07     0s\n",
      "  13   6.88956657e-04  6.85306387e-04  1.18e-16 1.04e-17  1.27e-08     0s\n",
      "  14   6.86160109e-04  6.86065849e-04  2.61e-15 1.13e-17  3.28e-10     0s\n",
      "  15   6.86089121e-04  6.86087741e-04  5.56e-15 1.08e-17  4.81e-12     0s\n",
      "\n",
      "Barrier solved model in 15 iterations and 0.20 seconds\n",
      "Optimal objective 6.86089121e-04\n",
      "\n"
     ]
    },
    {
     "data": {
      "image/png": "[encoded data removed]",
      "text/plain": [
       "<Figure size 720x576 with 1 Axes>"
      ]
     },
     "metadata": {},
     "output_type": "display_data"
    }
   ],
   "source": [
    "MVO2 = SVMMVO(tics, mean, cov, ret_constr, soft_margin, Y_, AssetLim,\\\n",
    "             svm_choice = (False, False), print_var_frntr= False) #define an instance of the class\n",
    "MVO2.set_model() #set up the model\n",
    "MVO2.optimize() #find optimal solution\n",
    "MVO2.model.params.outputflag = 0\n",
    "mv_ef = MVO2.get_frontier()"
   ]
  },
  {
   "cell_type": "code",
   "execution_count": null,
   "metadata": {
    "colab": {
     "background_save": true
    },
    "id": "ZbS6sw3qWUu_",
    "outputId": "e8b5f6ec-bc39-438c-f37f-13f3f59354c3"
   },
   "outputs": [
    {
     "data": {
      "image/png": "[encoded data removed]",
      "text/plain": [
       "<Figure size 432x288 with 1 Axes>"
      ]
     },
     "metadata": {},
     "output_type": "display_data"
    }
   ],
   "source": [
    "plt.plot(mv_ef[0][0], mv_ef[0][1]);\n",
    "plt.plot(adm_ef[0][0], adm_ef[0][1]);"
   ]
  },
  {
   "cell_type": "code",
   "execution_count": null,
   "metadata": {
    "colab": {
     "background_save": true
    },
    "id": "FGwp3de9_osU",
    "outputId": "4ceb5102-8df5-409d-d014-b2db7c65ae28"
   },
   "outputs": [
    {
     "data": {
      "image/png": "[encoded data removed]",
      "text/plain": [
       "<Figure size 432x288 with 1 Axes>"
      ]
     },
     "metadata": {},
     "output_type": "display_data"
    }
   ],
   "source": [
    "plt.plot(MVO2.x.x - SVM_MVO_Fast.x.x)\n",
    "prev_mvo = MVO2.x.X\n",
    "prev_svm = SVM_MVO_Fast.x.x"
   ]
  },
  {
   "cell_type": "code",
   "execution_count": 11,
   "metadata": {
    "executionInfo": {
     "elapsed": 343,
     "status": "ok",
     "timestamp": 1654040928523,
     "user": {
      "displayName": "Ryan Islip",
      "userId": "09447671168486293026"
     },
     "user_tz": 240
    },
    "id": "UOR7QY0woVcC"
   },
   "outputs": [],
   "source": [
    "return_premium = 0.1 #similiar to Costa and Kwon \n",
    "#Limit = 0.75/6 #1/6 because Costa and Kwon use 1 for 6 month period. \n",
    "T = len(rets.index) #becuase of the out sample\n",
    "\n",
    "def evaluate_adm(rets, forecasts, wrds_svm, return_premium, model_instance, \\\n",
    "                 T, N, cols, TurnoverLimit):\n",
    "  lr = 0.05 #learning rate for the SVM support vector\n",
    "  portfolio_weights = np.zeros([T,N])\n",
    "  oot_returns = np.zeros(T)\n",
    "  market = np.zeros(T)\n",
    "  M = len(cols)\n",
    "  wis = np.zeros([T,M])\n",
    "  bias = np.zeros(T)\n",
    "  times = []\n",
    "  i = 0 #index for dates\n",
    "  w_mabs = 10**(-9) #initialize\n",
    "  soln_mods = {}\n",
    "\n",
    "  for prd in rets.index.to_list()[:T]:\n",
    "    ret_ = rets.loc[prd][:N]\n",
    "    cov_, mean_ = forecasts[prd]\n",
    "    cov = cov_[:N,:N]\n",
    "    mean = mean_[:N,:]\n",
    "    tics = list(rets.columns[:N])\n",
    "    return_premium_temp = return_premium \n",
    "    #get the wharton research data for the valid tickers for the month\n",
    "    wrds_tics = wrds_svm[wrds_svm.index.get_level_values('tic').isin(tics)].xs(prd, level=\"MonthStart\")\n",
    "    #restrict the wharton research data to the columns of interest\n",
    "    #modifying WRDS dataset here if required\n",
    "    Y = wrds_tics.loc[:,cols] # Y matrix in formulation \n",
    "    Y_ =  (Y - Y.mean(axis=0))/(Y.std(axis=0))\n",
    "    if return_premium == -1:\n",
    "      ret_constr = -1\n",
    "    else:\n",
    "      ret_constr = mean.mean()*(1 + sign(mean.mean())*return_premium)\n",
    "    model_instance.MVO_.tics = tics\n",
    "    model_instance.SVM_.tics = tics\n",
    "    model_instance.MVO_.ret_constr = ret_constr\n",
    "    model_instance.MVO_.mean_ret = mean\n",
    "    model_instance.MVO_.cov = cov\n",
    "    model_instance.MVO_.exogenous = Y_\n",
    "    model_instance.SVM_.exogenous = Y_\n",
    "    mvo_cons = []\n",
    "    svm_cons = []\n",
    "\n",
    "    if i > 0: #not the first trade gets a constraint on turnover\n",
    "    #turnover constraint\n",
    "      x_prev = model_instance.MVO_.x.X\n",
    "    #policy constraint\n",
    "      w_mabs = (i/(i+1))*w_mabs + (1/(i+1))*np.abs(model_instance.SVM_.w.x).mean()\n",
    "      \n",
    "      w_prev = model_instance.SVM_.w.x\n",
    "      b_prev = model_instance.SVM_.b.x\n",
    "    #add turnover constraints\n",
    "      for v, absv, curr in zip(model_instance.MVO_.x.tolist(), model_instance.MVO_.abs.tolist(), x_prev.tolist()):\n",
    "        mvo_cons.append(absv >= v - curr)\n",
    "        mvo_cons.append(absv >= curr - v)\n",
    "      #q = cost*1/np.maximum(1, Prices)\n",
    "      q = 1*1/np.maximum(1, np.ones_like(x_prev))\n",
    "      mvo_cons.append(model_instance.MVO_.abs @ q <= TurnoverLimit)\n",
    "    #add constraints on w\n",
    "      u = model_instance.SVM_.model.addMVar(M, lb = np.zeros(M), ub = np.ones(M))\n",
    "      #epsilon allows change if w is 0\n",
    "      svm_cons.append(model_instance.SVM_.w <= w_prev + lr*w_mabs*u + model_instance.epsilon)# 'iter constraint 1'\n",
    "      svm_cons.append(model_instance.SVM_.w >= w_prev - lr*w_mabs*u - model_instance.epsilon)  #'iter constraint 2'\n",
    "\n",
    "    try:\n",
    "      model_instance.initialize_soln(constrs = mvo_cons, svm_constrs = svm_cons)\n",
    "    except:\n",
    "      print(\"Begin Relaxation\")\n",
    "    k = 1\n",
    "    while model_instance.MVO_.model.status == 4:\n",
    "      #if the model is infeasible the decrease the return constraint\n",
    "      #we do not have enough turnover the modify the portfolio to achive the \n",
    "      #return target... not a great place to be\n",
    "      print(\"Infeasible return constraint...Relaxing\")\n",
    "      return_premium_temp = return_premium - 0.05*k\n",
    "      ret_constr = mean.mean()*(1 + sign(mean.mean())*return_premium_temp)\n",
    "      model_instance.MVO_.ret_constr = ret_constr\n",
    "      model_instance.MVO_.ret_target[0].rhs = ret_constr\n",
    "      try:\n",
    "        model_instance.initialize_soln(constrs = mvo_cons, svm_constrs = svm_cons)\n",
    "      except:\n",
    "        print(\"Try to Relax Again\")\n",
    "      k = k+1\n",
    "\n",
    "\n",
    "    #model_instance.silence_output()\n",
    "    try:\n",
    "      model_instance.solve_ADM(store_data=False, constrs = mvo_cons, svm_constrs = svm_cons)\n",
    "    except:\n",
    "      print(\"Begin Relaxation\")\n",
    "    k = 1\n",
    "    while model_instance.MVO_.model.status == 4:\n",
    "      #if the model is infeasible the decrease the return constraint\n",
    "      #we do not have enough turnover the modify the portfolio to achive the \n",
    "      #return target... not a great place to be\n",
    "      print(\"Infeasible return constraint...Relaxing\")\n",
    "      return_premium_temp = return_premium - 0.05*k\n",
    "      ret_constr = mean.mean()*(1 + sign(mean.mean())*return_premium_temp)\n",
    "      model_instance.MVO_.ret_constr = ret_constr\n",
    "      model_instance.MVO_.ret_target[0].rhs = ret_constr\n",
    "      try:\n",
    "        model_instance.solve_ADM(store_data=False, constrs = mvo_cons, svm_constrs = svm_cons)\n",
    "      except:\n",
    "        print(\"Try to Relax Again\")\n",
    "      if k > 3:\n",
    "        model_instance.MVO_.ret_constr = -1\n",
    "        model_instance.MVO_.ret_target[0].rhs = -1\n",
    "        print(\"giving up ...  MVP\")\n",
    "        model_instance.solve_ADM(store_data=False, constrs = mvo_cons, svm_constrs = svm_cons)\n",
    "        break\n",
    "      k = k+1\n",
    "    \n",
    "\n",
    "\n",
    "    # if model_instance.model.IsMIP:\n",
    "    #   soln_mods[prd] = [model_instance.model.MIPGap, return_premium_temp]\n",
    "    # else:\n",
    "    model_instance.w = model_instance.w.x #convert to numpy array\n",
    "    model_instance.b = model_instance.b.x\n",
    "    # alpha = 0.95\n",
    "    # if i > 0:\n",
    "    #   model_instance.MVO_.svm_w = alpha*(model_instance.SVM_.w.x) + (1- alpha)*(w_prev)\n",
    "    #   model_instance.MVO_.svm_b = alpha*(model_instance.SVM_.b.x) + (1- alpha)*(b_prev)\n",
    "    #   model_instance.MVO_.optimize()\n",
    "    #   model_instance.x =  model_instance.MVO_.x\n",
    "    #   model_instance.w =  model_instance.MVO_.svm_w #numpy\n",
    "    #   model_instance.b =  model_instance.MVO_.svm_b #numpy\n",
    "\n",
    "    soln_mods[prd] = return_premium_temp\n",
    "    #oot_returns[i] = model_instance.evaluate(ret_)\n",
    "    market[i] = ret_.mean()\n",
    "    portfolio_weights[i, :] = model_instance.x.x\n",
    "    times.append(dt)\n",
    "    wis[i,:] = model_instance.w\n",
    "    bias[i] = model_instance.b\n",
    "\n",
    "    if i + 1 >= T:\n",
    "      break\n",
    "      \n",
    "    if i%12 == 0:\n",
    "      print(\"_\"*25)\n",
    "      print(\"Iteration \", i)\n",
    "      print(\"Percent Complete \", i/T)\n",
    "    i = i+1\n",
    "  \n",
    "  portfolio_weights = pd.DataFrame(portfolio_weights, index = rets.index[:T], columns = model_instance.tics)\n",
    "  oot_returns = pd.Series(oot_returns, index = rets.index[:T])\n",
    "  market = pd.Series(market, index = rets.index[:T])\n",
    "  return (portfolio_weights, oot_returns, market, wis, bias, soln_mods, times)"
   ]
  },
  {
   "cell_type": "code",
   "execution_count": null,
   "metadata": {
    "colab": {
     "background_save": true,
     "base_uri": "https://localhost:8080/"
    },
    "id": "4WlrGNR4uoII"
   },
   "outputs": [
    {
     "name": "stdout",
     "output_type": "stream",
     "text": [
      "_________________________\n",
      "Iteration  0\n",
      "Percent Complete  0.0\n",
      "ADM terminated with C =  125000.0\n"
     ]
    },
    {
     "name": "stderr",
     "output_type": "stream",
     "text": [
      "/content/gdrive/My Drive/Colab Notebooks/SVM MVO/PYFILES/svm_mvo.py:664: RuntimeWarning: divide by zero encountered in true_divide\n",
      "  relative_diff = np.all(np.abs((self.SVM_.w.x - w_prev)/w_prev) < 0.05)\n"
     ]
    },
    {
     "name": "stdout",
     "output_type": "stream",
     "text": [
      "ADM terminated with C =  884.4957658827211\n",
      "ADM terminated with C =  17251.39865115331\n",
      "ADM terminated with C =  28303.864508247076\n",
      "ADM terminated with C =  6408.8699688096685\n",
      "ADM terminated with C =  76188.35338777966\n",
      "ADM terminated with C =  46437.321535529634\n",
      "ADM terminated with C =  46437.321535529634\n",
      "ADM terminated with C =  6408.8699688096685\n",
      "_________________________\n",
      "Iteration  12\n",
      "Percent Complete  0.04938271604938271\n",
      "ADM terminated with C =  46437.321535529634\n",
      "ADM terminated with C =  1451.166297985301\n",
      "ADM terminated with C =  28303.864508247076\n",
      "ADM terminated with C =  1451.166297985301\n",
      "ADM terminated with C =  76188.35338777966\n",
      "ADM terminated with C =  28303.864508247076\n",
      "ADM terminated with C =  10514.845254940277\n",
      "ADM terminated with C =  46437.321535529634\n",
      "ADM terminated with C =  17251.39865115331\n",
      "ADM terminated with C =  46437.321535529634\n",
      "_________________________\n",
      "Iteration  24\n",
      "Percent Complete  0.09876543209876543\n",
      "ADM terminated with C =  76188.35338777966\n",
      "ADM terminated with C =  125000.0\n",
      "ADM terminated with C =  76188.35338777966\n",
      "ADM terminated with C =  3906.25\n",
      "ADM terminated with C =  1451.166297985301\n",
      "ADM terminated with C =  3906.25\n",
      "ADM terminated with C =  6408.8699688096685\n",
      "_________________________\n",
      "Iteration  36\n",
      "Percent Complete  0.14814814814814814\n",
      "ADM terminated with C =  46437.321535529634\n",
      "ADM terminated with C =  28303.864508247076\n",
      "ADM terminated with C =  10514.845254940277\n",
      "ADM terminated with C =  17251.39865115331\n",
      "ADM terminated with C =  46437.321535529634\n",
      "ADM terminated with C =  3906.25\n",
      "ADM terminated with C =  17251.39865115331\n",
      "ADM terminated with C =  17251.39865115331\n",
      "_________________________\n",
      "Iteration  48\n",
      "Percent Complete  0.19753086419753085\n",
      "ADM terminated with C =  10514.845254940277\n",
      "ADM terminated with C =  28303.864508247076\n",
      "ADM terminated with C =  6408.8699688096685\n",
      "_________________________\n",
      "Iteration  60\n",
      "Percent Complete  0.24691358024691357\n",
      "ADM terminated with C =  6408.8699688096685\n",
      "ADM terminated with C =  6408.8699688096685\n",
      "ADM terminated with C =  76188.35338777966\n",
      "ADM terminated with C =  125000.0\n",
      "ADM terminated with C =  46437.321535529634\n",
      "ADM terminated with C =  46437.321535529634\n",
      "_________________________\n",
      "Iteration  72\n",
      "Percent Complete  0.2962962962962963\n",
      "ADM terminated with C =  76188.35338777966\n",
      "ADM terminated with C =  76188.35338777966\n",
      "ADM terminated with C =  125000.0\n",
      "_________________________\n",
      "Iteration  84\n",
      "Percent Complete  0.345679012345679\n",
      "ADM terminated with C =  28303.864508247076\n",
      "ADM terminated with C =  46437.321535529634\n",
      "ADM terminated with C =  125000.0\n",
      "ADM terminated with C =  6408.8699688096685\n",
      "ADM terminated with C =  125000.0\n",
      "ADM terminated with C =  28303.864508247076\n",
      "ADM terminated with C =  10514.845254940277\n",
      "ADM terminated with C =  46437.321535529634\n",
      "_________________________\n",
      "Iteration  96\n",
      "Percent Complete  0.3950617283950617\n",
      "ADM terminated with C =  28303.864508247076\n",
      "ADM terminated with C =  76188.35338777966\n",
      "ADM terminated with C =  17251.39865115331\n",
      "ADM terminated with C =  6408.8699688096685\n",
      "ADM terminated with C =  1451.166297985301\n",
      "ADM terminated with C =  125000.0\n",
      "ADM terminated with C =  28303.864508247076\n",
      "ADM terminated with C =  17251.39865115331\n",
      "ADM terminated with C =  328.5889142168839\n",
      "ADM terminated with C =  17251.39865115331\n",
      "_________________________\n",
      "Iteration  108\n",
      "Percent Complete  0.4444444444444444\n",
      "ADM terminated with C =  28303.864508247076\n",
      "ADM terminated with C =  2380.886043368116\n",
      "ADM terminated with C =  6408.8699688096685\n",
      "ADM terminated with C =  46437.321535529634\n",
      "ADM terminated with C =  46437.321535529634\n",
      "ADM terminated with C =  10514.845254940277\n",
      "_________________________\n",
      "Iteration  120\n",
      "Percent Complete  0.49382716049382713\n",
      "ADM terminated with C =  884.4957658827211\n",
      "ADM terminated with C =  2380.886043368116\n",
      "ADM terminated with C =  6408.8699688096685\n",
      "ADM terminated with C =  1451.166297985301\n",
      "ADM terminated with C =  76188.35338777966\n",
      "ADM terminated with C =  28303.864508247076\n",
      "ADM terminated with C =  17251.39865115331\n",
      "ADM terminated with C =  884.4957658827211\n",
      "ADM terminated with C =  17251.39865115331\n",
      "ADM terminated with C =  17251.39865115331\n",
      "_________________________\n",
      "Iteration  132\n",
      "Percent Complete  0.5432098765432098\n",
      "ADM terminated with C =  6408.8699688096685\n",
      "ADM terminated with C =  3906.25\n",
      "ADM terminated with C =  10514.845254940277\n",
      "ADM terminated with C =  2380.886043368116\n",
      "ADM terminated with C =  6408.8699688096685\n",
      "ADM terminated with C =  539.106207848541\n",
      "ADM terminated with C =  539.106207848541\n",
      "ADM terminated with C =  539.106207848541\n",
      "ADM terminated with C =  6408.8699688096685\n",
      "ADM terminated with C =  3906.25\n",
      "_________________________\n",
      "Iteration  144\n",
      "Percent Complete  0.5925925925925926\n",
      "ADM terminated with C =  6408.8699688096685\n",
      "ADM terminated with C =  2380.886043368116\n",
      "ADM terminated with C =  3906.25\n",
      "ADM terminated with C =  3906.25\n",
      "Infeasible return constraint...Relaxing\n",
      "Infeasible return constraint...Relaxing\n",
      "Infeasible return constraint...Relaxing\n",
      "Infeasible return constraint...Relaxing\n",
      "ADM terminated with C =  28303.864508247076\n",
      "Infeasible return constraint...Relaxing\n",
      "Infeasible return constraint...Relaxing\n",
      "ADM terminated with C =  17251.39865115331\n",
      "Infeasible return constraint...Relaxing\n",
      "Infeasible return constraint...Relaxing\n",
      "ADM terminated with C =  17251.39865115331\n",
      "ADM terminated with C =  125000.0\n",
      "_________________________\n",
      "Iteration  156\n",
      "Percent Complete  0.6419753086419753\n",
      "ADM terminated with C =  3906.25\n",
      "ADM terminated with C =  125000.0\n",
      "ADM terminated with C =  2380.886043368116\n",
      "ADM terminated with C =  3906.25\n"
     ]
    },
    {
     "name": "stderr",
     "output_type": "stream",
     "text": [
      "/content/gdrive/My Drive/Colab Notebooks/SVM MVO/PYFILES/svm_mvo.py:664: RuntimeWarning: invalid value encountered in true_divide\n",
      "  relative_diff = np.all(np.abs((self.SVM_.w.x - w_prev)/w_prev) < 0.05)\n"
     ]
    },
    {
     "name": "stdout",
     "output_type": "stream",
     "text": [
      "ADM terminated with C =  200.27718652530214\n",
      "ADM terminated with C =  17251.39865115331\n",
      "_________________________\n",
      "Iteration  168\n",
      "Percent Complete  0.691358024691358\n",
      "ADM terminated with C =  3906.25\n",
      "ADM terminated with C =  76188.35338777966\n",
      "ADM terminated with C =  2380.886043368116\n",
      "ADM terminated with C =  17251.39865115331\n",
      "ADM terminated with C =  17251.39865115331\n",
      "ADM terminated with C =  28303.864508247076\n",
      "_________________________\n",
      "Iteration  180\n",
      "Percent Complete  0.7407407407407407\n",
      "ADM terminated with C =  17251.39865115331\n",
      "ADM terminated with C =  28303.864508247076\n",
      "ADM terminated with C =  125000.0\n",
      "ADM terminated with C =  46437.321535529634\n",
      "_________________________\n",
      "Iteration  192\n",
      "Percent Complete  0.7901234567901234\n",
      "ADM terminated with C =  6408.8699688096685\n",
      "ADM terminated with C =  46437.321535529634\n",
      "ADM terminated with C =  76188.35338777966\n",
      "ADM terminated with C =  76188.35338777966\n",
      "ADM terminated with C =  28303.864508247076\n",
      "ADM terminated with C =  6408.8699688096685\n",
      "ADM terminated with C =  1451.166297985301\n",
      "_________________________\n",
      "Iteration  204\n",
      "Percent Complete  0.8395061728395061\n",
      "ADM terminated with C =  1451.166297985301\n",
      "ADM terminated with C =  76188.35338777966\n",
      "ADM terminated with C =  125000.0\n",
      "ADM terminated with C =  10514.845254940277\n",
      "ADM terminated with C =  6408.8699688096685\n",
      "ADM terminated with C =  10514.845254940277\n",
      "ADM terminated with C =  28303.864508247076\n",
      "ADM terminated with C =  125000.0\n",
      "_________________________\n",
      "Iteration  216\n",
      "Percent Complete  0.8888888888888888\n",
      "ADM terminated with C =  1451.166297985301\n",
      "ADM terminated with C =  6408.8699688096685\n",
      "ADM terminated with C =  125000.0\n",
      "ADM terminated with C =  28303.864508247076\n",
      "ADM terminated with C =  1451.166297985301\n",
      "_________________________\n",
      "Iteration  228\n",
      "Percent Complete  0.9382716049382716\n",
      "ADM terminated with C =  125000.0\n",
      "ADM terminated with C =  884.4957658827211\n",
      "_________________________\n",
      "Iteration  240\n",
      "Percent Complete  0.9876543209876543\n",
      "ADM terminated with C =  17251.39865115331\n"
     ]
    }
   ],
   "source": [
    "# adm_results = evaluate_adm(rets, forecasts, wrds_svm, return_premium, SVM_MVO_Fast, T, N, cols, 0.75/6)\n",
    "# with open(\"gdrive/My Drive/Colab Notebooks/SVM MVO/DATA/Card05_oot_0_75.pkl\", 'wb') as fp:\n",
    "#   pkl.dump(adm_results, fp);\n",
    "\n",
    "# adm_results = evaluate_adm(rets, forecasts, wrds_svm, return_premium, SVM_MVO_Fast, T, N, cols, 1/6)\n",
    "# with open(\"gdrive/My Drive/Colab Notebooks/SVM MVO/DATA/Card05_oot_1.pkl\", 'wb') as fp:\n",
    "#   pkl.dump(adm_results, fp);\n",
    "\n",
    "adm_results = evaluate_adm(rets, forecasts, wrds_svm, return_premium, SVM_MVO_Fast, T, N, cols, 1.25/6)\n",
    "with open(\"gdrive/My Drive/Colab Notebooks/SVM MVO/DATA/Test_Card05_oot_1_25.pkl\", 'wb') as fp:\n",
    "  pkl.dump(adm_results, fp);\n",
    "\n"
   ]
  },
  {
   "cell_type": "code",
   "execution_count": null,
   "metadata": {
    "id": "OsG2qKKPbAZG"
   },
   "outputs": [],
   "source": []
  }
 ],
 "metadata": {
  "colab": {
   "authorship_tag": "ABX9TyNQrUujCMFfJJdCvM4l6eoJ",
   "background_execution": "on",
   "collapsed_sections": [],
   "machine_shape": "hm",
   "mount_file_id": "1hDdRLz3mUB0Ldphf50Bl9ZWw8qHh1iP5",
   "name": "ADM Factor OOT v2.ipynb",
   "version": ""
  },
  "kernelspec": {
   "display_name": "Python 3",
   "name": "python3"
  },
  "language_info": {
   "name": "python"
  }
 },
 "nbformat": 4,
 "nbformat_minor": 0
}
