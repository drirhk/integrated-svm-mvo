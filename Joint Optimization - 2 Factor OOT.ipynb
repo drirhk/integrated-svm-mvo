{
 "cells": [
  {
   "cell_type": "markdown",
   "metadata": {
    "id": "MqN_y29M6YR8"
   },
   "source": [
    "### Integration of SVM and MVO \n",
    "3 factor, 3 turnover, premium of 10% experiments\n",
    "\n",
    "This notebook only contains exact solves"
   ]
  },
  {
   "cell_type": "code",
   "execution_count": 1,
   "metadata": {
    "colab": {
     "base_uri": "https://localhost:8080/"
    },
    "executionInfo": {
     "elapsed": 117735,
     "status": "ok",
     "timestamp": 1665772772163,
     "user": {
      "displayName": "Ryan Islip",
      "userId": "09447671168486293026"
     },
     "user_tz": 240
    },
    "id": "l3fEvFDq6PgZ",
    "outputId": "cb2fa87c-22f8-40e6-bafa-2d10354be140"
   },
   "outputs": [
    {
     "name": "stdout",
     "output_type": "stream",
     "text": [
      "Set parameter Username\n",
      "Academic license - for non-commercial use only - expires 2023-08-09\n"
     ]
    }
   ],
   "source": [
    "import gurobipy as gp\n",
    "from gurobipy import GRB\n",
    "pth = ''\n",
    "import sys\n",
    "import math \n",
    "import time\n",
    "\n",
    "from python.packages import *\n",
    "from python.svm_mvo import *\n",
    "from python.analysis_tools import *\n",
    "\n",
    "%matplotlib inline\n",
    "\n",
    "%matplotlib inline\n",
    "\n",
    "## Import Forecasts\n",
    "\n",
    "forecasts = pd.read_pickle(pth +'cache/Forecasts.pkl')\n",
    "## Import Returns\n",
    "rets = pd.read_pickle(pth + 'cache/RETS.pkl')\n",
    "## Import feature vectors\n",
    "wrds_svm = pd.read_pickle(pth + 'cache/WRDS_ASOF.pkl')\n",
    "## Import monthly prices\n",
    "prices = pd.read_pickle(pth + 'cache/PRICES.pkl')"
   ]
  },
  {
   "cell_type": "code",
   "execution_count": 1,
   "metadata": {
    "colab": {
     "base_uri": "https://localhost:8080/"
    },
    "executionInfo": {
     "elapsed": 233,
     "status": "ok",
     "timestamp": 1654025742096,
     "user": {
      "displayName": "Ryan Islip",
      "userId": "09447671168486293026"
     },
     "user_tz": 240
    },
    "id": "5NswPR4F6Wvy",
    "outputId": "faffcf99-b4d6-41ef-f571-5f7f53758373"
   },
   "outputs": [
    {
     "ename": "NameError",
     "evalue": "name 'rets' is not defined",
     "output_type": "error",
     "traceback": [
      "\u001B[1;31m---------------------------------------------------------------------------\u001B[0m",
      "\u001B[1;31mNameError\u001B[0m                                 Traceback (most recent call last)",
      "Cell \u001B[1;32mIn [1], line 1\u001B[0m\n\u001B[1;32m----> 1\u001B[0m mth \u001B[38;5;241m=\u001B[39m \u001B[43mrets\u001B[49m\u001B[38;5;241m.\u001B[39mindex[\u001B[38;5;241m0\u001B[39m]\n\u001B[0;32m      2\u001B[0m mth\n",
      "\u001B[1;31mNameError\u001B[0m: name 'rets' is not defined"
     ]
    }
   ],
   "source": [
    "mth = rets.index[0]\n",
    "mth"
   ]
  },
  {
   "cell_type": "code",
   "execution_count": 4,
   "metadata": {
    "colab": {
     "base_uri": "https://localhost:8080/"
    },
    "executionInfo": {
     "elapsed": 203,
     "status": "ok",
     "timestamp": 1654025743278,
     "user": {
      "displayName": "Ryan Islip",
      "userId": "09447671168486293026"
     },
     "user_tz": 240
    },
    "id": "nYBpVMDbM5Pi",
    "outputId": "2ae044f3-e81c-45bf-98d1-7069b94141c1"
   },
   "outputs": [
    {
     "name": "stdout",
     "output_type": "stream",
     "text": [
      "valid tickers: ['AAPL', 'ABC', 'ABMD', 'ABT', 'ADBE', 'ADI', 'ADM', 'ADP', 'ADSK', 'AEE', 'AEP', 'AES', 'AJG', 'AKAM', 'ALB', 'ALK', 'AMAT', 'AMD', 'AME', 'AMGN', 'AMT', 'AMZN', 'ANSS', 'AON', 'AOS', 'APA', 'APD', 'APH', 'ATO', 'AVY', 'AZO', 'BA', 'BAX', 'BBY', 'BDX', 'BKNG', 'BLL', 'BMY', 'BSX', 'BWA', 'CAG', 'CAH', 'CAT', 'CCI', 'CCL', 'CDNS', 'CERN', 'CHD', 'CHRW', 'CI', 'CL', 'CLX', 'CMCSA', 'CMI', 'CMS', 'CNP', 'COO', 'COP', 'COST', 'CPB', 'CPRT', 'CSCO', 'CSX', 'CTAS', 'CTSH', 'CTXS', 'CVS', 'CVX', 'D', 'DD', 'DGX', 'DHR', 'DIS', 'DISH', 'DLTR', 'DOV', 'DRI', 'DTE', 'DUK', 'DVA', 'DVN', 'DXC', 'EA', 'EBAY', 'ECL', 'ED', 'EFX', 'EIX', 'EL', 'EMN', 'EMR', 'EOG', 'ES', 'ETN', 'ETR', 'EVRG', 'EXC', 'EXPD', 'F', 'FAST', 'FCX', 'FDX', 'FE', 'FFIV', 'FISV', 'FLS', 'FMC', 'GD', 'GIS', 'GLW', 'GPC', 'GPS', 'GWW', 'HAL', 'HAS', 'HD', 'HES', 'HFC', 'HOG', 'HOLX', 'HON', 'HP', 'HPQ', 'HRB', 'HRL', 'HSIC', 'HSY', 'HUM', 'IBM', 'IDXX', 'IEX', 'IFF', 'INCY', 'INTC', 'INTU', 'IP', 'IPG', 'IRM', 'IT', 'ITW', 'IVZ', 'J', 'JBHT', 'JCI', 'JKHY', 'JNJ', 'JNPR', 'JWN', 'K', 'KLAC', 'KMB', 'KMX', 'KO', 'KR', 'KSS', 'KSU', 'LEG', 'LH', 'LHX', 'LIN', 'LLY', 'LMT', 'LNT', 'LOW', 'LRCX', 'LUV', 'M', 'MAR', 'MAS', 'MCD', 'MCHP', 'MCK', 'MCO', 'MDT', 'MGM', 'MHK', 'MKC', 'MLM', 'MMC', 'MMM', 'MO', 'MRK', 'MRO', 'MSFT', 'MSI', 'MTD', 'MU', 'MXIM', 'NEE', 'NEM', 'NI', 'NKE', 'NLOK', 'NOC', 'NOV', 'NSC', 'NTAP', 'NUE', 'NVDA', 'NWL', 'OMC', 'ORCL', 'ORLY', 'OXY', 'PAYX', 'PEG', 'PEP', 'PFE', 'PG', 'PH', 'PKI', 'PNR', 'PNW', 'PPG', 'PPL', 'PRGO', 'PVH', 'PWR', 'PXD', 'QCOM', 'RCL', 'REGN', 'RHI', 'RL', 'RMD', 'ROK', 'ROL', 'ROP', 'ROST', 'RSG', 'RTX', 'SBAC', 'SBUX', 'SEE', 'SHW', 'SJM', 'SLB', 'SNA', 'SNPS', 'SO', 'SPGI', 'SRE', 'STE', 'STZ', 'SWK', 'SWKS', 'SYK', 'SYY', 'T', 'TAP', 'TFX', 'TGT', 'TJX', 'TMO', 'TSCO', 'TSN', 'TT', 'TXN', 'TXT', 'UHS', 'UNH', 'UNP', 'URI', 'VFC', 'VLO', 'VMC', 'VRSN', 'VRTX', 'VZ', 'WAB', 'WAT', 'WBA', 'WDC', 'WEC', 'WHR', 'WM', 'WMB', 'WMT', 'WY', 'XEL', 'XLNX', 'XOM', 'XRAY', 'XRX', 'YUM', 'ZBRA']\n"
     ]
    }
   ],
   "source": [
    "#convenient function\n",
    "sign = lambda a: int((a>0)) - int((a<0))\n",
    "\n",
    "#preprocessing \n",
    "cov_, mean_ = forecasts[mth]\n",
    "N = len(mean_)\n",
    "cov = cov_[:N,:N]\n",
    "mean = mean_[:N,:]\n",
    "tics = list(rets.columns[:N])\n",
    "print(\"valid tickers:\", tics)\n",
    "\n",
    "#get the wharton research data for the valid tickers for the month\n",
    "wrds_tics = wrds_svm[wrds_svm.index.get_level_values('tic').isin(tics)].xs(mth, level=\"MonthStart\")\n",
    "\n",
    "#restrict the wharton research data to the columns of interest\n",
    "Y = wrds_tics.loc[:,\"ROC1\":\"Vol\"] # Y matrix in formulation as per the paper\n",
    "cols = ['Vol']\n",
    "\n",
    "Y = wrds_tics.loc[:,cols] # Y matrix in formulation \n",
    "Y.Vol = -1*Y.Vol\n",
    "Y_ =  (Y - Y.mean(axis=0))/(Y.std(axis=0)) #scale the features\n",
    "                                 #for the SVM\n",
    "\n",
    "AssetLim = math.floor(N*0.3)\n",
    "\n",
    "ret_constr = -1\n",
    "soft_margin = 10000"
   ]
  },
  {
   "cell_type": "code",
   "execution_count": 5,
   "metadata": {
    "id": "_wCkTgWbCJW7"
   },
   "outputs": [],
   "source": [
    "import time\n",
    "def cb(model, where):\n",
    "    if where == GRB.Callback.MIPNODE:\n",
    "        # Get model objective\n",
    "        obj = model.cbGet(GRB.Callback.MIPNODE_OBJBST)\n",
    "\n",
    "        # Has objective changed?\n",
    "        if abs(obj - model._cur_obj) > 1e-8:\n",
    "            # If so, update incumbent and time\n",
    "            model._cur_obj = obj\n",
    "            model._time = time.time()\n",
    "\n",
    "    # Terminate if objective has not improved in 60s\n",
    "    if time.time() - model._time > 120:\n",
    "        model.terminate()"
   ]
  },
  {
   "cell_type": "code",
   "execution_count": 6,
   "metadata": {},
   "outputs": [
    {
     "data": {
      "text/html": [
       "<div>\n",
       "<style scoped>\n",
       "    .dataframe tbody tr th:only-of-type {\n",
       "        vertical-align: middle;\n",
       "    }\n",
       "\n",
       "    .dataframe tbody tr th {\n",
       "        vertical-align: top;\n",
       "    }\n",
       "\n",
       "    .dataframe thead th {\n",
       "        text-align: right;\n",
       "    }\n",
       "</style>\n",
       "<table border=\"1\" class=\"dataframe\">\n",
       "  <thead>\n",
       "    <tr style=\"text-align: right;\">\n",
       "      <th></th>\n",
       "      <th>Vol</th>\n",
       "    </tr>\n",
       "    <tr>\n",
       "      <th>tic</th>\n",
       "      <th></th>\n",
       "    </tr>\n",
       "  </thead>\n",
       "  <tbody>\n",
       "    <tr>\n",
       "      <th>AAPL</th>\n",
       "      <td>-0.040999</td>\n",
       "    </tr>\n",
       "    <tr>\n",
       "      <th>ABC</th>\n",
       "      <td>-0.056325</td>\n",
       "    </tr>\n",
       "    <tr>\n",
       "      <th>ABMD</th>\n",
       "      <td>-0.071497</td>\n",
       "    </tr>\n",
       "    <tr>\n",
       "      <th>ABT</th>\n",
       "      <td>-0.014319</td>\n",
       "    </tr>\n",
       "    <tr>\n",
       "      <th>ADBE</th>\n",
       "      <td>-0.081889</td>\n",
       "    </tr>\n",
       "    <tr>\n",
       "      <th>...</th>\n",
       "      <td>...</td>\n",
       "    </tr>\n",
       "    <tr>\n",
       "      <th>XOM</th>\n",
       "      <td>-0.008261</td>\n",
       "    </tr>\n",
       "    <tr>\n",
       "      <th>XRAY</th>\n",
       "      <td>-0.010843</td>\n",
       "    </tr>\n",
       "    <tr>\n",
       "      <th>XRX</th>\n",
       "      <td>-0.037908</td>\n",
       "    </tr>\n",
       "    <tr>\n",
       "      <th>YUM</th>\n",
       "      <td>-0.017479</td>\n",
       "    </tr>\n",
       "    <tr>\n",
       "      <th>ZBRA</th>\n",
       "      <td>-0.039194</td>\n",
       "    </tr>\n",
       "  </tbody>\n",
       "</table>\n",
       "<p>286 rows × 1 columns</p>\n",
       "</div>"
      ],
      "text/plain": [
       "           Vol\n",
       "tic           \n",
       "AAPL -0.040999\n",
       "ABC  -0.056325\n",
       "ABMD -0.071497\n",
       "ABT  -0.014319\n",
       "ADBE -0.081889\n",
       "...        ...\n",
       "XOM  -0.008261\n",
       "XRAY -0.010843\n",
       "XRX  -0.037908\n",
       "YUM  -0.017479\n",
       "ZBRA -0.039194\n",
       "\n",
       "[286 rows x 1 columns]"
      ]
     },
     "execution_count": 6,
     "metadata": {},
     "output_type": "execute_result"
    }
   ],
   "source": [
    "Y"
   ]
  },
  {
   "cell_type": "markdown",
   "metadata": {
    "id": "W3ta3eSVfHCy"
   },
   "source": [
    "### Simple Min Variance Portfolio "
   ]
  },
  {
   "cell_type": "code",
   "execution_count": 8,
   "metadata": {
    "colab": {
     "base_uri": "https://localhost:8080/"
    },
    "executionInfo": {
     "elapsed": 625,
     "status": "ok",
     "timestamp": 1654025747333,
     "user": {
      "displayName": "Ryan Islip",
      "userId": "09447671168486293026"
     },
     "user_tz": 240
    },
    "id": "7kwcvWSsHzZ5",
    "outputId": "f266189a-15c0-411a-a0c2-60b2a9d809f9"
   },
   "outputs": [
    {
     "name": "stdout",
     "output_type": "stream",
     "text": [
      "Set parameter MIPGap to value 0.05\n",
      "Gurobi Optimizer version 9.5.2 build v9.5.2rc0 (win64)\n",
      "Thread count: 4 physical cores, 8 logical processors, using up to 8 threads\n",
      "Optimize a model with 290 rows, 858 columns and 1716 nonzeros\n",
      "Model fingerprint: 0xff550f86\n",
      "Model has 41041 quadratic objective terms\n",
      "Model has 286 general constraints\n",
      "Variable types: 572 continuous, 286 integer (286 binary)\n",
      "Coefficient statistics:\n",
      "  Matrix range     [2e-04, 1e+00]\n",
      "  Objective range  [0e+00, 0e+00]\n",
      "  QObjective range [6e-07, 6e-01]\n",
      "  Bounds range     [1e+00, 1e+00]\n",
      "  RHS range        [1e+00, 3e+01]\n",
      "  GenCon rhs range [1e-05, 1e-05]\n",
      "  GenCon coe range [1e+00, 1e+00]\n",
      "Presolve added 284 rows and 0 columns\n",
      "Presolve removed 0 rows and 286 columns\n",
      "Presolve time: 0.05s\n",
      "Presolved: 574 rows, 572 columns, 1716 nonzeros\n",
      "Presolved model has 41041 quadratic objective terms\n",
      "Variable types: 286 continuous, 286 integer (286 binary)\n",
      "Found heuristic solution: objective 0.0391937\n",
      "\n",
      "Root relaxation: objective 6.860883e-04, 182 iterations, 0.02 seconds (0.01 work units)\n",
      "\n",
      "    Nodes    |    Current Node    |     Objective Bounds      |     Work\n",
      " Expl Unexpl |  Obj  Depth IntInf | Incumbent    BestBd   Gap | It/Node Time\n",
      "\n",
      "H    0     0                       0.0157159    0.00069  95.6%     -    0s\n",
      "     0     0    0.00069    0   48    0.01572    0.00069  95.6%     -    0s\n",
      "H    0     0                       0.0008248    0.00069  16.8%     -    0s\n",
      "H    0     0                       0.0008203    0.00069  16.4%     -    0s\n",
      "     0     0    0.00069    0   48    0.00082    0.00069  16.4%     -    0s\n",
      "H    0     0                       0.0006986    0.00069  1.80%     -    0s\n",
      "\n",
      "Explored 1 nodes (182 simplex iterations) in 0.26 seconds (0.06 work units)\n",
      "Thread count was 8 (of 8 available processors)\n",
      "\n",
      "Solution count 5: 0.000698643 0.000820325 0.000824784 ... 0.0391937\n",
      "\n",
      "Optimal solution found (tolerance 5.00e-02)\n",
      "Best objective 6.986431615637e-04, best bound 6.860882954874e-04, gap 1.7970%\n"
     ]
    },
    {
     "data": {
      "text/plain": [
       "0.27638936042785645"
      ]
     },
     "execution_count": 8,
     "metadata": {},
     "output_type": "execute_result"
    }
   ],
   "source": [
    "MVO = SVMMVO(tics, mean, cov, ret_constr, soft_margin, Y, AssetLim,\\\n",
    "             svm_choice = (False, False), print_var_frntr= True, cardinality = True) #define an instance of the class\n",
    "MVO.setModel() #set up the model\n",
    "\n",
    "MVO.model.Params.MIPGAP = 0.05\n",
    "MVO.optimize() #find optimal solution"
   ]
  },
  {
   "cell_type": "markdown",
   "metadata": {
    "id": "K7you9bPfMGK"
   },
   "source": [
    "### Mean Variance and SVM Joint Formulation"
   ]
  },
  {
   "cell_type": "code",
   "execution_count": 10,
   "metadata": {
    "colab": {
     "base_uri": "https://localhost:8080/"
    },
    "executionInfo": {
     "elapsed": 2107,
     "status": "ok",
     "timestamp": 1654025776094,
     "user": {
      "displayName": "Ryan Islip",
      "userId": "09447671168486293026"
     },
     "user_tz": 240
    },
    "id": "0lHbqvBLqfkO",
    "outputId": "9dfc3710-bf67-4564-db8a-7996bfe4502a"
   },
   "outputs": [
    {
     "name": "stdout",
     "output_type": "stream",
     "text": [
      "Gurobi Optimizer version 9.5.2 build v9.5.2rc0 (win64)\n",
      "Thread count: 4 physical cores, 8 logical processors, using up to 8 threads\n",
      "Optimize a model with 862 rows, 860 columns and 3432 nonzeros\n",
      "Model fingerprint: 0xd5b937b8\n",
      "Model has 41042 quadratic objective terms\n",
      "Variable types: 574 continuous, 286 integer (286 binary)\n",
      "Coefficient statistics:\n",
      "  Matrix range     [2e-04, 1e+02]\n",
      "  Objective range  [0e+00, 0e+00]\n",
      "  QObjective range [6e-07, 1e+00]\n",
      "  Bounds range     [1e+00, 1e+00]\n",
      "  RHS range        [1e-05, 1e+02]\n",
      "Presolve removed 2 rows and 286 columns\n",
      "Presolve time: 0.01s\n",
      "Presolved: 860 rows, 574 columns, 2860 nonzeros\n",
      "Presolved model has 41042 quadratic objective terms\n",
      "Variable types: 288 continuous, 286 integer (286 binary)\n",
      "\n",
      "Root relaxation: objective 6.860883e-04, 673 iterations, 0.02 seconds (0.01 work units)\n",
      "\n",
      "    Nodes    |    Current Node    |     Objective Bounds      |     Work\n",
      " Expl Unexpl |  Obj  Depth IntInf | Incumbent    BestBd   Gap | It/Node Time\n",
      "\n",
      "     0     0    0.00069    0  286          -    0.00069      -     -    0s\n",
      "H    0     0                       0.7199965    0.00069   100%     -    0s\n",
      "H    0     0                       0.0073218    0.00069  90.6%     -    0s\n",
      "     0     0    0.00069    0  286    0.00732    0.00069  90.6%     -    0s\n",
      "H    0     0                       0.0025259    0.00069  72.8%     -    0s\n",
      "     0     2    0.00069    0  286    0.00253    0.00069  72.8%     -    0s\n",
      "* 1382   429             237       0.0024245    0.00069  71.7%  12.8    1s\n",
      "* 1956   293             148       0.0018547    0.00080  57.0%  12.0    2s\n",
      "* 2565    66             153       0.0016263    0.00100  38.3%  10.6    2s\n",
      "\n",
      "Cutting planes:\n",
      "  Cover: 1\n",
      "\n",
      "Explored 2767 nodes (28364 simplex iterations) in 2.49 seconds (2.81 work units)\n",
      "Thread count was 8 (of 8 available processors)\n",
      "\n",
      "Solution count 5: 0.00162625 0.00185469 0.00242451 ... 0.719996\n",
      "\n",
      "Optimal solution found (tolerance 1.00e-04)\n",
      "Warning: max constraint violation (7.1220e-06) exceeds tolerance\n",
      "Best objective 1.626254819630e-03, best bound 1.626254819630e-03, gap 0.0000%\n"
     ]
    },
    {
     "data": {
      "text/plain": [
       "2.5123581886291504"
      ]
     },
     "execution_count": 10,
     "metadata": {},
     "output_type": "execute_result"
    }
   ],
   "source": [
    "SVM_MVO = SVMMVO(tics, mean, cov, ret_constr, soft_margin, Y, AssetLim, \\\n",
    "                 svm_choice = (True, False), print_var_frntr = False )\n",
    "SVM_MVO.setModel()\n",
    "SVM_MVO.optimize()"
   ]
  },
  {
   "cell_type": "markdown",
   "metadata": {
    "id": "XxGCqUt7E3x1"
   },
   "source": [
    "### Mean Variance and SVM Joint Formulation with Slacks"
   ]
  },
  {
   "cell_type": "code",
   "execution_count": 11,
   "metadata": {
    "colab": {
     "base_uri": "https://localhost:8080/"
    },
    "executionInfo": {
     "elapsed": 112135,
     "status": "ok",
     "timestamp": 1653837413155,
     "user": {
      "displayName": "Ryan Islip",
      "userId": "09447671168486293026"
     },
     "user_tz": 240
    },
    "id": "4AbEMjyzSe1H",
    "outputId": "8dba6e0f-6495-4c1f-ab37-c9361e8b1afd"
   },
   "outputs": [
    {
     "name": "stdout",
     "output_type": "stream",
     "text": [
      "Gurobi Optimizer version 9.5.2 build v9.5.2rc0 (win64)\n",
      "Thread count: 4 physical cores, 8 logical processors, using up to 8 threads\n",
      "Optimize a model with 862 rows, 1146 columns and 4004 nonzeros\n",
      "Model fingerprint: 0x23414093\n",
      "Model has 41042 quadratic objective terms\n",
      "Variable types: 860 continuous, 286 integer (286 binary)\n",
      "Coefficient statistics:\n",
      "  Matrix range     [2e-04, 1e+02]\n",
      "  Objective range  [3e+01, 3e+01]\n",
      "  QObjective range [6e-07, 1e+00]\n",
      "  Bounds range     [1e+00, 1e+00]\n",
      "  RHS range        [1e-05, 1e+02]\n",
      "Found heuristic solution: objective 2.000000e+13\n",
      "Presolve removed 2 rows and 286 columns\n",
      "Presolve time: 0.01s\n",
      "Presolved: 860 rows, 860 columns, 3432 nonzeros\n",
      "Presolved model has 41042 quadratic objective terms\n",
      "Variable types: 574 continuous, 286 integer (286 binary)\n",
      "\n",
      "Root relaxation: objective 6.860883e-04, 673 iterations, 0.02 seconds (0.01 work units)\n",
      "\n",
      "    Nodes    |    Current Node    |     Objective Bounds      |     Work\n",
      " Expl Unexpl |  Obj  Depth IntInf | Incumbent    BestBd   Gap | It/Node Time\n",
      "\n",
      "     0     0    0.00069    0  286 2.0000e+13    0.00069   100%     -    0s\n",
      "H    0     0                       0.0207846    0.00069  96.7%     -    0s\n",
      "H    0     0                       0.0201715    0.00069  96.6%     -    0s\n",
      "H    0     0                       0.0185978    0.00069  96.3%     -    0s\n",
      "H    0     0                       0.0139325    0.00069  95.1%     -    0s\n",
      "     0     0    0.00069    0  286    0.01393    0.00069  95.1%     -    0s\n",
      "     0     2    0.00069    0  286    0.01393    0.00069  95.1%     -    0s\n",
      "H   31    39                       0.0078928    0.00069  91.3%   108    0s\n",
      "H   33    39                       0.0059696    0.00069  88.5%   102    0s\n",
      "H  357   277                       0.0056510    0.00069  87.9%  58.1    0s\n",
      "H  358   277                       0.0053865    0.00069  87.3%  58.0    0s\n",
      "H  409   298                       0.0046681    0.00069  85.3%  61.9    1s\n",
      "H  732   405                       0.0039557    0.00069  82.7%  63.7    1s\n",
      "H  734   349                       0.0033737    0.00069  79.7%  63.5    2s\n",
      "H  735   341                       0.0032645    0.00069  79.0%  63.4    2s\n",
      "H  970   269                       0.0025259    0.00069  72.5%  67.8    2s\n",
      "  1243   367    0.00220   29   44    0.00253    0.00069  72.5%  63.8    5s\n",
      "  2887   648    0.00069   19  280    0.00253    0.00069  72.5%  46.1   10s\n",
      "  4719  1343    0.00209   35   30    0.00253    0.00078  69.0%  43.8   15s\n",
      "H 5549   582                       0.0018235    0.00091  49.9%  41.0   15s\n",
      "  8510    52    0.00164   27   40    0.00182    0.00159  12.9%  34.6   20s\n",
      "\n",
      "Explored 8776 nodes (300381 simplex iterations) in 20.44 seconds (15.01 work units)\n",
      "Thread count was 8 (of 8 available processors)\n",
      "\n",
      "Solution count 10: 0.00182345 0.00252594 0.00326453 ... 0.00789277\n",
      "\n",
      "Optimal solution found (tolerance 1.00e-04)\n",
      "Warning: max constraint violation (6.7178e-06) exceeds tolerance\n",
      "Best objective 1.823452621227e-03, best bound 1.823452621227e-03, gap 0.0000%\n"
     ]
    },
    {
     "data": {
      "text/plain": [
       "20.466012716293335"
      ]
     },
     "execution_count": 11,
     "metadata": {},
     "output_type": "execute_result"
    }
   ],
   "source": [
    "#SVM with slack \n",
    "SVM_MVO_Slck = SVMMVO(tics, mean, cov, ret_constr, soft_margin, Y, AssetLim, \\\n",
    "                      svm_choice = (True, True), print_var_frntr = False)\n",
    "SVM_MVO_Slck.set_model()\n",
    "SVM_MVO_Slck.optimize()"
   ]
  },
  {
   "cell_type": "code",
   "execution_count": 12,
   "metadata": {
    "colab": {
     "base_uri": "https://localhost:8080/",
     "height": 284
    },
    "executionInfo": {
     "elapsed": 718,
     "status": "ok",
     "timestamp": 1653837413870,
     "user": {
      "displayName": "Ryan Islip",
      "userId": "09447671168486293026"
     },
     "user_tz": 240
    },
    "id": "lHelD-zuvtNA",
    "outputId": "dd0238a5-1898-4fc8-ebb2-45d5c7c3dd60"
   },
   "outputs": [
    {
     "data": {
      "image/png": "[encoded data removed]",
      "text/plain": [
       "<Figure size 2000x400 with 1 Axes>"
      ]
     },
     "metadata": {},
     "output_type": "display_data"
    }
   ],
   "source": [
    "#portfolio comparison\n",
    "#out = pd.concat([SVM_MVO_Slck.get_results(), SVM_MVO.get_results(), MVO.get_results()], axis = 0)\n",
    "out = pd.concat([SVM_MVO.get_results(), SVM_MVO_Slck.get_results(), MVO.get_results()], axis = 0)\n",
    "out[out.columns[(out > 0.001).any(axis = 0)]].transpose()[:-2].plot.bar(figsize = (20,4), width = 0.75);"
   ]
  },
  {
   "cell_type": "code",
   "execution_count": 21,
   "metadata": {
    "id": "GWQrF1xPT-8F"
   },
   "outputs": [],
   "source": [
    "return_premium = 0.1 #similiar to Costa and Kwon \n",
    "#Limit = 0.75/6 #1/6 because Costa and Kwon use 1 for 6 month period. \n",
    "T = len(rets.index)\n",
    "\n",
    "def evaluate_model(rets, forecasts, wrds_svm, return_premium, model_instance, T, N, cols, Limit, lr = 0.05):\n",
    "\n",
    "  weights = np.zeros([T,N])\n",
    "  oot_returns = np.zeros(T)\n",
    "  market = np.zeros(T)\n",
    "  M = len(cols)\n",
    "  wis = np.zeros([T,M])\n",
    "  bias = []\n",
    "  i = 0 #index for dates\n",
    "  w_mabs = 0 #initialize\n",
    "  soln_mods = {}\n",
    "  for prd in rets.index.to_list()[:T]:\n",
    "    ret_ = rets.loc[prd][:N]\n",
    "    cov_, mean_ = forecasts[prd]\n",
    "    cov = cov_[:N,:N]\n",
    "    mean = mean_[:N,:]\n",
    "    tics = list(rets.columns[:N])\n",
    "    return_premium_temp = return_premium \n",
    "    #get the wharton research data for the valid tickers for the month\n",
    "    wrds_tics = wrds_svm[wrds_svm.index.get_level_values('tic').isin(tics)].xs(prd, level=\"MonthStart\")\n",
    "    #restrict the wharton research data to the columns of interest\n",
    "    #modifying WRDS dataset here if required\n",
    "    Y = wrds_tics.loc[:,cols] # Y matrix in formulation \n",
    "    Y_ =  (Y - Y.mean(axis=0))/(Y.std(axis=0))\n",
    "    ret_constr = mean.mean()*(1 + sign(mean.mean())*return_premium)\n",
    "    model_instance.tics = tics\n",
    "    model_instance.ret_constr = ret_constr\n",
    "    model_instance.mean_ret = mean\n",
    "    model_instance.cov = cov\n",
    "    model_instance.exogenous = Y_\n",
    "    if i > 0: #not the first trade gets a constraint on turnover\n",
    "      x_prev = model_instance.x.X\n",
    "\n",
    "      if model_instance.svm_constr:\n",
    "        w_mabs = (i/(i+1))*w_mabs + (1/(i+1))*np.abs(model_instance.w.x).mean()\n",
    "        w_prev = model_instance.w.x\n",
    "\n",
    "    model_instance.set_model()\n",
    "\n",
    "    if i > 0: #not the first trade gets a constraint on turnover\n",
    "      model_instance.define_turnover(x_prev, np.ones_like(x_prev), Limit, 1)\n",
    "\n",
    "      if model_instance.svm_constr:\n",
    "        u = model_instance.model.addMVar(M, lb = np.zeros(M), ub = np.ones(M))\n",
    "        wcon1 = model_instance.model.addConstr(model_instance.w <= w_prev + lr*w_mabs*u , 'iter constraint 1')\n",
    "        wcon2 = model_instance.model.addConstr(model_instance.w >= w_prev - lr*w_mabs*u , 'iter constraint 2')\n",
    "\n",
    "    model_instance.model.Params.LogToConsole = 0\n",
    "    \n",
    "    model_instance.optimize(cbb = cb)\n",
    "    k = 1\n",
    "    while model_instance.model.status == 4:\n",
    "      #if the model is infeasible the decrease the return constraint\n",
    "      #we do not have enough turnover the modify the portfolio to achive the \n",
    "      #return target... not a great place to be\n",
    "      return_premium_temp = return_premium - 0.05*k\n",
    "      ret_constr = mean.mean()*(1 + sign(mean.mean())*return_premium_temp)\n",
    "      model_instance.ret_constr = ret_constr\n",
    "      model_instance.ret_target[0].rhs = ret_constr\n",
    "      model_instance.optimize(cbb = cb)\n",
    "      k = k+1\n",
    "      #relax the return target bc the turnover constraint isnt allowing it to solve\n",
    "    #oot_returns[i] = model_instance.evaluate(ret_)\n",
    "    market[i] = ret_.mean()\n",
    "    weights[i, :] = model_instance.x.x\n",
    "    if model_instance.model.IsMIP:\n",
    "      soln_mods[prd] = [model_instance.model.MIPGap, return_premium_temp]\n",
    "    else:\n",
    "      soln_mods[prd] = return_premium_temp\n",
    "    if model_instance.svm_constr:\n",
    "      wis[i,:] = model_instance.w.x\n",
    "      bias.append(model_instance.b.x)\n",
    "      # if model_instance.w.x >= w_prev + lr*w_mabs  and wcon2.Pi < 10**(-7):\n",
    "      #   lr = lr/2\n",
    "    if i + 1 >= T:\n",
    "      break\n",
    "    if i%12 == 0:\n",
    "      print(\"_\"*25)\n",
    "      print(\"Iteration \", i)\n",
    "      print(\"Percent Complete \", i/T)\n",
    "    i = i+1\n",
    "  \n",
    "  weights = pd.DataFrame(weights, index = rets.index[:T], columns = model_instance.tics)\n",
    "  oot_returns = pd.Series(oot_returns, index = rets.index[:T])\n",
    "  market = pd.Series(market, index = rets.index[:T])\n",
    "  return weights, oot_returns, market, wis, bias, soln_mods"
   ]
  },
  {
   "cell_type": "code",
   "execution_count": null,
   "metadata": {
    "colab": {
     "base_uri": "https://localhost:8080/"
    },
    "executionInfo": {
     "elapsed": 57325,
     "status": "ok",
     "timestamp": 1653867865102,
     "user": {
      "displayName": "Ryan Islip",
      "userId": "09447671168486293026"
     },
     "user_tz": 240
    },
    "id": "CkMsa5WE1HaA",
    "outputId": "e82d5495-bb6c-41ff-9fa7-7f83be0ce490"
   },
   "outputs": [
    {
     "name": "stdout",
     "output_type": "stream",
     "text": [
      "_________________________\n",
      "Iteration  0\n",
      "Percent Complete  0.0\n",
      "_________________________\n",
      "Iteration  12\n",
      "Percent Complete  0.04938271604938271\n",
      "_________________________\n",
      "Iteration  24\n",
      "Percent Complete  0.09876543209876543\n",
      "_________________________\n",
      "Iteration  36\n",
      "Percent Complete  0.14814814814814814\n",
      "_________________________\n",
      "Iteration  48\n",
      "Percent Complete  0.19753086419753085\n",
      "_________________________\n",
      "Iteration  60\n",
      "Percent Complete  0.24691358024691357\n",
      "_________________________\n",
      "Iteration  72\n",
      "Percent Complete  0.2962962962962963\n",
      "_________________________\n",
      "Iteration  84\n",
      "Percent Complete  0.345679012345679\n",
      "_________________________\n",
      "Iteration  96\n",
      "Percent Complete  0.3950617283950617\n",
      "_________________________\n",
      "Iteration  108\n",
      "Percent Complete  0.4444444444444444\n",
      "_________________________\n",
      "Iteration  120\n",
      "Percent Complete  0.49382716049382713\n",
      "_________________________\n",
      "Iteration  132\n",
      "Percent Complete  0.5432098765432098\n",
      "_________________________\n",
      "Iteration  144\n",
      "Percent Complete  0.5925925925925926\n",
      "_________________________\n",
      "Iteration  156\n",
      "Percent Complete  0.6419753086419753\n",
      "_________________________\n",
      "Iteration  168\n",
      "Percent Complete  0.691358024691358\n",
      "_________________________\n",
      "Iteration  180\n",
      "Percent Complete  0.7407407407407407\n",
      "_________________________\n",
      "Iteration  192\n",
      "Percent Complete  0.7901234567901234\n",
      "_________________________\n",
      "Iteration  204\n",
      "Percent Complete  0.8395061728395061\n",
      "_________________________\n",
      "Iteration  216\n",
      "Percent Complete  0.8888888888888888\n",
      "_________________________\n",
      "Iteration  228\n",
      "Percent Complete  0.9382716049382716\n",
      "_________________________\n",
      "Iteration  240\n",
      "Percent Complete  0.9876543209876543\n"
     ]
    }
   ],
   "source": [
    "# svm_results = evaluate_model(rets, forecasts, wrds_svm, return_premium, SVM_MVO_Slck, T, N, cols, 1/6)\n",
    "# with open(\"gdrive/My Drive/Colab Notebooks/SVM MVO/DATA/negvol_1by6_Card07.pkl\", 'wb') as fp:\n",
    "#   pkl.dump(svm_results, fp);\n",
    "\n",
    "# svm_results = evaluate_model(rets, forecasts, wrds_svm, return_premium, SVM_MVO_Slck, T, N, cols, 0.75/6)\n",
    "# with open(\"gdrive/My Drive/Colab Notebooks/SVM MVO/DATA/negvol_0_75by6_Card07.pkl\", 'wb') as fp:\n",
    "#   pkl.dump(svm_results, fp);\n",
    "\n",
    "svm_results = evaluate_model(rets, forecasts, wrds_svm, return_premium, SVM_MVO_Slck, T, N, cols, 1.25/6)\n",
    "with open(\"gdrive/My Drive/Colab Notebooks/SVM MVO/DATA/Card05_negvol_1_25by6.pkl\", 'wb') as fp:\n",
    "  pkl.dump(svm_results, fp);\n"
   ]
  },
  {
   "cell_type": "code",
   "execution_count": null,
   "metadata": {
    "colab": {
     "base_uri": "https://localhost:8080/"
    },
    "executionInfo": {
     "elapsed": 327,
     "status": "ok",
     "timestamp": 1653887790768,
     "user": {
      "displayName": "Ryan Islip",
      "userId": "09447671168486293026"
     },
     "user_tz": 240
    },
    "id": "nrbDko_mnhjL",
    "outputId": "dc5181c6-985f-40fa-c0a1-bd563bfd1255"
   },
   "outputs": [
    {
     "name": "stdout",
     "output_type": "stream",
     "text": [
      "svm turnover proxy 50.32524136739624\n"
     ]
    }
   ],
   "source": [
    "weights_svm, oot_returns_svm, market_svm, wis_svm, bias_svm, soln_mods_svm = svm_results\n",
    "print('svm turnover proxy', weights_svm.diff().abs().sum(axis = 1).sum())"
   ]
  },
  {
   "cell_type": "code",
   "execution_count": null,
   "metadata": {
    "colab": {
     "base_uri": "https://localhost:8080/",
     "height": 265
    },
    "executionInfo": {
     "elapsed": 392,
     "status": "ok",
     "timestamp": 1653887792395,
     "user": {
      "displayName": "Ryan Islip",
      "userId": "09447671168486293026"
     },
     "user_tz": 240
    },
    "id": "3FAvE1WEN18V",
    "outputId": "5ff96c04-04e6-42fe-e2ce-62aa04e37753"
   },
   "outputs": [
    {
     "data": {
      "image/png": "[encoded data removed]",
      "text/plain": [
       "<Figure size 432x288 with 1 Axes>"
      ]
     },
     "metadata": {},
     "output_type": "display_data"
    }
   ],
   "source": [
    "plt.plot(rets.index[:T], wis_svm);\n",
    "plt.legend(cols);"
   ]
  },
  {
   "cell_type": "markdown",
   "metadata": {
    "id": "blgFx1mTsgfY"
   },
   "source": [
    "### Part 2 Cardinalty Constrined MVO "
   ]
  },
  {
   "cell_type": "code",
   "execution_count": null,
   "metadata": {
    "colab": {
     "base_uri": "https://localhost:8080/",
     "height": 1000
    },
    "executionInfo": {
     "elapsed": 2610,
     "status": "ok",
     "timestamp": 1654025854313,
     "user": {
      "displayName": "Ryan Islip",
      "userId": "09447671168486293026"
     },
     "user_tz": 240
    },
    "id": "pHLZ83AOAGzQ",
    "outputId": "74014ff8-ca7e-48d9-e0d6-604396b3c114"
   },
   "outputs": [
    {
     "name": "stdout",
     "output_type": "stream",
     "text": [
      "Gurobi Optimizer version 9.1.2 build v9.1.2rc0 (linux64)\n",
      "Thread count: 1 physical cores, 2 logical processors, using up to 2 threads\n",
      "Optimize a model with 290 rows, 858 columns and 1716 nonzeros\n",
      "Model fingerprint: 0xf53e1047\n",
      "Model has 41041 quadratic objective terms\n",
      "Model has 286 general constraints\n",
      "Variable types: 572 continuous, 286 integer (286 binary)\n",
      "Coefficient statistics:\n",
      "  Matrix range     [2e-04, 1e+00]\n",
      "  Objective range  [0e+00, 0e+00]\n",
      "  QObjective range [6e-07, 6e-01]\n",
      "  Bounds range     [1e+00, 1e+00]\n",
      "  RHS range        [1e+00, 1e+02]\n",
      "Presolve added 284 rows and 0 columns\n",
      "Presolve removed 0 rows and 286 columns\n",
      "Presolve time: 0.04s\n",
      "Presolved: 574 rows, 572 columns, 1716 nonzeros\n",
      "Presolved model has 41041 quadratic objective terms\n",
      "Variable types: 286 continuous, 286 integer (286 binary)\n",
      "Found heuristic solution: objective 0.0391937\n",
      "\n",
      "Root relaxation: objective 6.860883e-04, 182 iterations, 0.03 seconds\n",
      "\n",
      "    Nodes    |    Current Node    |     Objective Bounds      |     Work\n",
      " Expl Unexpl |  Obj  Depth IntInf | Incumbent    BestBd   Gap | It/Node Time\n",
      "\n",
      "     0     0    0.00069    0   48    0.03919    0.00069  98.2%     -    0s\n",
      "H    0     0                       0.0006861    0.00069  0.00%     -    0s\n",
      "     0     0    0.00069    0   48    0.00069    0.00069  0.00%     -    0s\n",
      "\n",
      "Explored 1 nodes (182 simplex iterations) in 0.26 seconds\n",
      "Thread count was 2 (of 2 available processors)\n",
      "\n",
      "Solution count 2: 0.000686088 0.0391937 \n",
      "\n",
      "Optimal solution found (tolerance 1.00e-04)\n",
      "Best objective 6.860882954874e-04, best bound 6.860882954874e-04, gap 0.0000%\n"
     ]
    },
    {
     "data": {
      "image/png": "[encoded data removed]",
      "text/plain": [
       "<Figure size 720x576 with 1 Axes>"
      ]
     },
     "metadata": {},
     "output_type": "display_data"
    }
   ],
   "source": [
    "MVO2 = SVMMVO(tics, mean, cov, ret_constr, soft_margin, Y_, AssetLim,\\\n",
    "             svm_choice = (False, False), print_var_frntr= False, cardinality = True) #define an instance of the class\n",
    "MVO2.set_model() #set up the model\n",
    "MVO2.optimize() #find optimal solution\n",
    "MVO2.model.params.outputflag = 0\n",
    "mv_ef = MVO2.get_frontier()"
   ]
  },
  {
   "cell_type": "code",
   "execution_count": null,
   "metadata": {
    "id": "zygLHdw58mc2"
   },
   "outputs": [],
   "source": [
    "\n",
    "def evaluate_model(rets, forecasts, wrds_svm, return_premium, model_instance, T, N, cols, Limit):\n",
    "  lr = 0.1 #learning rate for the SVM support vector\n",
    "  weights = np.zeros([T,N])\n",
    "  oot_returns = np.zeros(T)\n",
    "  market = np.zeros(T)\n",
    "  M = len(cols)\n",
    "  wis = np.zeros([T,M])\n",
    "  bias = []\n",
    "  i = 0 #index for dates\n",
    "  w_mabs = 0 #initialize\n",
    "  soln_mods = {}\n",
    "  for prd in rets.index.to_list()[:T]:\n",
    "    ret_ = rets.loc[prd][:N]\n",
    "    cov_, mean_ = forecasts[prd]\n",
    "    cov = cov_[:N,:N]\n",
    "    mean = mean_[:N,:]\n",
    "    tics = list(rets.columns[:N])\n",
    "    return_premium_temp = return_premium \n",
    "    #get the wharton research data for the valid tickers for the month\n",
    "    wrds_tics = wrds_svm[wrds_svm.index.get_level_values('tic').isin(tics)].xs(prd, level=\"MonthStart\")\n",
    "    #restrict the wharton research data to the columns of interest\n",
    "    #modifying WRDS dataset here if required\n",
    "    Y = wrds_tics.loc[:,cols] # Y matrix in formulation \n",
    "    Y_ =  (Y - Y.mean(axis=0))/(Y.std(axis=0))\n",
    "    ret_constr = mean.mean()*(1 + sign(mean.mean())*return_premium)\n",
    "    model_instance.tics = tics\n",
    "    model_instance.ret_constr = ret_constr\n",
    "    model_instance.mean_ret = mean\n",
    "    model_instance.cov = cov\n",
    "    model_instance.exogenous = Y_\n",
    "    if i > 0: #not the first trade gets a constraint on turnover\n",
    "      x_prev = model_instance.x.X\n",
    "\n",
    "      if model_instance.svm_constr:\n",
    "        w_mabs = (i/(i+1))*w_mabs + (1/(i+1))*np.abs(model_instance.w.x).mean()\n",
    "        w_prev = model_instance.w.x\n",
    "\n",
    "    model_instance.set_model()\n",
    "\n",
    "    if i > 0: #not the first trade gets a constraint on turnover\n",
    "      model_instance.define_turnover(x_prev, np.ones_like(x_prev), Limit, 1)\n",
    "\n",
    "      if model_instance.svm_constr:\n",
    "        u = model_instance.model.addMVar(M, lb = np.zeros(M), ub = np.ones(M))\n",
    "        wcon1 = model_instance.model.addConstr(model_instance.w <= w_prev + lr*w_mabs*u + model_instance.epsilon, 'iter constraint 1')\n",
    "        wcon2 = model_instance.model.addConstr(model_instance.w >= w_prev - lr*w_mabs*u - model_instance.epsilon, 'iter constraint 2')\n",
    "\n",
    "    model_instance.model.Params.LogToConsole = 0\n",
    "    \n",
    "    model_instance.optimize(cbb = cb)\n",
    "    k = 1\n",
    "    while model_instance.model.status == 4:\n",
    "      #if the model is infeasible the decrease the return constraint\n",
    "      #we do not have enough turnover the modify the portfolio to achieve the\n",
    "      #return target... not a great place to be\n",
    "      return_premium_temp = return_premium - 0.05*k\n",
    "      ret_constr = mean.mean()*(1 + sign(mean.mean())*return_premium_temp)\n",
    "      model_instance.ret_constr = ret_constr\n",
    "      model_instance.ret_target[0].rhs = ret_constr\n",
    "      model_instance.optimize(cbb = cb)\n",
    "      k = k+1\n",
    "      #relax the return target bc the turnover constraint isnt allowing it to solve\n",
    "    #oot_returns[i] = model_instance.evaluate(ret_) #noneed for this\n",
    "    market[i] = ret_.mean()\n",
    "    weights[i, :] = model_instance.x.x\n",
    "    if model_instance.model.IsMIP:\n",
    "      soln_mods[prd] = [model_instance.model.MIPGap, return_premium_temp]\n",
    "    else:\n",
    "      soln_mods[prd] = return_premium_temp\n",
    "    if model_instance.svm_constr:\n",
    "      wis[i,:] = model_instance.w.x\n",
    "      bias.append(model_instance.b.x)\n",
    "      # if model_instance.w.x >= w_prev + lr*w_mabs  and wcon2.Pi < 10**(-7):\n",
    "      #   lr = lr/2\n",
    "    if i + 1 >= T:\n",
    "      break\n",
    "    if i%12 == 0:\n",
    "      print(\"_\"*25)\n",
    "      print(\"Iteration \", i)\n",
    "      print(\"Percent Complete \", i/T)\n",
    "    i = i+1\n",
    "  \n",
    "  weights = pd.DataFrame(weights, index = rets.index[:T], columns = model_instance.tics)\n",
    "  oot_returns = pd.Series(oot_returns, index = rets.index[:T])\n",
    "  market = pd.Series(market, index = rets.index[:T])\n",
    "  return weights, oot_returns, market, wis, bias, soln_mods\n"
   ]
  },
  {
   "cell_type": "code",
   "execution_count": null,
   "metadata": {
    "colab": {
     "background_save": true,
     "base_uri": "https://localhost:8080/"
    },
    "id": "w3aM74IjexPq",
    "outputId": "2248bf21-0438-4c77-eb5f-a69a1a05f0b1"
   },
   "outputs": [
    {
     "name": "stdout",
     "output_type": "stream",
     "text": [
      "_________________________\n",
      "Iteration  0\n",
      "Percent Complete  0.0\n",
      "_________________________\n",
      "Iteration  12\n",
      "Percent Complete  0.04938271604938271\n",
      "_________________________\n",
      "Iteration  24\n",
      "Percent Complete  0.09876543209876543\n",
      "_________________________\n",
      "Iteration  36\n",
      "Percent Complete  0.14814814814814814\n",
      "_________________________\n",
      "Iteration  48\n",
      "Percent Complete  0.19753086419753085\n",
      "_________________________\n",
      "Iteration  60\n",
      "Percent Complete  0.24691358024691357\n",
      "_________________________\n",
      "Iteration  72\n",
      "Percent Complete  0.2962962962962963\n",
      "_________________________\n",
      "Iteration  84\n",
      "Percent Complete  0.345679012345679\n",
      "_________________________\n",
      "Iteration  96\n",
      "Percent Complete  0.3950617283950617\n",
      "_________________________\n",
      "Iteration  108\n",
      "Percent Complete  0.4444444444444444\n",
      "_________________________\n",
      "Iteration  120\n",
      "Percent Complete  0.49382716049382713\n",
      "_________________________\n",
      "Iteration  132\n",
      "Percent Complete  0.5432098765432098\n",
      "_________________________\n",
      "Iteration  144\n",
      "Percent Complete  0.5925925925925926\n",
      "_________________________\n",
      "Iteration  156\n",
      "Percent Complete  0.6419753086419753\n",
      "_________________________\n",
      "Iteration  168\n",
      "Percent Complete  0.691358024691358\n",
      "_________________________\n",
      "Iteration  180\n",
      "Percent Complete  0.7407407407407407\n",
      "_________________________\n",
      "Iteration  192\n",
      "Percent Complete  0.7901234567901234\n",
      "_________________________\n",
      "Iteration  204\n",
      "Percent Complete  0.8395061728395061\n",
      "_________________________\n",
      "Iteration  216\n",
      "Percent Complete  0.8888888888888888\n",
      "_________________________\n",
      "Iteration  228\n",
      "Percent Complete  0.9382716049382716\n",
      "_________________________\n",
      "Iteration  240\n",
      "Percent Complete  0.9876543209876543\n"
     ]
    }
   ],
   "source": [
    "import time\n",
    "def cb(model, where):\n",
    "    if where == GRB.Callback.MIPNODE:\n",
    "        # Get model objective\n",
    "        obj = model.cbGet(GRB.Callback.MIPNODE_OBJBST)\n",
    "\n",
    "        # Has objective changed?\n",
    "        if abs(obj - model._cur_obj) > 1e-8:\n",
    "            # If so, update incumbent and time\n",
    "            model._cur_obj = obj\n",
    "            model._time = time.time()\n",
    "\n",
    "    # Terminate if objective has not improved in 60s\n",
    "    if time.time() - model._time > 120:\n",
    "        model.terminate()\n",
    "mvo_results = evaluate_model(rets, forecasts, wrds_svm, return_premium, MVO2, T, N, cols, 0.75/6)\n",
    "with open(\"gdrive/My Drive/Colab Notebooks/SVM MVO/DATA/Card05__oot_results__turnover0_75by6.pkl\", 'wb') as fp:\n",
    "  pkl.dump(mvo_results, fp);"
   ]
  },
  {
   "cell_type": "code",
   "execution_count": null,
   "metadata": {
    "colab": {
     "background_save": true
    },
    "id": "lOkw9uDlvI-g",
    "outputId": "518377c3-241a-462d-fd2b-58a339b6c00d"
   },
   "outputs": [
    {
     "name": "stdout",
     "output_type": "stream",
     "text": [
      "_________________________\n",
      "Iteration  0\n",
      "Percent Complete  0.0\n",
      "_________________________\n",
      "Iteration  12\n",
      "Percent Complete  0.04938271604938271\n",
      "_________________________\n",
      "Iteration  24\n",
      "Percent Complete  0.09876543209876543\n",
      "_________________________\n",
      "Iteration  36\n",
      "Percent Complete  0.14814814814814814\n",
      "_________________________\n",
      "Iteration  48\n",
      "Percent Complete  0.19753086419753085\n",
      "_________________________\n",
      "Iteration  60\n",
      "Percent Complete  0.24691358024691357\n",
      "_________________________\n",
      "Iteration  72\n",
      "Percent Complete  0.2962962962962963\n",
      "_________________________\n",
      "Iteration  84\n",
      "Percent Complete  0.345679012345679\n",
      "_________________________\n",
      "Iteration  96\n",
      "Percent Complete  0.3950617283950617\n",
      "_________________________\n",
      "Iteration  108\n",
      "Percent Complete  0.4444444444444444\n",
      "_________________________\n",
      "Iteration  120\n",
      "Percent Complete  0.49382716049382713\n",
      "_________________________\n",
      "Iteration  132\n",
      "Percent Complete  0.5432098765432098\n",
      "_________________________\n",
      "Iteration  144\n",
      "Percent Complete  0.5925925925925926\n",
      "_________________________\n",
      "Iteration  156\n",
      "Percent Complete  0.6419753086419753\n",
      "_________________________\n",
      "Iteration  168\n",
      "Percent Complete  0.691358024691358\n",
      "_________________________\n",
      "Iteration  180\n",
      "Percent Complete  0.7407407407407407\n",
      "_________________________\n",
      "Iteration  192\n",
      "Percent Complete  0.7901234567901234\n",
      "_________________________\n",
      "Iteration  204\n",
      "Percent Complete  0.8395061728395061\n",
      "_________________________\n",
      "Iteration  216\n",
      "Percent Complete  0.8888888888888888\n",
      "_________________________\n",
      "Iteration  228\n",
      "Percent Complete  0.9382716049382716\n",
      "_________________________\n",
      "Iteration  240\n",
      "Percent Complete  0.9876543209876543\n"
     ]
    }
   ],
   "source": [
    "mvo_results = evaluate_model(rets, forecasts, wrds_svm, return_premium, MVO2, T, N, cols, 1/6)\n",
    "with open(\"gdrive/My Drive/Colab Notebooks/SVM MVO/DATA/Card05__oot_results__turnover1by6.pkl\", 'wb') as fp:\n",
    "  pkl.dump(mvo_results, fp);"
   ]
  },
  {
   "cell_type": "code",
   "execution_count": null,
   "metadata": {
    "id": "ivgHiNhFt0sf"
   },
   "outputs": [],
   "source": [
    "mvo_results = evaluate_model(rets, forecasts, wrds_svm, return_premium, MVO2, T, N, cols, 1.25/6)\n",
    "with open(\"gdrive/My Drive/Colab Notebooks/SVM MVO/DATA/Card05__oot_results__turnover1_25by6.pkl\", 'wb') as fp:\n",
    "  pkl.dump(mvo_results, fp);"
   ]
  },
  {
   "cell_type": "code",
   "execution_count": null,
   "metadata": {
    "id": "WhGKIdAWwyXF"
   },
   "outputs": [],
   "source": []
  }
 ],
 "metadata": {
  "colab": {
   "authorship_tag": "ABX9TyNLHzUCXYV8NuOP0wprCxWF",
   "background_execution": "on",
   "collapsed_sections": [],
   "mount_file_id": "1hDdRLz3mUB0Ldphf50Bl9ZWw8qHh1iP5",
   "provenance": []
  },
  "kernelspec": {
   "display_name": "Python 3 (ipykernel)",
   "language": "python",
   "name": "python3"
  },
  "language_info": {
   "codemirror_mode": {
    "name": "ipython",
    "version": 3
   },
   "file_extension": ".py",
   "mimetype": "text/x-python",
   "name": "python",
   "nbconvert_exporter": "python",
   "pygments_lexer": "ipython3",
   "version": "3.10.6"
  }
 },
 "nbformat": 4,
 "nbformat_minor": 4
}
