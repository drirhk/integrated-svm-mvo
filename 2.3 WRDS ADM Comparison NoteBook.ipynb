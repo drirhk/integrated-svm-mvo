{
 "cells": [
  {
   "cell_type": "markdown",
   "metadata": {
    "id": "MqN_y29M6YR8"
   },
   "source": [
    "# Integration of SVM and MVO \n",
    "\n",
    "A previous notebook attempted computational experiments with the following MIP formulation. \n",
    "$$\n",
    "\\begin{align} \n",
    "\\min_{x, z, w, b} \\quad & x^{\\intercal}\\Sigma x + \\frac{1}{2}||{w}||^2 + \\sum_{i=1}^N g(\\xi_i)&\\\\ \n",
    "\\textrm{s.t.} \\quad & \\mu^\\intercal x  \\geq \\bar{R}, \\quad \\sum_i z_i \\leq N \\\\\n",
    "\\quad & x_i \\leq z_i \\quad &\\forall i = 1,2,...,N \\\\\n",
    "              \\quad & y_i^{\\intercal} w + b \\leq M z_i - \\epsilon + \\xi_i \\quad & \\forall i = 1,2,...,N \\\\\n",
    "              \\quad & -M(1-z_i) + \\epsilon - \\xi_i \\leq  y_i^{\\intercal} w + b \\quad &\\forall i = 1,2,...,N \\\\\n",
    "              \\quad & x \\in \\mathcal{C} \\quad z \\in \\{0,1\\}^N  \\quad  w \\in \\mathbb{R}^m \\quad \\xi \\geq 0& \\\\\n",
    "\\end{align} \n",
    "$$\n",
    "\n",
    "with g as $C \\xi/N$ where $C$ is a hyperparameter. It was found that directly solving the MIP above proved too computationally expensive. It would take over 24 hours to perform the ~20 years of monthly rebalancing experiments. The length of time required for a single MIP solve was also sensitive to the value of $m$. To address the computational expensiveness of solving the MIP in a  brute force fashion, I propose a penalized alternating direction method. \n"
   ]
  },
  {
   "cell_type": "markdown",
   "metadata": {
    "id": "w4mC7QWYiTHZ"
   },
   "source": [
    "## General Alternating Direction Methods \n",
    "\n",
    "####The description below is adapted primarily from \"An Alternating Method for Cardinality-Constrained...\" by Costa et. al. \n",
    "\n",
    "Consider the following problem:\n",
    "\n",
    "$$\n",
    "\\begin{align} \n",
    "\\min_{u, v} \\quad & f(u, v)&\\\\ \n",
    "\\textrm{s.t.} \\quad & g(u,v) = 0, \\quad h(u, v) \\geq 0 \\\\\n",
    "\\quad & u \\in \\mathcal{U} \\subseteq \\mathbb{R}^{n_u}, \\quad v \\in \\mathcal{V}  \\subseteq \\mathbb{R}^{n_v} \\\\\n",
    "\\end{align} \n",
    "$$\n",
    "\n",
    "A standard alternating direction method (ADM) does the following:\n",
    "\n",
    "1. Choose initial value $(u^0, v^0) \\in \\mathcal{U} \\times \\mathcal{V}$ and $l=0$\n",
    "2. While not converged \n",
    "\n",
    "  2.1 Compute $u^{l+1} \\in \\text{argmin}\\ \\{  f(u,v^l): g(u, v^l) = 0, h(u,v^l) \\geq 0, u \\in \\mathcal{U} \\ \\}$\n",
    "\n",
    "  2.2 Compute $v^{l+1} \\in \\text{argmin}\\ \\{  f(u^{l+1},v): g(u^{l+1}, v) = 0, h(u^{l+1},v) \\geq 0, v \\in \\mathcal{V} \\ \\}$\n",
    "\n",
    "  2.3 $l \\leftarrow l + 1$\n",
    "\n",
    "Costa et al. then propose the use of a penalty function - variant of the ADM, whereby the coupling constraints induced by $h$ and $g$ are penalized in the objective as follows:\n",
    "\n",
    "$$\n",
    "\\phi(u,v; \\mu,  \\rho) = f(u,v) + \\sum_i \\mu_i |g_i(u,v)| + \\sum_j \\rho_i [h_i(u,v)]^-\n",
    "$$\n",
    "\n",
    "where $\\rho $ and $\\mu$ denote the penalty parameters of the equality and inequality constraints. The penalized alternating direction method algorithm is nearly identical to the ADM; however, if the constraints are not satisfied at the end of the iterations, then the penalty parameters are increased, and the iteration is restarted. \n",
    "\n",
    "In the case of integrating support vector machines and mean-variance optimization, one formulation is as follows:\n",
    "\n",
    "$$\n",
    "\\begin{align} \n",
    "\\min_{x, z, w, b} \\quad & x^{\\intercal}\\Sigma x + \\frac{1}{2}||{w}||^2 &\\\\ \n",
    "\\textrm{s.t.} \\quad & \\mu^\\intercal x  \\geq \\bar{R}, \\quad \\sum_{i} z_i \\leq N_l\\\\\n",
    "\\quad & x_i \\leq z_i \\quad &\\forall i = 1,2,...,N \\\\\n",
    "              \\quad & y_i^{\\intercal} w + b \\leq M z_i - \\epsilon \\quad & \\forall i = 1,2,...,N  \\ (A)\\\\\n",
    "              \\quad & -M(1-z_i) + \\epsilon \\leq  y_i^{\\intercal} w + b \\quad &\\forall i = 1,2,...,N\\  (B)\\\\\n",
    "              \\quad & x \\in \\mathcal{C} \\quad z \\in \\{0,1\\}^N & \\\\\n",
    "\\end{align} \n",
    "$$\n",
    "However, both constraints A and B can be replaced by the non-linear complementary constraint formulation:\n",
    "\n",
    "$$(2 z_i - 1)(y_i^{\\intercal} w + b) \\geq \\epsilon \\quad i = 1,2,...,N$$\n",
    "\n",
    "Although the constraint above is non-linear and non-convex, it decomposes into a simple linear constraint for each sub-problem when applying the alternating direction method.\n",
    "\n",
    "\n",
    "Setting $u = (x, z)$ and $v = (w, b)$, the nominal problem becomes minimizing  $ f(u,v) = x^{\\intercal} \\Sigma x + \\frac{1}{2} ||w||^2$ with \n",
    "\n",
    "$\\mathcal{U} = \\{(x,z) \\in \\mathbb{R}^N \\times \\{0,1\\}^N \\ | \\ \\mu^{\\intercal} x \\geq R,\\  \\mathbf{1}^{\\intercal}x = 1,\\  z_i= 1 \\iff x_i > 0,\\  \\mathbf{1}^{\\intercal} z \\leq N_L \\}$ \n",
    "\n",
    "and\n",
    "\n",
    " $\\mathcal{V} = \\{(w,b) \\in \\mathbb{R}^{m+1} \\}$\n",
    "\n",
    "and lastly, $h_i(u,v) = (2 z_i - 1)(y_i^{\\intercal} w + b) - \\epsilon$. Introducing the slack variables $\\xi_i \\geq 0 $ into the complementary constraint\n",
    "\n",
    "$$(2 z_i - 1)(y_i^{\\intercal} w + b) \\geq \\epsilon - \\xi_i \\quad i = 1,2,...,N$$\n",
    "\n",
    "implies $[h_i(u,v)]^- = \\xi_i(x, z, w, b)$ and that the penalty objective $\\phi = x^{\\intercal} \\Sigma x + \\frac{1}{2} ||w||^2 + \\sum_{i} \\mu_i \\xi_i$ \n",
    "\n",
    "## Implementation ⌨\n",
    "\n",
    "Given the previous iteration's SVM sub-problem results: ($w^l$, $b^l$), to obtain $x^{l+1}, z^{l+1}$ one solves $\\min_{x, z}\\ \\{ x^{\\intercal} \\Sigma x  + \\sum_{i} \\mu_i \\xi_i : \\ \\xi_i \\geq 1 - (2z_i - 1)(y^{\\intercal}w^{l} + b^l),\\  (x, z) \\in \\mathcal{U} \\ \\}$\n",
    "\n",
    "After computing $x^{l+1}, z^{l+1}$  it follows that $w^{l+1}, b^{l+1}$ are computed by solving $\\min_{w, b}\\ \\{ \\frac{1}{2} || w||^2 +  \\sum_{i} \\mu_i \\xi_i : \\ \\xi_i \\geq 1 - (2z^{l+1}_i - 1)(y^{\\intercal}w + b),\\  (w, b) \\in \\mathcal{V} \\ \\}$\n",
    "\n",
    "In the implementation in this notebook, $\\mu_i = C/N$ for a \"large\" C and the outer loop of incrementally increasing $\\mu_i$ is not included. This is because it is possible that for a given return constraint, there may exist no portfolios with a support vector that linearly separates the assets. Therefore a significant preference for linearly separable portfolios should suffice. Furthermore, the two subproblems defined above avoid big M constraints, and are optimized more simply than the full formulation.\n",
    "\n",
    "## Results from this notebook ⚡\n",
    "\n",
    "* ADM method solves the min variance integrated SVM problem in approx 2.5 seconds, whereas the exact branch and bound MIP solver takes approx. 240 seconds for N = 286 assets and m = 3 factors used for the SVM decision boundary.\n",
    "* The two solution methods have a max difference between the resulting portfolios of approximately 3%\n"
   ]
  },
  {
   "cell_type": "code",
   "execution_count": 1,
   "metadata": {
    "colab": {
     "base_uri": "https://localhost:8080/"
    },
    "executionInfo": {
     "elapsed": 40270,
     "status": "ok",
     "timestamp": 1641759996571,
     "user": {
      "displayName": "Ryan Islip",
      "photoUrl": "https://lh3.googleusercontent.com/a-/AOh14GilWm_VaaGzVK5IBoUx-rWGsFz3XH3h1cea39928g=s64",
      "userId": "09447671168486293026"
     },
     "user_tz": 300
    },
    "id": "l3fEvFDq6PgZ",
    "outputId": "ae15ebc1-a3ac-4b6d-ffa0-4566a90a886f"
   },
   "outputs": [
    {
     "name": "stdout",
     "output_type": "stream",
     "text": [
      "Set parameter Username\n",
      "Academic license - for non-commercial use only - expires 2023-08-09\n"
     ]
    }
   ],
   "source": [
    "\n",
    "pth = ''\n",
    "import sys\n",
    "import math\n",
    "\n",
    "sys.path.append(pth + 'SVM MVO/PYFILES/')\n",
    "from python.packages import *\n",
    "from python.svm_mvo import *\n",
    "from python.analysis_tools import *\n",
    "import matplotlib\n",
    "%matplotlib inline\n",
    "\n",
    "## Import Forecasts\n",
    "forecasts = pd.read_pickle(pth + 'cache/Forecasts.pkl')\n",
    "## Import Returns\n",
    "rets = pd.read_pickle(pth + 'cache/RETS.pkl')\n",
    "## Import feature vectors\n",
    "wrds_svm = pd.read_pickle(pth + 'cache/WRDS_ASOF.pkl')\n",
    "## Import monthly prices\n",
    "prices = pd.read_pickle(pth + 'cache/PRICES.pkl')"
   ]
  },
  {
   "cell_type": "code",
   "execution_count": 2,
   "metadata": {
    "colab": {
     "base_uri": "https://localhost:8080/"
    },
    "executionInfo": {
     "elapsed": 849,
     "status": "ok",
     "timestamp": 1641760210607,
     "user": {
      "displayName": "Ryan Islip",
      "photoUrl": "https://lh3.googleusercontent.com/a-/AOh14GilWm_VaaGzVK5IBoUx-rWGsFz3XH3h1cea39928g=s64",
      "userId": "09447671168486293026"
     },
     "user_tz": 300
    },
    "id": "5NswPR4F6Wvy",
    "outputId": "37297ccf-49db-4ad3-a413-a9d5b03e5f90"
   },
   "outputs": [
    {
     "data": {
      "text/plain": "Timestamp('2000-07-01 00:00:00')"
     },
     "execution_count": 2,
     "metadata": {},
     "output_type": "execute_result"
    }
   ],
   "source": [
    "mth = rets.index[0]\n",
    "mth"
   ]
  },
  {
   "cell_type": "code",
   "execution_count": 3,
   "metadata": {
    "colab": {
     "base_uri": "https://localhost:8080/"
    },
    "executionInfo": {
     "elapsed": 413,
     "status": "ok",
     "timestamp": 1641763367465,
     "user": {
      "displayName": "Ryan Islip",
      "photoUrl": "https://lh3.googleusercontent.com/a-/AOh14GilWm_VaaGzVK5IBoUx-rWGsFz3XH3h1cea39928g=s64",
      "userId": "09447671168486293026"
     },
     "user_tz": 300
    },
    "id": "nYBpVMDbM5Pi",
    "outputId": "57f71f0c-7242-42e5-9640-972ed615d796"
   },
   "outputs": [
    {
     "name": "stdout",
     "output_type": "stream",
     "text": [
      "valid tickers: ['AAPL', 'ABC', 'ABMD', 'ABT', 'ADBE', 'ADI', 'ADM', 'ADP', 'ADSK', 'AEE', 'AEP', 'AES', 'AJG', 'AKAM', 'ALB', 'ALK', 'AMAT', 'AMD', 'AME', 'AMGN', 'AMT', 'AMZN', 'ANSS', 'AON', 'AOS', 'APA', 'APD', 'APH', 'ATO', 'AVY', 'AZO', 'BA', 'BAX', 'BBY', 'BDX', 'BKNG', 'BLL', 'BMY', 'BSX', 'BWA', 'CAG', 'CAH', 'CAT', 'CCI', 'CCL', 'CDNS', 'CERN', 'CHD', 'CHRW', 'CI', 'CL', 'CLX', 'CMCSA', 'CMI', 'CMS', 'CNP', 'COO', 'COP', 'COST', 'CPB', 'CPRT', 'CSCO', 'CSX', 'CTAS', 'CTSH', 'CTXS', 'CVS', 'CVX', 'D', 'DD', 'DGX', 'DHR', 'DIS', 'DISH', 'DLTR', 'DOV', 'DRI', 'DTE', 'DUK', 'DVA', 'DVN', 'DXC', 'EA', 'EBAY', 'ECL', 'ED', 'EFX', 'EIX', 'EL', 'EMN', 'EMR', 'EOG', 'ES', 'ETN', 'ETR', 'EVRG', 'EXC', 'EXPD', 'F', 'FAST', 'FCX', 'FDX', 'FE', 'FFIV', 'FISV', 'FLS', 'FMC', 'GD', 'GIS', 'GLW', 'GPC', 'GPS', 'GWW', 'HAL', 'HAS', 'HD', 'HES', 'HFC', 'HOG', 'HOLX', 'HON', 'HP', 'HPQ', 'HRB', 'HRL', 'HSIC', 'HSY', 'HUM', 'IBM', 'IDXX', 'IEX', 'IFF', 'INCY', 'INTC', 'INTU', 'IP', 'IPG', 'IRM', 'IT', 'ITW', 'IVZ', 'J', 'JBHT', 'JCI', 'JKHY', 'JNJ', 'JNPR', 'JWN', 'K', 'KLAC', 'KMB', 'KMX', 'KO', 'KR', 'KSS', 'KSU', 'LEG', 'LH', 'LHX', 'LIN', 'LLY', 'LMT', 'LNT', 'LOW', 'LRCX', 'LUV', 'M', 'MAR', 'MAS', 'MCD', 'MCHP', 'MCK', 'MCO', 'MDT', 'MGM', 'MHK', 'MKC', 'MLM', 'MMC', 'MMM', 'MO', 'MRK', 'MRO', 'MSFT', 'MSI', 'MTD', 'MU', 'MXIM', 'NEE', 'NEM', 'NI', 'NKE', 'NLOK', 'NOC', 'NOV', 'NSC', 'NTAP', 'NUE', 'NVDA', 'NWL', 'OMC', 'ORCL', 'ORLY', 'OXY', 'PAYX', 'PEG', 'PEP', 'PFE', 'PG', 'PH', 'PKI', 'PNR', 'PNW', 'PPG', 'PPL', 'PRGO', 'PVH', 'PWR', 'PXD', 'QCOM', 'RCL', 'REGN', 'RHI', 'RL', 'RMD', 'ROK', 'ROL', 'ROP', 'ROST', 'RSG', 'RTX', 'SBAC', 'SBUX', 'SEE', 'SHW', 'SJM', 'SLB', 'SNA', 'SNPS', 'SO', 'SPGI', 'SRE', 'STE', 'STZ', 'SWK', 'SWKS', 'SYK', 'SYY', 'T', 'TAP', 'TFX', 'TGT', 'TJX', 'TMO', 'TSCO', 'TSN', 'TT', 'TXN', 'TXT', 'UHS', 'UNH', 'UNP', 'URI', 'VFC', 'VLO', 'VMC', 'VRSN', 'VRTX', 'VZ', 'WAB', 'WAT', 'WBA', 'WDC', 'WEC', 'WHR', 'WM', 'WMB', 'WMT', 'WY', 'XEL', 'XLNX', 'XOM', 'XRAY', 'XRX', 'YUM', 'ZBRA']\n"
     ]
    }
   ],
   "source": [
    "#preprocessing\n",
    "cov_, mean_ = forecasts[mth]\n",
    "N = len(mean_)\n",
    "cov = cov_[:N,:N] + np.min(np.linalg.eigvals(cov_[:N,:N]))*np.eye(N)\n",
    "mean = mean_[:N,:]\n",
    "tics = list(rets.columns[:N])\n",
    "print(\"valid tickers:\", tics)\n",
    "#get the wharton research data for the valid tickers for the month\n",
    "wrds_tics = wrds_svm[wrds_svm.index.get_level_values('tic').isin(tics)].xs(mth, level=\"MonthStart\")\n",
    "#restrict the wharton research data to the columns of interest\n",
    "\n",
    "#restrict the wharton research data to the columns of interest\n",
    "Y = wrds_tics.loc[:,\"ROC1\":\"Vol\"] # Y matrix in formulation as per the paper\n",
    "Y_normalized =  (Y - Y.mean(axis=0))/(Y.std(axis=0))\n",
    "Y_normalized = Y_normalized.iloc[:,:]\n",
    "#Y_normalized = Y_normalized[['ROC1', 'INV1', 'PRO1'\t, 'GRW1', 'LEV1', 'LIQ1']]\n",
    "#Y_normalized['momentum'] = mean\n",
    "Y_normalized = Y_normalized[['LEV1', 'GRW1']]\n",
    "\n",
    "ret_constr = -1 #no return constraint\n",
    "soft_margin = 5000 #large preference for separation feasibility\n",
    "cardinality_total = True #consider as % of total assets if true else consider as % of MVO cardinality\n",
    "ratio = 0.8 #% of assets\n",
    "epsilon = 1e-3 #epsilon hyper-parameter\n",
    "non_negativity_setting = True #set the hyperplane to have a normal in the non-negative orthant\n",
    "dpi_setting = 150"
   ]
  },
  {
   "cell_type": "code",
   "execution_count": 4,
   "outputs": [
    {
     "name": "stdout",
     "output_type": "stream",
     "text": [
      "Set parameter MIPGap to value 0.05\n",
      "Gurobi Optimizer version 9.5.2 build v9.5.2rc0 (win64)\n",
      "Thread count: 4 physical cores, 8 logical processors, using up to 8 threads\n",
      "Optimize a model with 2 rows, 572 columns and 572 nonzeros\n",
      "Model fingerprint: 0x210a655e\n",
      "Model has 41041 quadratic objective terms\n",
      "Coefficient statistics:\n",
      "  Matrix range     [2e-04, 1e+00]\n",
      "  Objective range  [0e+00, 0e+00]\n",
      "  QObjective range [6e-07, 6e-01]\n",
      "  Bounds range     [0e+00, 0e+00]\n",
      "  RHS range        [1e+00, 1e+00]\n",
      "Presolve removed 0 rows and 286 columns\n",
      "Presolve time: 0.02s\n",
      "Presolved: 2 rows, 286 columns, 572 nonzeros\n",
      "Presolved model has 41041 quadratic objective terms\n",
      "Ordering time: 0.00s\n",
      "\n",
      "Barrier statistics:\n",
      " Free vars  : 285\n",
      " AA' NZ     : 4.104e+04\n",
      " Factor NZ  : 4.133e+04 (roughly 1 MB of memory)\n",
      " Factor Ops : 7.921e+06 (less than 1 second per iteration)\n",
      " Threads    : 4\n",
      "\n",
      "                  Objective                Residual\n",
      "Iter       Primal          Dual         Primal    Dual     Compl     Time\n",
      "   0   2.42311618e+05 -2.42311618e+05  1.15e+05 5.23e-05  1.00e+06     0s\n",
      "   1   1.20332079e+06 -1.20328332e+06  2.42e+04 6.80e+01  2.29e+05     0s\n",
      "   2   2.17910150e+05 -2.18129591e+05  1.97e+03 8.94e-07  2.12e+04     0s\n",
      "   3   6.99887097e+03 -7.26308325e+03  4.60e+01 2.09e-08  5.55e+02     0s\n",
      "   4   1.82372132e-01 -2.81829533e+02  8.46e-02 3.84e-11  2.00e+00     0s\n",
      "   5   3.59770660e-02 -7.30802975e+01  8.46e-08 3.84e-17  2.55e-01     0s\n",
      "   6   3.58452780e-02 -1.19439619e-01  9.51e-11 1.39e-17  5.41e-04     0s\n",
      "   7   1.19584662e-02 -1.78805405e-02  8.11e-12 1.39e-17  1.04e-04     0s\n",
      "   8   3.76883362e-03 -9.65209752e-03  1.04e-16 8.33e-17  4.68e-05     0s\n",
      "   9   1.71799725e-03 -8.03326852e-04  7.63e-17 3.38e-17  8.79e-06     0s\n",
      "  10   1.18455055e-03 -2.76546335e-04  9.71e-17 2.08e-17  5.09e-06     0s\n",
      "  11   8.40780070e-04  6.13648263e-04  4.16e-17 1.56e-17  7.91e-07     0s\n",
      "  12   7.29158131e-04  6.64375106e-04  6.59e-17 1.04e-17  2.26e-07     0s\n",
      "  13   6.90029870e-04  6.86256750e-04  9.71e-17 1.39e-17  1.31e-08     0s\n",
      "  14   6.87123392e-04  6.87026224e-04  7.04e-16 1.73e-17  3.39e-10     0s\n",
      "  15   6.87050353e-04  6.87048838e-04  1.80e-15 1.04e-17  5.28e-12     0s\n",
      "\n",
      "Barrier solved model in 15 iterations and 0.15 seconds (0.08 work units)\n",
      "Optimal objective 6.87050353e-04\n",
      "\n",
      "Set parameter MIPGap to value 0.05\n",
      "Gurobi Optimizer version 9.5.2 build v9.5.2rc0 (win64)\n",
      "Thread count: 4 physical cores, 8 logical processors, using up to 8 threads\n",
      "Optimize a model with 290 rows, 858 columns and 1716 nonzeros\n",
      "Model fingerprint: 0x47020731\n",
      "Model has 41041 quadratic objective terms\n",
      "Model has 286 general constraints\n",
      "Variable types: 572 continuous, 286 integer (286 binary)\n",
      "Coefficient statistics:\n",
      "  Matrix range     [2e-04, 1e+00]\n",
      "  Objective range  [0e+00, 0e+00]\n",
      "  QObjective range [6e-07, 6e-01]\n",
      "  Bounds range     [1e+00, 1e+00]\n",
      "  RHS range        [1e+00, 2e+02]\n",
      "  GenCon rhs range [1e-05, 1e-05]\n",
      "  GenCon coe range [1e+00, 1e+00]\n",
      "Presolve added 284 rows and 0 columns\n",
      "Presolve removed 0 rows and 286 columns\n",
      "Presolve time: 0.02s\n",
      "Presolved: 574 rows, 572 columns, 1716 nonzeros\n",
      "Presolved model has 41041 quadratic objective terms\n",
      "Variable types: 286 continuous, 286 integer (286 binary)\n",
      "Found heuristic solution: objective 0.0392103\n",
      "\n",
      "Root relaxation: objective 6.870493e-04, 182 iterations, 0.01 seconds (0.01 work units)\n",
      "\n",
      "    Nodes    |    Current Node    |     Objective Bounds      |     Work\n",
      " Expl Unexpl |  Obj  Depth IntInf | Incumbent    BestBd   Gap | It/Node Time\n",
      "\n",
      "H    0     0                       0.0157325    0.00069  95.6%     -    0s\n",
      "     0     0    0.00069    0   48    0.01573    0.00069  95.6%     -    0s\n",
      "H    0     0                       0.0006870    0.00069  0.00%     -    0s\n",
      "     0     0    0.00069    0   48    0.00069    0.00069  0.00%     -    0s\n",
      "\n",
      "Explored 1 nodes (182 simplex iterations) in 0.09 seconds (0.02 work units)\n",
      "Thread count was 8 (of 8 available processors)\n",
      "\n",
      "Solution count 3: 0.000687049 0.0157325 0.0392103 \n",
      "\n",
      "Optimal solution found (tolerance 5.00e-02)\n",
      "Best objective 6.870493475163e-04, best bound 6.870493475163e-04, gap 0.0000%\n",
      "Warning: constraint name \"z force x[0]\" has a space\n",
      "Warning: general constraint name \"indicator constraint\" has a space\n",
      "Asset Limit 228.8\n"
     ]
    }
   ],
   "source": [
    "MVO_model = SVMMVO(tics, mean, cov, ret_constr, soft_margin, Y, asset_lim= None,\n",
    "             svm_choice = (False, False), print_var_frntr= False, cardinality = False) #define an instance of the class\n",
    "MVO_model.set_model() #set up the model\n",
    "MVO_model.model.params.MIPGAP = 0.05\n",
    "MVO_model.optimize() #find optimal solution\n",
    "\n",
    "AssetLim = math.floor((MVO_model.x.x > 10**(-6)).sum()*ratio)\n",
    "if cardinality_total:\n",
    "    AssetLim = ratio*math.floor(N)\n",
    "#\n",
    "# MVO.asset_lim = AssetLim\n",
    "# MVO.cardinality = True\n",
    "# MVO.set_model() #set up the model\n",
    "# MVO.model.params.MIPGAP = 0.05\n",
    "# MVO.optimize() #find optimal solution\n",
    "\n",
    "CCPO = SVMMVO(tics, mean, cov, ret_constr, soft_margin, Y, asset_lim= AssetLim,\n",
    "             svm_choice = (False, False), print_var_frntr= False, cardinality = True) #define an instance of the class\n",
    "CCPO.set_model() #set up the model\n",
    "CCPO.model.params.MIPGAP = 0.05\n",
    "CCPO.optimize() #find optimal solution\n",
    "\n",
    "\n",
    "print(\"Asset Limit\", AssetLim)"
   ],
   "metadata": {
    "collapsed": false
   }
  },
  {
   "cell_type": "markdown",
   "metadata": {
    "id": "K7you9bPfMGK"
   },
   "source": [
    "### Mean Variance and SVM Joint Using Alternating Directions Method Class Definition\n",
    "\n",
    "The SVM_MVO_ADM objective does not require feasibility. Where as the other algorithm SVM_MVO_ADM_v2 does a random perturbation if it stalls at an infeasible point. "
   ]
  },
  {
   "cell_type": "code",
   "execution_count": 5,
   "metadata": {
    "colab": {
     "base_uri": "https://localhost:8080/"
    },
    "executionInfo": {
     "elapsed": 68624,
     "status": "ok",
     "timestamp": 1641766523254,
     "user": {
      "displayName": "Ryan Islip",
      "photoUrl": "https://lh3.googleusercontent.com/a-/AOh14GilWm_VaaGzVK5IBoUx-rWGsFz3XH3h1cea39928g=s64",
      "userId": "09447671168486293026"
     },
     "user_tz": 300
    },
    "id": "0lHbqvBLqfkO",
    "outputId": "a95b7fde-883d-4913-af15-a02c72881d42"
   },
   "outputs": [
    {
     "name": "stdout",
     "output_type": "stream",
     "text": [
      "Set parameter MIPGap to value 0.05\n",
      "Set parameter TimeLimit to value 10\n",
      "Set parameter TimeLimit to value 60\n",
      "Initialization successful\n",
      "partial min convergence\n",
      "outer iteration  0\n",
      "0.0095367431640625\n",
      "partial min convergence\n",
      "outer iteration  1\n",
      "0.019073486328125\n",
      "partial min convergence\n",
      "outer iteration  2\n",
      "0.03814697265625\n",
      "partial min convergence\n",
      "outer iteration  3\n",
      "0.0762939453125\n",
      "partial min convergence\n",
      "outer iteration  4\n",
      "0.152587890625\n",
      "partial min convergence\n",
      "outer iteration  5\n",
      "0.30517578125\n",
      "partial min convergence\n",
      "outer iteration  6\n",
      "0.6103515625\n",
      "partial min convergence\n",
      "outer iteration  7\n",
      "1.220703125\n",
      "partial min convergence\n",
      "outer iteration  8\n",
      "2.44140625\n",
      "partial min convergence\n",
      "outer iteration  9\n",
      "4.8828125\n",
      "partial min convergence\n",
      "outer iteration  10\n",
      "9.765625\n",
      "partial min convergence\n",
      "outer iteration  11\n",
      "19.53125\n",
      "partial min convergence\n",
      "outer iteration  12\n",
      "39.0625\n",
      "partial min convergence\n",
      "outer iteration  13\n",
      "78.125\n",
      "partial min convergence\n",
      "outer iteration  14\n",
      "156.25\n",
      "partial min convergence\n",
      "outer iteration  15\n",
      "312.5\n",
      "partial min convergence\n",
      "outer iteration  16\n",
      "625.0\n",
      "partial min convergence\n",
      "outer iteration  17\n",
      "1250.0\n",
      "partial min convergence\n",
      "ADM terminated with C =  1250.0\n",
      "Solution time 47.22398900985718\n"
     ]
    }
   ],
   "source": [
    "MVO_ = MVO(tics, mean, cov, ret_constr, Y_normalized, AssetLim, epsilon=epsilon)\n",
    "SVM_ = SVM(tics, Y_normalized , soft_margin, non_neg = non_negativity_setting, epsilon=epsilon)\n",
    "SVM_MVO_Fast = SVM_MVO_ADM(MVO_, SVM_, IterLim = 10, ParamLim = 20)\n",
    "SVM_MVO_Fast.MVO_.model.params.MIPGap = 0.05 \n",
    "SVM_MVO_Fast.MVO_.model.params.timelimit = 10\n",
    "SVM_MVO_Fast.SVM_.model.params.timelimit = 60\n",
    "SVM_MVO_Fast.MVO_.model.params.OutputFlag = 0\n",
    "SVM_MVO_Fast.SVM_.model.params.OutputFlag = 0\n",
    "start = time.time()\n",
    "SVM_MVO_Fast.initialize_soln()\n",
    "print(\"Initialization successful\")\n",
    "ws , xs, zs , xi_mvo, xi_svm, dt, objs_svm, objs_mvo, penalty_hist = SVM_MVO_Fast.solve_adm()\n",
    "end = time.time()\n",
    "print(\"Solution time\", end - start)"
   ]
  },
  {
   "cell_type": "markdown",
   "metadata": {
    "id": "KkuQOko4eqM0"
   },
   "source": [
    "### ADM method with individual updates on the penalty parameters"
   ]
  },
  {
   "cell_type": "code",
   "execution_count": 6,
   "outputs": [
    {
     "data": {
      "text/plain": "0.05956292104784792"
     },
     "execution_count": 6,
     "metadata": {},
     "output_type": "execute_result"
    }
   ],
   "source": [
    "np.max(ws)"
   ],
   "metadata": {
    "collapsed": false
   }
  },
  {
   "cell_type": "code",
   "execution_count": 7,
   "metadata": {
    "colab": {
     "base_uri": "https://localhost:8080/"
    },
    "executionInfo": {
     "elapsed": 93512,
     "status": "ok",
     "timestamp": 1641763524269,
     "user": {
      "displayName": "Ryan Islip",
      "photoUrl": "https://lh3.googleusercontent.com/a-/AOh14GilWm_VaaGzVK5IBoUx-rWGsFz3XH3h1cea39928g=s64",
      "userId": "09447671168486293026"
     },
     "user_tz": 300
    },
    "id": "YMdmVDm9pkyo",
    "outputId": "364cbf1d-dc8f-46d5-9e58-568d77d94c95"
   },
   "outputs": [
    {
     "name": "stdout",
     "output_type": "stream",
     "text": [
      "Set parameter MIPGap to value 0.05\n",
      "Set parameter TimeLimit to value 10\n",
      "Set parameter TimeLimit to value 60\n",
      "Stalling at Infeasible Point\n",
      "SVM  0.04618203193785929\n",
      "MVO  0.04617764273357504\n",
      "Stalling at Infeasible Point\n",
      "SVM  0.018460432673097823\n",
      "MVO  0.018460310853506332\n",
      "Stalling at Infeasible Point\n",
      "SVM  0.01297382012360694\n",
      "MVO  0.012973013227279511\n",
      "Stalling at Infeasible Point\n",
      "SVM  0.006542749661358594\n",
      "MVO  0.006542577722360039\n",
      "Stalling at Infeasible Point\n",
      "SVM  0.0033529770278501346\n",
      "MVO  0.0033529576780688282\n",
      "Stalling at Infeasible Point\n",
      "SVM  0.0010525646220539704\n",
      "MVO  0.001052542260435511\n",
      "Stalling at Infeasible Point\n",
      "SVM  0.0002186181025328919\n",
      "MVO  0.00021861785358923483\n",
      "ADM terminated with C =  [[ 161.85313768]\n",
      " [ 211.40001656]\n",
      " [ 161.85313768]\n",
      " [ 161.85313768]\n",
      " [ 161.85313768]\n",
      " [ 412.15896606]\n",
      " [ 161.85313768]\n",
      " [ 161.85313768]\n",
      " [ 161.85313768]\n",
      " [ 161.85313768]\n",
      " [ 161.85313768]\n",
      " [ 184.97501449]\n",
      " [ 276.11430734]\n",
      " [ 161.85313768]\n",
      " [ 360.63909531]\n",
      " [ 161.85313768]\n",
      " [ 184.97501449]\n",
      " [ 241.60001893]\n",
      " [ 161.85313768]\n",
      " [ 717.7734375 ]\n",
      " [ 184.97501449]\n",
      " [ 161.85313768]\n",
      " [ 161.85313768]\n",
      " [ 161.85313768]\n",
      " [ 161.85313768]\n",
      " [ 161.85313768]\n",
      " [ 161.85313768]\n",
      " [ 161.85313768]\n",
      " [ 161.85313768]\n",
      " [ 161.85313768]\n",
      " [ 161.85313768]\n",
      " [ 161.85313768]\n",
      " [ 161.85313768]\n",
      " [ 315.55920839]\n",
      " [ 161.85313768]\n",
      " [ 184.97501449]\n",
      " [ 161.85313768]\n",
      " [ 161.85313768]\n",
      " [ 161.85313768]\n",
      " [ 161.85313768]\n",
      " [ 161.85313768]\n",
      " [ 161.85313768]\n",
      " [ 161.85313768]\n",
      " [ 241.60001893]\n",
      " [ 161.85313768]\n",
      " [ 161.85313768]\n",
      " [ 161.85313768]\n",
      " [ 161.85313768]\n",
      " [ 241.60001893]\n",
      " [ 161.85313768]\n",
      " [ 161.85313768]\n",
      " [ 161.85313768]\n",
      " [ 161.85313768]\n",
      " [ 161.85313768]\n",
      " [ 161.85313768]\n",
      " [ 161.85313768]\n",
      " [ 161.85313768]\n",
      " [ 161.85313768]\n",
      " [ 161.85313768]\n",
      " [ 161.85313768]\n",
      " [ 412.15896606]\n",
      " [ 161.85313768]\n",
      " [ 161.85313768]\n",
      " [ 161.85313768]\n",
      " [ 184.97501449]\n",
      " [ 161.85313768]\n",
      " [ 161.85313768]\n",
      " [ 161.85313768]\n",
      " [ 161.85313768]\n",
      " [ 161.85313768]\n",
      " [ 161.85313768]\n",
      " [ 184.97501449]\n",
      " [ 161.85313768]\n",
      " [ 161.85313768]\n",
      " [ 412.15896606]\n",
      " [ 161.85313768]\n",
      " [ 161.85313768]\n",
      " [ 161.85313768]\n",
      " [ 184.97501449]\n",
      " [ 161.85313768]\n",
      " [ 161.85313768]\n",
      " [1093.75      ]\n",
      " [ 161.85313768]\n",
      " [ 184.97501449]\n",
      " [ 161.85313768]\n",
      " [ 161.85313768]\n",
      " [ 276.11430734]\n",
      " [ 161.85313768]\n",
      " [ 161.85313768]\n",
      " [ 161.85313768]\n",
      " [ 161.85313768]\n",
      " [ 161.85313768]\n",
      " [ 161.85313768]\n",
      " [ 161.85313768]\n",
      " [ 161.85313768]\n",
      " [ 161.85313768]\n",
      " [ 161.85313768]\n",
      " [ 315.55920839]\n",
      " [ 161.85313768]\n",
      " [ 820.3125    ]\n",
      " [ 161.85313768]\n",
      " [ 161.85313768]\n",
      " [ 161.85313768]\n",
      " [ 211.40001656]\n",
      " [ 161.85313768]\n",
      " [ 161.85313768]\n",
      " [ 161.85313768]\n",
      " [ 161.85313768]\n",
      " [ 161.85313768]\n",
      " [ 161.85313768]\n",
      " [ 161.85313768]\n",
      " [ 360.63909531]\n",
      " [ 161.85313768]\n",
      " [ 161.85313768]\n",
      " [ 161.85313768]\n",
      " [ 184.97501449]\n",
      " [ 360.63909531]\n",
      " [ 161.85313768]\n",
      " [ 161.85313768]\n",
      " [ 161.85313768]\n",
      " [ 161.85313768]\n",
      " [ 161.85313768]\n",
      " [ 161.85313768]\n",
      " [ 161.85313768]\n",
      " [ 161.85313768]\n",
      " [ 161.85313768]\n",
      " [ 161.85313768]\n",
      " [ 161.85313768]\n",
      " [ 161.85313768]\n",
      " [ 241.60001893]\n",
      " [ 161.85313768]\n",
      " [ 184.97501449]\n",
      " [ 161.85313768]\n",
      " [ 161.85313768]\n",
      " [ 161.85313768]\n",
      " [ 161.85313768]\n",
      " [ 184.97501449]\n",
      " [ 161.85313768]\n",
      " [ 161.85313768]\n",
      " [ 161.85313768]\n",
      " [ 161.85313768]\n",
      " [ 184.97501449]\n",
      " [ 161.85313768]\n",
      " [ 161.85313768]\n",
      " [ 161.85313768]\n",
      " [ 161.85313768]\n",
      " [ 161.85313768]\n",
      " [ 161.85313768]\n",
      " [ 161.85313768]\n",
      " [ 211.40001656]\n",
      " [ 161.85313768]\n",
      " [ 211.40001656]\n",
      " [ 276.11430734]\n",
      " [ 161.85313768]\n",
      " [ 211.40001656]\n",
      " [ 161.85313768]\n",
      " [ 161.85313768]\n",
      " [ 161.85313768]\n",
      " [ 161.85313768]\n",
      " [ 161.85313768]\n",
      " [ 161.85313768]\n",
      " [ 161.85313768]\n",
      " [ 161.85313768]\n",
      " [ 360.63909531]\n",
      " [ 161.85313768]\n",
      " [ 211.40001656]\n",
      " [ 161.85313768]\n",
      " [ 161.85313768]\n",
      " [ 241.60001893]\n",
      " [ 161.85313768]\n",
      " [ 241.60001893]\n",
      " [ 161.85313768]\n",
      " [ 184.97501449]\n",
      " [ 315.55920839]\n",
      " [ 161.85313768]\n",
      " [ 161.85313768]\n",
      " [ 161.85313768]\n",
      " [ 161.85313768]\n",
      " [ 161.85313768]\n",
      " [ 538.33007812]\n",
      " [ 161.85313768]\n",
      " [ 184.97501449]\n",
      " [ 161.85313768]\n",
      " [ 184.97501449]\n",
      " [ 276.11430734]\n",
      " [ 161.85313768]\n",
      " [ 717.7734375 ]\n",
      " [ 184.97501449]\n",
      " [ 161.85313768]\n",
      " [ 161.85313768]\n",
      " [ 161.85313768]\n",
      " [ 161.85313768]\n",
      " [ 241.60001893]\n",
      " [ 161.85313768]\n",
      " [ 161.85313768]\n",
      " [ 161.85313768]\n",
      " [ 161.85313768]\n",
      " [ 161.85313768]\n",
      " [ 161.85313768]\n",
      " [ 161.85313768]\n",
      " [ 184.97501449]\n",
      " [ 161.85313768]\n",
      " [1093.75      ]\n",
      " [ 161.85313768]\n",
      " [ 161.85313768]\n",
      " [ 161.85313768]\n",
      " [ 161.85313768]\n",
      " [ 161.85313768]\n",
      " [ 161.85313768]\n",
      " [ 161.85313768]\n",
      " [ 161.85313768]\n",
      " [ 161.85313768]\n",
      " [ 161.85313768]\n",
      " [ 161.85313768]\n",
      " [ 161.85313768]\n",
      " [ 161.85313768]\n",
      " [ 161.85313768]\n",
      " [ 241.60001893]\n",
      " [ 161.85313768]\n",
      " [ 211.40001656]\n",
      " [ 161.85313768]\n",
      " [ 161.85313768]\n",
      " [ 471.03881836]\n",
      " [ 161.85313768]\n",
      " [ 241.60001893]\n",
      " [ 161.85313768]\n",
      " [ 184.97501449]\n",
      " [ 184.97501449]\n",
      " [ 161.85313768]\n",
      " [ 161.85313768]\n",
      " [ 161.85313768]\n",
      " [ 161.85313768]\n",
      " [ 538.33007812]\n",
      " [ 161.85313768]\n",
      " [ 161.85313768]\n",
      " [ 161.85313768]\n",
      " [ 161.85313768]\n",
      " [ 161.85313768]\n",
      " [ 161.85313768]\n",
      " [ 161.85313768]\n",
      " [ 471.03881836]\n",
      " [ 161.85313768]\n",
      " [ 161.85313768]\n",
      " [ 161.85313768]\n",
      " [ 161.85313768]\n",
      " [ 184.97501449]\n",
      " [ 161.85313768]\n",
      " [ 161.85313768]\n",
      " [ 161.85313768]\n",
      " [ 820.3125    ]\n",
      " [ 161.85313768]\n",
      " [ 161.85313768]\n",
      " [ 360.63909531]\n",
      " [ 161.85313768]\n",
      " [ 161.85313768]\n",
      " [ 161.85313768]\n",
      " [ 161.85313768]\n",
      " [ 211.40001656]\n",
      " [ 161.85313768]\n",
      " [ 161.85313768]\n",
      " [ 161.85313768]\n",
      " [ 161.85313768]\n",
      " [ 161.85313768]\n",
      " [ 276.11430734]\n",
      " [ 161.85313768]\n",
      " [ 161.85313768]\n",
      " [ 161.85313768]\n",
      " [ 241.60001893]\n",
      " [ 161.85313768]\n",
      " [ 161.85313768]\n",
      " [ 161.85313768]\n",
      " [ 211.40001656]\n",
      " [ 161.85313768]\n",
      " [ 161.85313768]\n",
      " [ 161.85313768]\n",
      " [ 161.85313768]\n",
      " [ 161.85313768]\n",
      " [ 161.85313768]\n",
      " [ 161.85313768]\n",
      " [ 161.85313768]\n",
      " [ 161.85313768]\n",
      " [ 184.97501449]\n",
      " [ 161.85313768]\n",
      " [ 161.85313768]\n",
      " [ 161.85313768]\n",
      " [ 161.85313768]]\n",
      "Solution time 43.0844190120697\n"
     ]
    }
   ],
   "source": [
    "MVO_2 = MVO(tics, mean, cov, ret_constr, Y_normalized, AssetLim)\n",
    "SVM_2 = SVM(tics, Y_normalized , soft_margin*np.ones_like(mean), non_neg = non_negativity_setting)\n",
    "\n",
    "SVM_MVO_Fast_v2 = SVM_MVO_ADM_v2(MVO_2, SVM_2, IterLim = 10, ParamLim = 15)\n",
    "SVM_MVO_Fast_v2.MVO_.model.params.MIPGap = 0.05 \n",
    "SVM_MVO_Fast_v2.MVO_.model.params.timelimit = 10\n",
    "SVM_MVO_Fast_v2.SVM_.model.params.timelimit = 60\n",
    "SVM_MVO_Fast_v2.MVO_.model.params.OutputFlag = 0\n",
    "SVM_MVO_Fast_v2.SVM_.model.params.OutputFlag = 0\n",
    "start = time.time()\n",
    "SVM_MVO_Fast_v2.initialize_soln()\n",
    "ws_2, xs_2, zs_2 , xi_mvo_2, xi_svm_2, dt_2, objs_svm_2, objs_mvo_2 = SVM_MVO_Fast_v2.solve_adm()\n",
    "end = time.time()\n",
    "print(\"Solution time\", end - start)"
   ]
  },
  {
   "cell_type": "code",
   "execution_count": 8,
   "outputs": [
    {
     "data": {
      "text/plain": "LEV1    0.191668\nGRW1    0.314636\nName: ES, dtype: float64"
     },
     "execution_count": 8,
     "metadata": {},
     "output_type": "execute_result"
    }
   ],
   "source": [
    "Y_normalized.iloc[92]"
   ],
   "metadata": {
    "collapsed": false
   }
  },
  {
   "cell_type": "code",
   "execution_count": 9,
   "outputs": [
    {
     "data": {
      "text/plain": "array([0.03027239, 0.05956292])"
     },
     "execution_count": 9,
     "metadata": {},
     "output_type": "execute_result"
    }
   ],
   "source": [
    "SVM_MVO_Fast.w.x"
   ],
   "metadata": {
    "collapsed": false
   }
  },
  {
   "cell_type": "code",
   "execution_count": 10,
   "outputs": [
    {
     "data": {
      "text/plain": "<matplotlib.legend.Legend at 0x2b0aec95a20>"
     },
     "execution_count": 10,
     "metadata": {},
     "output_type": "execute_result"
    },
    {
     "data": {
      "text/plain": "<Figure size 640x480 with 1 Axes>",
      "image/png": "[encoded data removed]"
     },
     "metadata": {},
     "output_type": "display_data"
    }
   ],
   "source": [
    "plt.plot(SVM_MVO_Fast.xi_svm.x, label = \"SVM\")\n",
    "plt.plot(SVM_MVO_Fast.xi_mvo.x, label = \"MVO\")\n",
    "plt.legend()"
   ],
   "metadata": {
    "collapsed": false
   }
  },
  {
   "cell_type": "code",
   "execution_count": 11,
   "outputs": [
    {
     "data": {
      "text/plain": "80.0"
     },
     "execution_count": 11,
     "metadata": {},
     "output_type": "execute_result"
    }
   ],
   "source": [
    "0.001*80000"
   ],
   "metadata": {
    "collapsed": false
   }
  },
  {
   "cell_type": "code",
   "execution_count": 12,
   "outputs": [
    {
     "data": {
      "text/plain": "226.0"
     },
     "execution_count": 12,
     "metadata": {},
     "output_type": "execute_result"
    }
   ],
   "source": [
    "sum(SVM_MVO_Fast.z.x)"
   ],
   "metadata": {
    "collapsed": false
   }
  },
  {
   "cell_type": "code",
   "execution_count": 13,
   "metadata": {
    "colab": {
     "base_uri": "https://localhost:8080/"
    },
    "executionInfo": {
     "elapsed": 6,
     "status": "ok",
     "timestamp": 1641763569817,
     "user": {
      "displayName": "Ryan Islip",
      "photoUrl": "https://lh3.googleusercontent.com/a-/AOh14GilWm_VaaGzVK5IBoUx-rWGsFz3XH3h1cea39928g=s64",
      "userId": "09447671168486293026"
     },
     "user_tz": 300
    },
    "id": "VVZ9OwYlcV6Z",
    "outputId": "242e2b52-7d6c-46fb-8c3a-4535be2654c8"
   },
   "outputs": [
    {
     "data": {
      "text/plain": "4.8689474043296425e-11"
     },
     "execution_count": 13,
     "metadata": {},
     "output_type": "execute_result"
    }
   ],
   "source": [
    "SVM_MVO_Fast.xi_svm.x.sum()"
   ]
  },
  {
   "cell_type": "code",
   "execution_count": 14,
   "outputs": [
    {
     "data": {
      "text/plain": "0.0"
     },
     "execution_count": 14,
     "metadata": {},
     "output_type": "execute_result"
    }
   ],
   "source": [
    "SVM_MVO_Fast.xi_mvo.x.sum()"
   ],
   "metadata": {
    "collapsed": false
   }
  },
  {
   "cell_type": "code",
   "execution_count": 38,
   "outputs": [
    {
     "data": {
      "text/plain": "69"
     },
     "execution_count": 38,
     "metadata": {},
     "output_type": "execute_result"
    }
   ],
   "source": [
    "len(ws)"
   ],
   "metadata": {
    "collapsed": false
   }
  },
  {
   "cell_type": "code",
   "execution_count": 50,
   "outputs": [
    {
     "name": "stdout",
     "output_type": "stream",
     "text": [
      "69\n"
     ]
    },
    {
     "data": {
      "text/plain": "<Figure size 300x200 with 1 Axes>",
      "image/png": "[encoded data removed]"
     },
     "metadata": {},
     "output_type": "display_data"
    }
   ],
   "source": [
    "plt.figure(figsize = (3, 2))\n",
    "plt.plot(ws , \".-\")\n",
    "plt.legend(Y_normalized.columns, fontsize = 8)\n",
    "plt.xlabel(\"Iteration \\#\", fontsize = 8)\n",
    "plt.ylabel(r\"$\\boldsymbol{w}$\", fontsize = 8)\n",
    "plt.title(r\"Components of $ \\boldsymbol{w}$ by iteration\", fontsize = 8)\n",
    "plt.xticks(fontsize=8)\n",
    "plt.yticks(fontsize=8)\n",
    "plt.tight_layout()\n",
    "plt.savefig(\"Images/p4.svg\",dpi = dpi_setting)\n",
    "print(len(ws))"
   ],
   "metadata": {
    "collapsed": false
   }
  },
  {
   "cell_type": "code",
   "execution_count": 17,
   "metadata": {
    "colab": {
     "base_uri": "https://localhost:8080/",
     "height": 297
    },
    "executionInfo": {
     "elapsed": 1121,
     "status": "ok",
     "timestamp": 1641766577126,
     "user": {
      "displayName": "Ryan Islip",
      "photoUrl": "https://lh3.googleusercontent.com/a-/AOh14GilWm_VaaGzVK5IBoUx-rWGsFz3XH3h1cea39928g=s64",
      "userId": "09447671168486293026"
     },
     "user_tz": 300
    },
    "id": "_RlPDK7iYNqg",
    "outputId": "91a3562a-6da4-44b6-dd24-6154ade1cd89"
   },
   "outputs": [
    {
     "data": {
      "text/plain": "<Figure size 640x480 with 1 Axes>",
      "image/png": "[encoded data removed]"
     },
     "metadata": {},
     "output_type": "display_data"
    }
   ],
   "source": [
    "pd.DataFrame(xs).diff(\\\n",
    "                      ).abs().sum(axis = 1).iloc[1:].plot(xlabel = \"Iteration k\",\\\n",
    "                                                          ylabel = \"||$\\mathbf{x}^k - \\mathbf{x}^{k-1}$||\",\\\n",
    "                                                          title = \"Convergence of $\\mathbf{x}$\");\n",
    "plt.tight_layout()                                                                           \n",
    "#plt.savefig(\"Images/p5.svg\",dpi = dpi_setting)"
   ]
  },
  {
   "cell_type": "code",
   "source": [
    "print(\"xi for SVM as a function of iteration number\")\n",
    "print(pd.DataFrame(xi_svm).sum(axis = 1))\n",
    "print(\"xi for MVO as a function of iteration number\")\n",
    "print(pd.DataFrame(xi_mvo).sum(axis = 1))\n",
    "print(\"These two series should converge to the same thing\")\n",
    "# plt.plot(xi_svm[:,:].sum(axis = 1), '.-');\n",
    "# plt.plot(xi_mvo[:,:].sum(axis = 1), '.-');\n",
    "plt.figure(figsize = (3,2))\n",
    "plt.plot(np.arange(0, len(xi_svm[:,:])), xi_svm[0:,:].sum(axis = 1), '.-');\n",
    "plt.plot(np.arange(0, len(xi_svm[:,:])), xi_mvo[0:,:].sum(axis = 1), '.-');\n",
    "plt.xlabel(\"Iteration \\#\", fontsize = 8)\n",
    "plt.xticks(fontsize=8)\n",
    "plt.yticks(fontsize=8)\n",
    "plt.ylabel(r\"$\\boldsymbol{1}^{\\intercal} \\boldsymbol{\\xi}$\", fontsize = 8)\n",
    "plt.title(r\"Convergence of $\\boldsymbol{1}^{\\intercal} \\boldsymbol{\\xi}$\", fontsize = 8)\n",
    "plt.tight_layout()\n",
    "plt.savefig(\"Images/p5_2.svg\",dpi = dpi_setting)"
   ],
   "metadata": {
    "colab": {
     "base_uri": "https://localhost:8080/"
    },
    "id": "9UIiAFNW98Hz",
    "executionInfo": {
     "status": "ok",
     "timestamp": 1641767492232,
     "user_tz": 300,
     "elapsed": 801,
     "user": {
      "displayName": "Ryan Islip",
      "photoUrl": "https://lh3.googleusercontent.com/a-/AOh14GilWm_VaaGzVK5IBoUx-rWGsFz3XH3h1cea39928g=s64",
      "userId": "09447671168486293026"
     }
    },
    "outputId": "420fe5f2-eca6-4768-9616-b7aac7feabc1"
   },
   "execution_count": 51,
   "outputs": [
    {
     "name": "stdout",
     "output_type": "stream",
     "text": [
      "xi for SVM as a function of iteration number\n",
      "0     2.801385e-01\n",
      "1     1.284931e-01\n",
      "2     9.611013e-02\n",
      "3     9.611013e-02\n",
      "4     9.611013e-02\n",
      "          ...     \n",
      "64    4.190286e-05\n",
      "65    4.190286e-05\n",
      "66    4.190286e-05\n",
      "67    4.868947e-11\n",
      "68    4.868947e-11\n",
      "Length: 69, dtype: float64\n",
      "xi for MVO as a function of iteration number\n",
      "0     0.000000\n",
      "1     0.250006\n",
      "2     0.093530\n",
      "3     0.095984\n",
      "4     0.095984\n",
      "        ...   \n",
      "64    0.000529\n",
      "65    0.000042\n",
      "66    0.000042\n",
      "67    0.000042\n",
      "68    0.000000\n",
      "Length: 69, dtype: float64\n",
      "These two series should converge to the same thing\n"
     ]
    },
    {
     "data": {
      "text/plain": "<Figure size 300x200 with 1 Axes>",
      "image/png": "[encoded data removed]"
     },
     "metadata": {},
     "output_type": "display_data"
    }
   ]
  },
  {
   "cell_type": "code",
   "execution_count": 52,
   "metadata": {
    "colab": {
     "base_uri": "https://localhost:8080/",
     "height": 1000
    },
    "executionInfo": {
     "elapsed": 1205,
     "status": "ok",
     "timestamp": 1641770962481,
     "user": {
      "displayName": "Ryan Islip",
      "photoUrl": "https://lh3.googleusercontent.com/a-/AOh14GilWm_VaaGzVK5IBoUx-rWGsFz3XH3h1cea39928g=s64",
      "userId": "09447671168486293026"
     },
     "user_tz": 300
    },
    "id": "DWiP8KYDpCsV",
    "outputId": "807b5433-1c49-4104-8678-f335f37df4fb"
   },
   "outputs": [
    {
     "name": "stdout",
     "output_type": "stream",
     "text": [
      "xi for SVM as a function of iteration number\n",
      "0     2.801385e-01\n",
      "1     1.284931e-01\n",
      "2     9.611013e-02\n",
      "3     9.611013e-02\n",
      "4     9.611013e-02\n",
      "          ...     \n",
      "64    4.190286e-05\n",
      "65    4.190286e-05\n",
      "66    4.190286e-05\n",
      "67    4.868947e-11\n",
      "68    4.868947e-11\n",
      "Length: 69, dtype: float64\n",
      "xi for MVO as a function of iteration number\n",
      "0     0.000000\n",
      "1     0.250006\n",
      "2     0.093530\n",
      "3     0.095984\n",
      "4     0.095984\n",
      "        ...   \n",
      "64    0.000529\n",
      "65    0.000042\n",
      "66    0.000042\n",
      "67    0.000042\n",
      "68    0.000000\n",
      "Length: 69, dtype: float64\n",
      "These two series should converge to the same thing\n"
     ]
    },
    {
     "data": {
      "text/plain": "<Figure size 300x200 with 1 Axes>",
      "image/png": "[encoded data removed]"
     },
     "metadata": {},
     "output_type": "display_data"
    }
   ],
   "source": [
    "\n",
    "n_obs = 10\n",
    "plt.figure(figsize = (3,2))\n",
    "print(\"xi for SVM as a function of iteration number\")\n",
    "print(pd.DataFrame(xi_svm).sum(axis = 1))\n",
    "print(\"xi for MVO as a function of iteration number\")\n",
    "print(pd.DataFrame(xi_mvo).sum(axis = 1))\n",
    "print(\"These two series should converge to the same thing\")\n",
    "# plt.plot(xi_svm[:,:].sum(axis = 1), '.-');\n",
    "# plt.plot(xi_mvo[:,:].sum(axis = 1), '.-');\n",
    "plt.plot(np.arange(n_obs, len(xi_svm[:,:])), xi_svm[n_obs:,:].sum(axis = 1), '.-',\n",
    "         label = r\"$\\boldsymbol{1}^{\\intercal} \\boldsymbol{\\xi}^{SVM}$\");\n",
    "plt.plot(np.arange(n_obs, len(xi_svm[:,:])), xi_mvo[n_obs:,:].sum(axis = 1), '*--',\n",
    "         label = r\"$\\boldsymbol{1}^{\\intercal} \\boldsymbol{\\xi}^{MVO}$\");\n",
    "plt.xlabel(\"Iteration \\#\", fontsize = 8)\n",
    "plt.ylabel(r\"$\\boldsymbol{1}^{\\intercal} \\boldsymbol{\\xi}$\", fontsize = 8)\n",
    "plt.title(r\"Convergence of $\\boldsymbol{1}^{\\intercal} \\boldsymbol{\\xi}$\", fontsize = 8);\n",
    "plt.xticks(fontsize=8)\n",
    "plt.yticks(fontsize=8)\n",
    "plt.legend(fontsize = 8)\n",
    "plt.tight_layout()\n",
    "plt.savefig(\"Images/p5_2.svg\",dpi = dpi_setting)"
   ]
  },
  {
   "cell_type": "code",
   "execution_count": 20,
   "metadata": {
    "colab": {
     "base_uri": "https://localhost:8080/"
    },
    "executionInfo": {
     "elapsed": 793,
     "status": "ok",
     "timestamp": 1641766591369,
     "user": {
      "displayName": "Ryan Islip",
      "photoUrl": "https://lh3.googleusercontent.com/a-/AOh14GilWm_VaaGzVK5IBoUx-rWGsFz3XH3h1cea39928g=s64",
      "userId": "09447671168486293026"
     },
     "user_tz": 300
    },
    "id": "1v71xA26BMhg",
    "outputId": "19a9c337-5c31-4d69-a56e-84e7c17807f6"
   },
   "outputs": [
    {
     "data": {
      "text/plain": "array([], dtype=float64)"
     },
     "execution_count": 20,
     "metadata": {},
     "output_type": "execute_result"
    }
   ],
   "source": [
    "#is there non separability\n",
    "#check the last iteration xis\n",
    "xi_mvo_2[-1][xi_mvo_2[-1] > 0.0001]"
   ]
  },
  {
   "cell_type": "code",
   "execution_count": 21,
   "metadata": {
    "colab": {
     "base_uri": "https://localhost:8080/"
    },
    "executionInfo": {
     "elapsed": 5,
     "status": "ok",
     "timestamp": 1641770967165,
     "user": {
      "displayName": "Ryan Islip",
      "photoUrl": "https://lh3.googleusercontent.com/a-/AOh14GilWm_VaaGzVK5IBoUx-rWGsFz3XH3h1cea39928g=s64",
      "userId": "09447671168486293026"
     },
     "user_tz": 300
    },
    "id": "Ylj2C2kR9XtG",
    "outputId": "df1d9c50-94d2-4d20-cbf2-606b1e995e54"
   },
   "outputs": [
    {
     "data": {
      "text/plain": "array([], dtype=float64)"
     },
     "execution_count": 21,
     "metadata": {},
     "output_type": "execute_result"
    }
   ],
   "source": [
    "#what is the asset allocation for non separable xi\n",
    "xs_2[-1][xi_mvo_2[-1] > 0.0001]"
   ]
  },
  {
   "cell_type": "code",
   "execution_count": 22,
   "metadata": {
    "colab": {
     "base_uri": "https://localhost:8080/"
    },
    "executionInfo": {
     "elapsed": 4,
     "status": "ok",
     "timestamp": 1641770967670,
     "user": {
      "displayName": "Ryan Islip",
      "photoUrl": "https://lh3.googleusercontent.com/a-/AOh14GilWm_VaaGzVK5IBoUx-rWGsFz3XH3h1cea39928g=s64",
      "userId": "09447671168486293026"
     },
     "user_tz": 300
    },
    "id": "pHvaStL6AOhQ",
    "outputId": "89fbca6f-37af-4157-aa0a-fda974a06c72"
   },
   "outputs": [
    {
     "data": {
      "text/plain": "array([], dtype=float64)"
     },
     "execution_count": 22,
     "metadata": {},
     "output_type": "execute_result"
    }
   ],
   "source": [
    "#which side of the hyperplane are the non separable points on. \n",
    "np.dot(Y_normalized.values[xi_mvo_2[-1] > 10**(-6)], SVM_2.w.x)+ SVM_2.b.x"
   ]
  },
  {
   "cell_type": "markdown",
   "metadata": {
    "id": "XxGCqUt7E3x1"
   },
   "source": [
    "##Exact MIP Solution with ADM Warm Start"
   ]
  },
  {
   "cell_type": "code",
   "execution_count": 23,
   "metadata": {
    "colab": {
     "base_uri": "https://localhost:8080/"
    },
    "id": "pYWso3OSHxIy",
    "outputId": "1b1049a3-411b-4659-a378-6fc096eb0717",
    "executionInfo": {
     "status": "ok",
     "timestamp": 1641763536576,
     "user_tz": 300,
     "elapsed": 11088,
     "user": {
      "displayName": "Ryan Islip",
      "photoUrl": "https://lh3.googleusercontent.com/a-/AOh14GilWm_VaaGzVK5IBoUx-rWGsFz3XH3h1cea39928g=s64",
      "userId": "09447671168486293026"
     }
    }
   },
   "outputs": [
    {
     "name": "stdout",
     "output_type": "stream",
     "text": [
      "Set parameter FeasibilityTol to value 1e-09\n",
      "Gurobi Optimizer version 9.5.2 build v9.5.2rc0 (win64)\n",
      "Thread count: 4 physical cores, 8 logical processors, using up to 8 threads\n",
      "Optimize a model with 290 rows, 1147 columns and 1716 nonzeros\n",
      "Model fingerprint: 0xe5b91f05\n",
      "Model has 41043 quadratic objective terms\n",
      "Model has 572 general constraints\n",
      "Variable types: 861 continuous, 286 integer (286 binary)\n",
      "Coefficient statistics:\n",
      "  Matrix range     [2e-04, 1e+00]\n",
      "  Objective range  [2e+01, 2e+01]\n",
      "  QObjective range [6e-07, 1e+00]\n",
      "  Bounds range     [1e+00, 1e+00]\n",
      "  RHS range        [1e+00, 2e+02]\n",
      "  GenCon rhs range [1e-03, 1e-03]\n",
      "  GenCon coe range [2e-03, 1e+01]\n",
      "\n",
      "User MIP start produced solution with objective 0.00292016 (0.05s)\n",
      "Loaded user MIP start with objective 0.00292016\n",
      "\n",
      "Presolve added 746 rows and 352 columns\n",
      "Presolve time: 0.02s\n",
      "Presolved: 1036 rows, 1499 columns, 4356 nonzeros\n",
      "Presolved model has 462 SOS constraint(s)\n",
      "Presolved model has 41043 quadratic objective terms\n",
      "Variable types: 1037 continuous, 462 integer (462 binary)\n",
      "\n",
      "Root relaxation: objective 6.870493e-04, 1042 iterations, 0.02 seconds (0.02 work units)\n",
      "\n",
      "    Nodes    |    Current Node    |     Objective Bounds      |     Work\n",
      " Expl Unexpl |  Obj  Depth IntInf | Incumbent    BestBd   Gap | It/Node Time\n",
      "\n",
      "     0     0    0.00069    0   76    0.00292    0.00069  76.5%     -    0s\n",
      "     0     0    0.00069    0   76    0.00292    0.00069  76.5%     -    0s\n",
      "     0     2    0.00069    0   76    0.00292    0.00069  76.5%     -    0s\n",
      "  2956   747     cutoff   43         0.00292    0.00069  76.5%   8.9    5s\n",
      "H 7021   960                       0.0029202    0.00070  76.1%   7.2    9s\n",
      "  7035   893    0.00117   55   23    0.00292    0.00070  76.1%   7.2   10s\n",
      "\n",
      "Explored 12132 nodes (67342 simplex iterations) in 13.03 seconds (9.07 work units)\n",
      "Thread count was 8 (of 8 available processors)\n",
      "\n",
      "Solution count 1: 0.00292016 \n",
      "\n",
      "Optimal solution found (tolerance 1.00e-04)\n",
      "Best objective 2.920161833264e-03, best bound 2.920161833264e-03, gap 0.0000%\n",
      "Warning: general constraint 290 and general constraint 292 have the same name \"svm1\"\n"
     ]
    },
    {
     "data": {
      "text/plain": "13.046931505203247"
     },
     "execution_count": 23,
     "metadata": {},
     "output_type": "execute_result"
    }
   ],
   "source": [
    "#SVM with slack \n",
    "#beat 600 seconds\n",
    "SVM_MVO_Slck = SVMMVO(tics, mean, cov, ret_constr, soft_margin, Y_normalized, AssetLim, \\\n",
    "                      svm_choice = (True, True), print_var_frntr = False, indicator = True, non_neg = non_negativity_setting, epsilon  = epsilon)\n",
    "starts = [SVM_MVO_Fast.x.x, SVM_MVO_Fast.z.x, SVM_MVO_Fast.w.x, SVM_MVO_Fast.b.x]\n",
    "SVM_MVO_Slck.model.params.FeasibilityTol = 1e-9\n",
    "SVM_MVO_Slck.set_model(start = starts)\n",
    "# SVM_MVO_Slck.model.params.Presolve = 2\n",
    "# SVM_MVO_Slck.model.Params.ImpliedCuts = 2\n",
    "SVM_MVO_Slck.optimize()"
   ]
  },
  {
   "cell_type": "markdown",
   "metadata": {
    "id": "Jy28ezyvg6PA"
   },
   "source": [
    "## Exact Solution without ADM"
   ]
  },
  {
   "cell_type": "code",
   "execution_count": 24,
   "metadata": {
    "id": "G7jg3pm-tal0",
    "colab": {
     "base_uri": "https://localhost:8080/"
    },
    "executionInfo": {
     "status": "ok",
     "timestamp": 1641763565869,
     "user_tz": 300,
     "elapsed": 29335,
     "user": {
      "displayName": "Ryan Islip",
      "photoUrl": "https://lh3.googleusercontent.com/a-/AOh14GilWm_VaaGzVK5IBoUx-rWGsFz3XH3h1cea39928g=s64",
      "userId": "09447671168486293026"
     }
    },
    "outputId": "4eaef85b-0e2a-4de2-e1eb-8c5fb640487e"
   },
   "outputs": [
    {
     "name": "stdout",
     "output_type": "stream",
     "text": [
      "Discarded solution information including additional information\n",
      "Gurobi Optimizer version 9.5.2 build v9.5.2rc0 (win64)\n",
      "Thread count: 4 physical cores, 8 logical processors, using up to 8 threads\n",
      "Optimize a model with 290 rows, 1147 columns and 1716 nonzeros\n",
      "Model fingerprint: 0x5b1a061e\n",
      "Model has 41043 quadratic objective terms\n",
      "Model has 1144 general constraints\n",
      "Variable types: 861 continuous, 286 integer (286 binary)\n",
      "Coefficient statistics:\n",
      "  Matrix range     [2e-04, 1e+00]\n",
      "  Objective range  [2e+01, 2e+01]\n",
      "  QObjective range [6e-07, 1e+00]\n",
      "  Bounds range     [1e+00, 1e+00]\n",
      "  RHS range        [1e+00, 2e+02]\n",
      "  GenCon rhs range [1e-03, 1e-03]\n",
      "  GenCon coe range [2e-03, 1e+01]\n",
      "Presolve added 1384 rows and 990 columns\n",
      "Presolve time: 0.03s\n",
      "Presolved: 1674 rows, 2137 columns, 7018 nonzeros\n",
      "Presolved model has 924 SOS constraint(s)\n",
      "Presolved model has 41043 quadratic objective terms\n",
      "Variable types: 1499 continuous, 638 integer (638 binary)\n",
      "Found heuristic solution: objective 2.1130715\n",
      "\n",
      "Root relaxation: objective 6.870493e-04, 1725 iterations, 0.07 seconds (0.04 work units)\n",
      "\n",
      "    Nodes    |    Current Node    |     Objective Bounds      |     Work\n",
      " Expl Unexpl |  Obj  Depth IntInf | Incumbent    BestBd   Gap | It/Node Time\n",
      "\n",
      "     0     0    0.00069    0  143    2.11307    0.00069   100%     -    0s\n",
      "     0     0    0.00069    0  143    2.11307    0.00069   100%     -    0s\n",
      "H    0     0                       2.0287009    0.00069   100%     -    0s\n",
      "     0     0    0.00069    0   76    2.02870    0.00069   100%     -    1s\n",
      "     0     0    0.00069    0   76    2.02870    0.00069   100%     -    1s\n",
      "     0     2    0.00069    0   76    2.02870    0.00069   100%     -    1s\n",
      "     1     5    0.00069    1   77    2.02870    0.00069   100%   5.0    5s\n",
      "H   33    36                       2.0286615    0.00069   100%   141    5s\n",
      "H  410   414                       2.0286610    0.00069   100%  65.7    7s\n",
      "H  482   486                       2.0286591    0.00069   100%  62.1    7s\n",
      "H  814   832                       2.0260347    0.00069   100%  52.3    9s\n",
      "   924   929    0.00069   82   77    2.02603    0.00069   100%  52.9   10s\n",
      "H  925   929                       2.0106291    0.00069   100%  52.8   10s\n",
      "H 2004  1829                       1.9925851    0.00069   100%  50.3   12s\n",
      "H 2529  2132                       1.9911046    0.00069   100%  51.0   13s\n",
      "H 2887  2397                       1.9844572    0.00069   100%  47.5   14s\n",
      "H 3009  2513                       1.9375686    0.00069   100%  46.3   14s\n",
      "H 3012  2513                       1.9334280    0.00069   100%  46.3   14s\n",
      "H 3022  2513                       1.9298369    0.00069   100%  46.3   15s\n",
      "  3028  2520    0.00069   15   77    1.92984    0.00069   100%  46.5   21s\n",
      "H 3134  2479                       1.9282152    0.00069   100%  48.2   21s\n",
      "H 3137  2358                       1.8988821    0.00069   100%  48.2   21s\n",
      "H 3144  2242                       1.8598677    0.00069   100%  48.1   21s\n",
      "H 3187  2165                       1.8598675    0.00069   100%  49.1   22s\n",
      "H 3188  2063                       1.8525680    0.00069   100%  49.1   22s\n",
      "H 3188  1965                       1.8489881    0.00069   100%  49.1   22s\n",
      "H 3189  1873                       1.8377026    0.00069   100%  49.0   22s\n",
      "H 3195  1783                       1.8357942    0.00069   100%  49.3   22s\n",
      "H 3228  1728                       1.8232450    0.00069   100%  49.4   23s\n",
      "H 3230  1648                       1.8106757    0.00069   100%  49.6   23s\n",
      "H 3233  1572                       1.8004747    0.00069   100%  49.7   23s\n",
      "H 3262  1544                       1.7706600    0.00069   100%  49.6   23s\n",
      "H 3328  1497                       1.7424949    0.00069   100%  50.1   23s\n",
      "H 3369  1463                       1.7194879    0.00069   100%  50.3   25s\n",
      "H 4400  2086                       1.6955350    0.00069   100%  47.0   27s\n",
      "H 4402  2027                       1.5925404    0.00069   100%  47.0   27s\n",
      "H 5824  2672                       0.9055758    0.00069   100%  41.9   29s\n",
      "H 5827  2605                       0.7782889    0.00069   100%  41.9   29s\n",
      "  5856  2740    0.00069  128   77    0.77829    0.00069   100%  41.7   30s\n",
      "* 6005  2670             254       0.6512902    0.00069   100%  41.1   30s\n",
      "* 6006  2666             254       0.6251091    0.00069   100%  41.1   30s\n",
      "* 6009  2666             254       0.6129864    0.00069   100%  41.1   30s\n",
      "* 6014  2664             253       0.6078599    0.00069   100%  41.0   30s\n",
      "* 6153  2803             253       0.5897823    0.00069   100%  40.4   30s\n",
      "* 6154  2803             252       0.5798432    0.00069   100%  40.4   30s\n",
      "* 6164  2801             253       0.5693405    0.00069   100%  40.4   30s\n",
      "* 6165  2799             251       0.5512566    0.00069   100%  40.4   30s\n",
      "* 6727  3337             231       0.5499306    0.00069   100%  38.7   30s\n",
      "H 6729  3335                       0.5313023    0.00069   100%  38.7   30s\n",
      "* 6742  3333             231       0.5153345    0.00069   100%  38.6   30s\n",
      "H 7161  3716                       0.4746719    0.00069   100%  37.5   31s\n",
      "H 7186  3706                       0.4330167    0.00069   100%  37.4   31s\n",
      "H 7210  3705                       0.4206206    0.00069   100%  37.4   31s\n",
      "* 7534   628             203       0.0352671    0.00069  98.1%  36.4   31s\n",
      "* 7535   628             203       0.0316354    0.00069  97.8%  36.4   31s\n",
      "H10112   864                       0.0090736    0.00069  92.4%  28.3   34s\n",
      " 10888  1059     cutoff  200         0.00907    0.00069  92.4%  26.5   35s\n",
      "*11954  1191             237       0.0053021    0.00069  87.0%  24.5   36s\n",
      "*12886  1387             211       0.0039632    0.00069  82.5%  23.1   37s\n",
      "*15816  2008             200       0.0029202    0.00072  75.3%  19.5   39s\n",
      " 16071  2111    0.00076  190   46    0.00292    0.00072  75.3%  19.2   40s\n",
      "\n",
      "Explored 22692 nodes (330238 simplex iterations) in 44.15 seconds (36.45 work units)\n",
      "Thread count was 8 (of 8 available processors)\n",
      "\n",
      "Solution count 10: 0.00292016 0.00396322 0.00530214 ... 0.515334\n",
      "\n",
      "Optimal solution found (tolerance 1.00e-04)\n",
      "Best objective 2.920162242526e-03, best bound 2.920162242526e-03, gap 0.0000%\n",
      "Warning: general constraint 290 and general constraint 292 have the same name \"svm1\"\n"
     ]
    },
    {
     "data": {
      "text/plain": "44.16681241989136"
     },
     "execution_count": 24,
     "metadata": {},
     "output_type": "execute_result"
    }
   ],
   "source": [
    "SVM_MVO_Slck.model.reset(clearall = 1)\n",
    "SVM_MVO_Slck.set_model()\n",
    "SVM_MVO_Slck.optimize()"
   ]
  },
  {
   "cell_type": "markdown",
   "metadata": {
    "id": "-Vrd8OkRhfNN"
   },
   "source": [
    "## Comparison between exact and ADM method"
   ]
  },
  {
   "cell_type": "markdown",
   "metadata": {
    "id": "b28Id2FahmQm"
   },
   "source": [
    "### Components of $w$"
   ]
  },
  {
   "cell_type": "code",
   "execution_count": 25,
   "outputs": [
    {
     "data": {
      "text/plain": "0.0"
     },
     "execution_count": 25,
     "metadata": {},
     "output_type": "execute_result"
    }
   ],
   "source": [
    "SVM_MVO_Slck.xi.x.sum()"
   ],
   "metadata": {
    "collapsed": false
   }
  },
  {
   "cell_type": "code",
   "execution_count": 26,
   "outputs": [
    {
     "data": {
      "text/plain": "226.0"
     },
     "execution_count": 26,
     "metadata": {},
     "output_type": "execute_result"
    }
   ],
   "source": [
    "SVM_MVO_Slck.z.x.sum()"
   ],
   "metadata": {
    "collapsed": false
   }
  },
  {
   "cell_type": "code",
   "execution_count": 27,
   "outputs": [
    {
     "data": {
      "text/plain": "array([0.00620327])"
     },
     "execution_count": 27,
     "metadata": {},
     "output_type": "execute_result"
    }
   ],
   "source": [
    "SVM_MVO_Slck.b.x"
   ],
   "metadata": {
    "collapsed": false
   }
  },
  {
   "cell_type": "code",
   "execution_count": 28,
   "metadata": {
    "colab": {
     "base_uri": "https://localhost:8080/",
     "height": 547
    },
    "id": "niUVpCaElKm6",
    "outputId": "8348eb42-7eba-4f4f-ab9a-30c87de9adb6",
    "executionInfo": {
     "status": "ok",
     "timestamp": 1641770973789,
     "user_tz": 300,
     "elapsed": 732,
     "user": {
      "displayName": "Ryan Islip",
      "photoUrl": "https://lh3.googleusercontent.com/a-/AOh14GilWm_VaaGzVK5IBoUx-rWGsFz3XH3h1cea39928g=s64",
      "userId": "09447671168486293026"
     }
    }
   },
   "outputs": [
    {
     "data": {
      "text/plain": "<Figure size 600x400 with 1 Axes>",
      "image/png": "[encoded data removed]"
     },
     "metadata": {},
     "output_type": "display_data"
    },
    {
     "data": {
      "text/plain": "<Figure size 600x400 with 1 Axes>",
      "image/png": "[encoded data removed]"
     },
     "metadata": {},
     "output_type": "display_data"
    }
   ],
   "source": [
    "plt.figure(figsize = (6,4))\n",
    "plt.plot(SVM_MVO_Slck.w.x)\n",
    "plt.title(\"$\\mathbf{w}$ from the Exact solution\");\n",
    "\n",
    "plt.figure(figsize = (6,4))\n",
    "plt.plot(SVM_.w.x)\n",
    "plt.title(\"$\\mathbf{w}$ from the ADM solution\");\n"
   ]
  },
  {
   "cell_type": "code",
   "execution_count": 29,
   "metadata": {
    "id": "7cAFkoixSMrQ"
   },
   "outputs": [],
   "source": [
    "### quick check for any mismatch between x > 0 and z = 1\n",
    "# MVO_.x.x[(MVO_.x.x > 10**(-6)).astype(int) - MVO_.z.x > 0]"
   ]
  },
  {
   "cell_type": "markdown",
   "metadata": {
    "id": "bqZncgMwh3rL"
   },
   "source": [
    "### Portfolio Comparison between exact and ADM method"
   ]
  },
  {
   "cell_type": "code",
   "execution_count": 30,
   "metadata": {
    "id": "9boOM0ZQSe30",
    "colab": {
     "base_uri": "https://localhost:8080/",
     "height": 295
    },
    "executionInfo": {
     "status": "ok",
     "timestamp": 1641763579727,
     "user_tz": 300,
     "elapsed": 486,
     "user": {
      "displayName": "Ryan Islip",
      "photoUrl": "https://lh3.googleusercontent.com/a-/AOh14GilWm_VaaGzVK5IBoUx-rWGsFz3XH3h1cea39928g=s64",
      "userId": "09447671168486293026"
     }
    },
    "outputId": "696c7eeb-2b38-404e-a58a-bd5924ed5b49"
   },
   "outputs": [
    {
     "data": {
      "text/plain": "<Figure size 640x480 with 1 Axes>",
      "image/png": "[encoded data removed]"
     },
     "metadata": {},
     "output_type": "display_data"
    }
   ],
   "source": [
    "#plt.plot(MVO_.x.x)\n",
    "plt.plot(100*(SVM_MVO_Slck.x.x - MVO_.x.x))\n",
    "plt.xlabel(\"Asset i\")\n",
    "plt.ylabel(\"$x^{{Exact}}_i - x^{{PADM}}_i$ as a percentage\");\n",
    "plt.title(\"Asset allocation differences between exact solution and ADM\");"
   ]
  },
  {
   "cell_type": "code",
   "execution_count": 31,
   "metadata": {
    "id": "I1isl83-4OwM",
    "colab": {
     "base_uri": "https://localhost:8080/",
     "height": 297
    },
    "executionInfo": {
     "status": "ok",
     "timestamp": 1641767155683,
     "user_tz": 300,
     "elapsed": 2651,
     "user": {
      "displayName": "Ryan Islip",
      "photoUrl": "https://lh3.googleusercontent.com/a-/AOh14GilWm_VaaGzVK5IBoUx-rWGsFz3XH3h1cea39928g=s64",
      "userId": "09447671168486293026"
     }
    },
    "outputId": "a76e0434-1bc8-4e69-fd4e-561836ba0768"
   },
   "outputs": [
    {
     "data": {
      "text/plain": "<Figure size 1200x400 with 1 Axes>",
      "image/png": "[encoded data removed]"
     },
     "metadata": {},
     "output_type": "display_data"
    }
   ],
   "source": [
    "out = pd.concat([SVM_MVO_Slck.get_results(), SVM_MVO_Fast.get_results()], axis = 0)\n",
    "out[out.columns[(out > 0.001).any(axis = 0)]].transpose()[:-2].plot.bar(title = 'Portfolio comparison (only including assets with positive allocation)',\\\n",
    "                                                                           xlabel = 'Assets', \\\n",
    "                                                                           ylabel = '% of Portfolio',\\\n",
    "                                                                           figsize = (12,4), width = 0.8);\n",
    "plt.tight_layout()   \n",
    "#plt.legend([\"Exact\", r\"PADM: $\\rho 1^{\\intercal}\\xi$\", r\"PADM: ${\\bf \\rho} ^{\\intercal}\\xi$\"])                    \n",
    "plt.legend([\"Exact\", r\"PADM: $\\rho 1^{\\intercal}\\xi$\"])                                                                        \n",
    "\n",
    "plt.savefig(\"Images/p5_5.svg\",dpi = dpi_setting)"
   ]
  },
  {
   "cell_type": "code",
   "execution_count": 31,
   "outputs": [],
   "source": [],
   "metadata": {
    "collapsed": false
   }
  },
  {
   "cell_type": "code",
   "execution_count": 31,
   "outputs": [],
   "source": [],
   "metadata": {
    "collapsed": false
   }
  }
 ],
 "metadata": {
  "colab": {
   "collapsed_sections": [],
   "machine_shape": "hm",
   "name": "ADM Comparison NoteBook.ipynb",
   "provenance": [],
   "mount_file_id": "1hDdRLz3mUB0Ldphf50Bl9ZWw8qHh1iP5",
   "authorship_tag": "ABX9TyOxig5jrLJFQndkaQqligvR"
  },
  "kernelspec": {
   "display_name": "Python 3",
   "name": "python3"
  },
  "language_info": {
   "name": "python"
  }
 },
 "nbformat": 4,
 "nbformat_minor": 0
}
